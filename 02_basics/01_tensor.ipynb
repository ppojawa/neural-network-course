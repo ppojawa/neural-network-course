{
  "nbformat": 4,
  "nbformat_minor": 0,
  "metadata": {
    "colab": {
      "name": "Untitled30.ipynb",
      "provenance": [],
      "include_colab_link": true
    },
    "kernelspec": {
      "name": "python3",
      "display_name": "Python 3"
    },
    "accelerator": "GPU"
  },
  "cells": [
    {
      "cell_type": "markdown",
      "metadata": {
        "id": "view-in-github",
        "colab_type": "text"
      },
      "source": [
        "<a href=\"https://colab.research.google.com/github/ppojawa/neural-network-course/blob/master/02_basics/01_tensor.ipynb\" target=\"_parent\"><img src=\"https://colab.research.google.com/assets/colab-badge.svg\" alt=\"Open In Colab\"/></a>"
      ]
    },
    {
      "cell_type": "markdown",
      "metadata": {
        "id": "RimajeFbTlL_"
      },
      "source": [
        "* @author: krakowiakpawel9@gmail.com  \n",
        "* @site: e-smartdata.org"
      ]
    },
    {
      "cell_type": "markdown",
      "metadata": {
        "id": "pl9Crb8V7DJC"
      },
      "source": [
        "### Spis treści\n",
        "1. [Import bibliotek](#a0)\n",
        "2. [Skalar](#a1)\n",
        "3. [Wektor](#a2)\n",
        "4. [Tablica ~ macierz](#a3)\n",
        "5. [Tensor](#a4)"
      ]
    },
    {
      "cell_type": "markdown",
      "metadata": {
        "id": "CkqfVl6slWDv"
      },
      "source": [
        "### <a name='a0'></a> 1. Import bibliotek"
      ]
    },
    {
      "cell_type": "code",
      "metadata": {
        "id": "_WTOYPJ7lVs5"
      },
      "source": [
        "import numpy as np"
      ],
      "execution_count": 1,
      "outputs": []
    },
    {
      "cell_type": "markdown",
      "metadata": {
        "id": "pLHn8AAxlg5f"
      },
      "source": [
        "### <a name='a1'> </a> 2. Skalar"
      ]
    },
    {
      "cell_type": "code",
      "metadata": {
        "id": "9-_4-IVClfme",
        "outputId": "8c63df1f-3f7d-456f-88ec-b0825e155ca5",
        "colab": {
          "base_uri": "https://localhost:8080/"
        }
      },
      "source": [
        "scalar = 3\n",
        "print(scalar)\n",
        "print(type(scalar))"
      ],
      "execution_count": 2,
      "outputs": [
        {
          "output_type": "stream",
          "name": "stdout",
          "text": [
            "3\n",
            "<class 'int'>\n"
          ]
        }
      ]
    },
    {
      "cell_type": "code",
      "metadata": {
        "id": "8wGfoHv88M9k",
        "outputId": "c96e07eb-3ca2-4ec5-b2fe-28ddebe276b2",
        "colab": {
          "base_uri": "https://localhost:8080/"
        }
      },
      "source": [
        "scalar = 3.0\n",
        "print(scalar)\n",
        "print(type(scalar))"
      ],
      "execution_count": 3,
      "outputs": [
        {
          "output_type": "stream",
          "name": "stdout",
          "text": [
            "3.0\n",
            "<class 'float'>\n"
          ]
        }
      ]
    },
    {
      "cell_type": "markdown",
      "metadata": {
        "id": "Qcvj78eemPGF"
      },
      "source": [
        "### <a name='a2'> </a> 3. Wektor"
      ]
    },
    {
      "cell_type": "code",
      "metadata": {
        "id": "_qWeeuEXlgIn",
        "outputId": "c9c14da3-0f56-4d05-a37e-47df2b915e24",
        "colab": {
          "base_uri": "https://localhost:8080/"
        }
      },
      "source": [
        "vector = np.array([2, 4, -6, 5])\n",
        "print(vector)\n",
        "print(type(vector))\n",
        "print(f'Rozmiar wektora: {vector.shape}')\n",
        "print(f'Typ danych wektora: {vector.dtype}')\n",
        "print(f'Rząd: {vector.ndim}')\n",
        "print(f'Długość: {len(vector)}')"
      ],
      "execution_count": 4,
      "outputs": [
        {
          "output_type": "stream",
          "name": "stdout",
          "text": [
            "[ 2  4 -6  5]\n",
            "<class 'numpy.ndarray'>\n",
            "Rozmiar wektora: (4,)\n",
            "Typ danych wektora: int64\n",
            "Rząd: 1\n",
            "Długość: 4\n"
          ]
        }
      ]
    },
    {
      "cell_type": "code",
      "metadata": {
        "id": "SLC9_Tr18XoS",
        "outputId": "963ef7ae-2e3e-43da-9eb3-7b646ed0beee",
        "colab": {
          "base_uri": "https://localhost:8080/"
        }
      },
      "source": [
        "vector = np.array([2, 4, -6, 5], dtype='float')\n",
        "print(vector)\n",
        "print(f'Typ danych wektora: {vector.dtype}')\n"
      ],
      "execution_count": 5,
      "outputs": [
        {
          "output_type": "stream",
          "name": "stdout",
          "text": [
            "[ 2.  4. -6.  5.]\n",
            "Typ danych wektora: float64\n"
          ]
        }
      ]
    },
    {
      "cell_type": "markdown",
      "metadata": {
        "id": "RWoPx0u_my07"
      },
      "source": [
        "### <a name='a3'> </a> 4.Tablica ~ Macierz"
      ]
    },
    {
      "cell_type": "code",
      "metadata": {
        "id": "DB3HvPORmZn0",
        "outputId": "b443d0d5-d868-4a90-bd39-1e2360ea13d7",
        "colab": {
          "base_uri": "https://localhost:8080/"
        }
      },
      "source": [
        "array = np.array([[2, 6, 3],\n",
        "                  [5, -3, 4]])\n",
        "print(array)\n",
        "print(type(array))\n",
        "print(f'Rozmiar macierzy: {array.shape}')\n",
        "print(f'Typ danych macierzy: {array.dtype}')\n",
        "print(f'Rząd: {array.ndim}')\n",
        "print(f'Długosc: {len(array)}')"
      ],
      "execution_count": 6,
      "outputs": [
        {
          "output_type": "stream",
          "name": "stdout",
          "text": [
            "[[ 2  6  3]\n",
            " [ 5 -3  4]]\n",
            "<class 'numpy.ndarray'>\n",
            "Rozmiar macierzy: (2, 3)\n",
            "Typ danych macierzy: int64\n",
            "Rząd: 2\n",
            "Długosc: 2\n"
          ]
        }
      ]
    },
    {
      "cell_type": "code",
      "metadata": {
        "id": "1FCcwxPA9QnP",
        "outputId": "74631f29-6ec9-45af-b476-3bb3345612b2",
        "colab": {
          "base_uri": "https://localhost:8080/"
        }
      },
      "source": [
        "array = np.array([[2, 6, 3],\n",
        "                  [5, 3, 4],\n",
        "                  [4, 2, 1]], dtype='float')\n",
        "print(array)\n",
        "print(f'Rozmiar macierzy: {array.shape}')\n",
        "print(f'Typ danych macierzy: {array.dtype}')\n",
        "print(f'Rząd: {array.ndim}')\n",
        "print(f'Długosc: {len(array)}')"
      ],
      "execution_count": 8,
      "outputs": [
        {
          "output_type": "stream",
          "name": "stdout",
          "text": [
            "[[2. 6. 3.]\n",
            " [5. 3. 4.]\n",
            " [4. 2. 1.]]\n",
            "Rozmiar macierzy: (3, 3)\n",
            "Typ danych macierzy: float64\n",
            "Rząd: 2\n",
            "Długosc: 3\n"
          ]
        }
      ]
    },
    {
      "cell_type": "markdown",
      "metadata": {
        "id": "1ytwRCbmwZJm"
      },
      "source": [
        "### <a name='a4'> </a> 5. Tensor"
      ]
    },
    {
      "cell_type": "code",
      "metadata": {
        "id": "l1fU34EZqB5P",
        "outputId": "fdfc14e4-b882-46e5-af19-4aeba1abaf78",
        "colab": {
          "base_uri": "https://localhost:8080/"
        }
      },
      "source": [
        "tensor = np.array([\n",
        "    [[1, 2, 3],\n",
        "     [4, 5, 6]],\n",
        "    [[7, 8, 9],\n",
        "     [3, 7, 3]]\n",
        "])\n",
        "\n",
        "print(tensor)\n",
        "print(type(tensor))\n",
        "print(f'Rozmiar macierzy: {tensor.shape}')\n",
        "print(f'Typ danych macierzy: {tensor.dtype}')\n",
        "print(f'Rząd: {tensor.ndim}')\n",
        "print(f'Długosc: {len(tensor)}')"
      ],
      "execution_count": 9,
      "outputs": [
        {
          "output_type": "stream",
          "name": "stdout",
          "text": [
            "[[[1 2 3]\n",
            "  [4 5 6]]\n",
            "\n",
            " [[7 8 9]\n",
            "  [3 7 3]]]\n",
            "<class 'numpy.ndarray'>\n",
            "Rozmiar macierzy: (2, 2, 3)\n",
            "Typ danych macierzy: int64\n",
            "Rząd: 3\n",
            "Długosc: 2\n"
          ]
        }
      ]
    },
    {
      "cell_type": "code",
      "metadata": {
        "id": "0VeCFi0uuwcj",
        "outputId": "bc3639f9-b826-4b24-9148-3235ecacff4b",
        "colab": {
          "base_uri": "https://localhost:8080/"
        }
      },
      "source": [
        "tensor = np.array([\n",
        "    [[1, 2, 3],\n",
        "     [4, 5, 6]],\n",
        "    [[7, 8, 9],\n",
        "     [3, 7, 3]],\n",
        "    [[2, 3, 5],\n",
        "     [7, 2, 5]]\n",
        "])\n",
        "\n",
        "print(tensor)\n",
        "print(type(tensor))\n",
        "print(f'Rozmiar macierzy: {tensor.shape}')\n",
        "print(f'Typ danych macierzy: {tensor.dtype}')\n",
        "print(f'Rząd: {tensor.ndim}')\n",
        "print(f'Długosc: {len(tensor)}')"
      ],
      "execution_count": 10,
      "outputs": [
        {
          "output_type": "stream",
          "name": "stdout",
          "text": [
            "[[[1 2 3]\n",
            "  [4 5 6]]\n",
            "\n",
            " [[7 8 9]\n",
            "  [3 7 3]]\n",
            "\n",
            " [[2 3 5]\n",
            "  [7 2 5]]]\n",
            "<class 'numpy.ndarray'>\n",
            "Rozmiar macierzy: (3, 2, 3)\n",
            "Typ danych macierzy: int64\n",
            "Rząd: 3\n",
            "Długosc: 3\n"
          ]
        }
      ]
    },
    {
      "cell_type": "code",
      "metadata": {
        "id": "1FA_o1KXwfcO",
        "outputId": "70945919-50ff-44db-ce5d-12ad5db6dca8",
        "colab": {
          "base_uri": "https://localhost:8080/"
        }
      },
      "source": [
        "tensor = np.array([\n",
        "    [[1, 2, 3, 4],\n",
        "     [4, 5, 6, 4],\n",
        "     [4, 2, 5, 2]],\n",
        "    [[7, 8, 9, 8],\n",
        "     [3, 7, 3, 9],\n",
        "     [5, 2, 4, 3]],\n",
        "    [[2, 3, 5, 4],\n",
        "     [7, 2, 5, 1],\n",
        "     [8, 2, 7, 2]],\n",
        "    [[2, 3, 5, 7],\n",
        "     [7, 2, 5, 9],\n",
        "     [8, 2, 7, 0]],\n",
        "    [[2, 3, 5, 7],\n",
        "     [7, 2, 5, 9],\n",
        "     [8, 2, 7, 0]]\n",
        "])\n",
        "\n",
        "print(tensor)\n",
        "print(type(tensor))\n",
        "print(f'Rozmiar macierzy: {tensor.shape}')\n",
        "print(f'Typ danych macierzy: {tensor.dtype}')\n",
        "print(f'Rząd: {tensor.ndim}')\n",
        "print(f'Długosc: {len(tensor)}')"
      ],
      "execution_count": 11,
      "outputs": [
        {
          "output_type": "stream",
          "name": "stdout",
          "text": [
            "[[[1 2 3 4]\n",
            "  [4 5 6 4]\n",
            "  [4 2 5 2]]\n",
            "\n",
            " [[7 8 9 8]\n",
            "  [3 7 3 9]\n",
            "  [5 2 4 3]]\n",
            "\n",
            " [[2 3 5 4]\n",
            "  [7 2 5 1]\n",
            "  [8 2 7 2]]\n",
            "\n",
            " [[2 3 5 7]\n",
            "  [7 2 5 9]\n",
            "  [8 2 7 0]]\n",
            "\n",
            " [[2 3 5 7]\n",
            "  [7 2 5 9]\n",
            "  [8 2 7 0]]]\n",
            "<class 'numpy.ndarray'>\n",
            "Rozmiar macierzy: (5, 3, 4)\n",
            "Typ danych macierzy: int64\n",
            "Rząd: 3\n",
            "Długosc: 5\n"
          ]
        }
      ]
    },
    {
      "cell_type": "code",
      "metadata": {
        "id": "xc0yqHl19-I5",
        "outputId": "d5cc9061-5365-4b5c-8a37-410dc3d489cf",
        "colab": {
          "base_uri": "https://localhost:8080/"
        }
      },
      "source": [
        "tensor"
      ],
      "execution_count": 12,
      "outputs": [
        {
          "output_type": "execute_result",
          "data": {
            "text/plain": [
              "array([[[1, 2, 3, 4],\n",
              "        [4, 5, 6, 4],\n",
              "        [4, 2, 5, 2]],\n",
              "\n",
              "       [[7, 8, 9, 8],\n",
              "        [3, 7, 3, 9],\n",
              "        [5, 2, 4, 3]],\n",
              "\n",
              "       [[2, 3, 5, 4],\n",
              "        [7, 2, 5, 1],\n",
              "        [8, 2, 7, 2]],\n",
              "\n",
              "       [[2, 3, 5, 7],\n",
              "        [7, 2, 5, 9],\n",
              "        [8, 2, 7, 0]],\n",
              "\n",
              "       [[2, 3, 5, 7],\n",
              "        [7, 2, 5, 9],\n",
              "        [8, 2, 7, 0]]])"
            ]
          },
          "metadata": {},
          "execution_count": 12
        }
      ]
    },
    {
      "cell_type": "code",
      "metadata": {
        "id": "g5-Jsx0ww6BH",
        "outputId": "24f4c610-5250-44b0-e7b5-23ea4d47c8f2",
        "colab": {
          "base_uri": "https://localhost:8080/"
        }
      },
      "source": [
        "tensor[0]"
      ],
      "execution_count": 13,
      "outputs": [
        {
          "output_type": "execute_result",
          "data": {
            "text/plain": [
              "array([[1, 2, 3, 4],\n",
              "       [4, 5, 6, 4],\n",
              "       [4, 2, 5, 2]])"
            ]
          },
          "metadata": {},
          "execution_count": 13
        }
      ]
    },
    {
      "cell_type": "code",
      "metadata": {
        "id": "9AUo01Hq98DM",
        "outputId": "fbc33984-f0f7-44c6-b3a0-844caf87701d",
        "colab": {
          "base_uri": "https://localhost:8080/"
        }
      },
      "source": [
        "tensor[0:2]"
      ],
      "execution_count": 14,
      "outputs": [
        {
          "output_type": "execute_result",
          "data": {
            "text/plain": [
              "array([[[1, 2, 3, 4],\n",
              "        [4, 5, 6, 4],\n",
              "        [4, 2, 5, 2]],\n",
              "\n",
              "       [[7, 8, 9, 8],\n",
              "        [3, 7, 3, 9],\n",
              "        [5, 2, 4, 3]]])"
            ]
          },
          "metadata": {},
          "execution_count": 14
        }
      ]
    }
  ]
}