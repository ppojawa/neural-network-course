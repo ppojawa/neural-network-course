{
  "nbformat": 4,
  "nbformat_minor": 0,
  "metadata": {
    "colab": {
      "name": "Untitled0.ipynb",
      "provenance": [],
      "include_colab_link": true
    },
    "kernelspec": {
      "name": "python3",
      "display_name": "Python 3"
    }
  },
  "cells": [
    {
      "cell_type": "markdown",
      "metadata": {
        "id": "view-in-github",
        "colab_type": "text"
      },
      "source": [
        "<a href=\"https://colab.research.google.com/github/ppojawa/neural-network-course/blob/master/03_keras/01_intro.ipynb\" target=\"_parent\"><img src=\"https://colab.research.google.com/assets/colab-badge.svg\" alt=\"Open In Colab\"/></a>"
      ]
    },
    {
      "cell_type": "markdown",
      "metadata": {
        "id": "BdI2tQJuUWXG"
      },
      "source": [
        "* @author: krakowiakpawel9@gmail.com  \n",
        "* @site: e-smartdata.org"
      ]
    },
    {
      "cell_type": "markdown",
      "metadata": {
        "id": "tC7wD4aySZKb"
      },
      "source": [
        "### Model sekwencjny (Sequential Model):\n",
        "1. [Wprowadzenie - pierwszy model](#a0)\n",
        "2. [Funkcje aktywacji](#a1)\n",
        "3. [Kompilacja modelu](#a2)\n",
        "4. [Trenowanie modelu](#a3)\n",
        "5. [Przykład - klasyfikacja binarna](#a4)\n",
        "6. [Przykład - klasyfikacja wieloklasowa](#a5)\n",
        "7. [Przykład - regresja](#a6)\n",
        "\n",
        "\n",
        "\n",
        "Konfiguracja środowiska\n"
      ]
    },
    {
      "cell_type": "code",
      "metadata": {
        "id": "LRMG5fQ2EZYz",
        "outputId": "a3ce7978-918b-4ffc-89bc-47c1426a4dec",
        "colab": {
          "base_uri": "https://localhost:8080/"
        }
      },
      "source": [
        "# Przygotowanie środowiska do pracy z Tensorflow 2.0.\n",
        "# Jeśli otrzymasz błąd podczas instalacji Tensorflow uruchom tę komórkę raz jeszcze.\n",
        "\n",
        "!pip uninstall -y tensorflow\n",
        "!pip install -q tensorflow==2.0.0"
      ],
      "execution_count": 1,
      "outputs": [
        {
          "output_type": "stream",
          "name": "stdout",
          "text": [
            "Found existing installation: tensorflow 2.15.0\n",
            "Uninstalling tensorflow-2.15.0:\n",
            "\u001b[31mERROR: Operation cancelled by user\u001b[0m\u001b[31m\n",
            "\u001b[0m\u001b[33mWARNING: Ignoring invalid distribution -ensorflow (/usr/local/lib/python3.10/dist-packages)\u001b[0m\u001b[33m\n",
            "\u001b[0m^C\n"
          ]
        }
      ]
    },
    {
      "cell_type": "code",
      "metadata": {
        "id": "3SPURJyPQOpj",
        "colab": {
          "base_uri": "https://localhost:8080/",
          "height": 36
        },
        "outputId": "32ad16da-bb8d-4dcc-dae6-bf237cb601fc"
      },
      "source": [
        "import tensorflow as tf\n",
        "import numpy as np\n",
        "import pandas as pd\n",
        "import plotly.express as px\n",
        "tf.__version__"
      ],
      "execution_count": 1,
      "outputs": [
        {
          "output_type": "execute_result",
          "data": {
            "text/plain": [
              "'2.15.0'"
            ],
            "application/vnd.google.colaboratory.intrinsic+json": {
              "type": "string"
            }
          },
          "metadata": {},
          "execution_count": 1
        }
      ]
    },
    {
      "cell_type": "markdown",
      "metadata": {
        "id": "x0HF8UIRTBmC"
      },
      "source": [
        "### <a name='a0'></a>Wprowadzenie - pierwszy model\n",
        "Model sekwencyjny to nic innego jak liniowy stos warstw."
      ]
    },
    {
      "cell_type": "code",
      "metadata": {
        "id": "y5qY8AQsTeGX",
        "colab": {
          "base_uri": "https://localhost:8080/"
        },
        "outputId": "2d063e6f-957b-4970-b03b-ffe2d68687a5"
      },
      "source": [
        "# utworzenie instancji klasy Sequential\n",
        "from tensorflow.keras.models import Sequential\n",
        "\n",
        "model = Sequential()\n",
        "print(model)"
      ],
      "execution_count": 2,
      "outputs": [
        {
          "output_type": "stream",
          "name": "stdout",
          "text": [
            "<keras.src.engine.sequential.Sequential object at 0x7ee217b70df0>\n"
          ]
        }
      ]
    },
    {
      "cell_type": "markdown",
      "metadata": {
        "id": "yqtUKjKaTyxQ"
      },
      "source": [
        "Podstawowym elementem składowym modelu są warstwy. Aby dodać najbardziej standardową warstwę - warstwę gęsto połączoną należy użyć warstwy **Dense**. Aby dodać warstwę do modelu należy użyć metody *.add()*"
      ]
    },
    {
      "cell_type": "code",
      "metadata": {
        "id": "CiMQRZUMTv8f"
      },
      "source": [
        "from tensorflow.keras.layers import Dense\n",
        "\n",
        "model.add(Dense(units=4, input_shape=(10,)))"
      ],
      "execution_count": 3,
      "outputs": []
    },
    {
      "cell_type": "markdown",
      "metadata": {
        "id": "s4q14zW-XOU4"
      },
      "source": [
        "Wyświetlenie podsumowania modelu: metoda *.summary()*"
      ]
    },
    {
      "cell_type": "code",
      "metadata": {
        "id": "HAReYZ98UXtC",
        "colab": {
          "base_uri": "https://localhost:8080/"
        },
        "outputId": "8fc9775f-7805-43b8-93e3-182d99cbd1f8"
      },
      "source": [
        "model.summary()"
      ],
      "execution_count": 4,
      "outputs": [
        {
          "output_type": "stream",
          "name": "stdout",
          "text": [
            "Model: \"sequential\"\n",
            "_________________________________________________________________\n",
            " Layer (type)                Output Shape              Param #   \n",
            "=================================================================\n",
            " dense (Dense)               (None, 4)                 44        \n",
            "                                                                 \n",
            "=================================================================\n",
            "Total params: 44 (176.00 Byte)\n",
            "Trainable params: 44 (176.00 Byte)\n",
            "Non-trainable params: 0 (0.00 Byte)\n",
            "_________________________________________________________________\n"
          ]
        }
      ]
    },
    {
      "cell_type": "markdown",
      "metadata": {
        "id": "izZi_Eu2Xjcl"
      },
      "source": [
        "Dodanie kolejnej warstwy"
      ]
    },
    {
      "cell_type": "code",
      "metadata": {
        "id": "HD17lS82Uk7Y",
        "colab": {
          "base_uri": "https://localhost:8080/"
        },
        "outputId": "e1860d82-450c-4912-809a-e4e46c42dfa8"
      },
      "source": [
        "model.add(Dense(units=2))\n",
        "\n",
        "model.summary()"
      ],
      "execution_count": 5,
      "outputs": [
        {
          "output_type": "stream",
          "name": "stdout",
          "text": [
            "Model: \"sequential\"\n",
            "_________________________________________________________________\n",
            " Layer (type)                Output Shape              Param #   \n",
            "=================================================================\n",
            " dense (Dense)               (None, 4)                 44        \n",
            "                                                                 \n",
            " dense_1 (Dense)             (None, 2)                 10        \n",
            "                                                                 \n",
            "=================================================================\n",
            "Total params: 54 (216.00 Byte)\n",
            "Trainable params: 54 (216.00 Byte)\n",
            "Non-trainable params: 0 (0.00 Byte)\n",
            "_________________________________________________________________\n"
          ]
        }
      ]
    },
    {
      "cell_type": "markdown",
      "metadata": {
        "id": "yh_gui1wZCH2"
      },
      "source": [
        "### <a name='a1'></a>Funkcje aktywacji\n",
        "Istotnym elemenem sieci neuronowych jest dobór odpowiednich funkcji aktywacji. Funkcje aktywacji jak sama nazwa wskazuje są odpowiedzialne za aktywowanie odpowiednich neuronów podczas procesu uczenia.\n",
        "\n",
        "Jeżeli nie określimy podczas dodawania warstwy funkcji aktywacji, domyślnie stosowana jest liniowa funkcja aktywacji, tzn. $a(x)=x$\n",
        "\n",
        "Warstwa z liniową funkcją aktywacji może uczyć się tylko liniowych przekształceń danych wejściowych. Dlatego stosuje się różne funkcje aktywacji aby rozwiazywać problemy nieliniowe.\n",
        "\n",
        "[Keras: Funkcje aktywacji](https://keras.io/activations/)"
      ]
    },
    {
      "cell_type": "code",
      "metadata": {
        "id": "obfM5ho7ZmMy",
        "colab": {
          "base_uri": "https://localhost:8080/",
          "height": 206
        },
        "outputId": "16d42984-4c8a-435b-b2b9-b29a05eae18c"
      },
      "source": [
        "from tensorflow.keras.activations import linear\n",
        "\n",
        "random_data = sorted(np.random.randn(200))\n",
        "data = pd.DataFrame({'data': random_data, 'linear': linear(random_data)})\n",
        "data.head()"
      ],
      "execution_count": 6,
      "outputs": [
        {
          "output_type": "execute_result",
          "data": {
            "text/plain": [
              "       data    linear\n",
              "0 -2.417708 -2.417708\n",
              "1 -2.201454 -2.201454\n",
              "2 -2.191922 -2.191922\n",
              "3 -1.945960 -1.945960\n",
              "4 -1.937121 -1.937121"
            ],
            "text/html": [
              "\n",
              "  <div id=\"df-c9aa792c-1383-4158-8d5d-fb4a42d2078c\" class=\"colab-df-container\">\n",
              "    <div>\n",
              "<style scoped>\n",
              "    .dataframe tbody tr th:only-of-type {\n",
              "        vertical-align: middle;\n",
              "    }\n",
              "\n",
              "    .dataframe tbody tr th {\n",
              "        vertical-align: top;\n",
              "    }\n",
              "\n",
              "    .dataframe thead th {\n",
              "        text-align: right;\n",
              "    }\n",
              "</style>\n",
              "<table border=\"1\" class=\"dataframe\">\n",
              "  <thead>\n",
              "    <tr style=\"text-align: right;\">\n",
              "      <th></th>\n",
              "      <th>data</th>\n",
              "      <th>linear</th>\n",
              "    </tr>\n",
              "  </thead>\n",
              "  <tbody>\n",
              "    <tr>\n",
              "      <th>0</th>\n",
              "      <td>-2.417708</td>\n",
              "      <td>-2.417708</td>\n",
              "    </tr>\n",
              "    <tr>\n",
              "      <th>1</th>\n",
              "      <td>-2.201454</td>\n",
              "      <td>-2.201454</td>\n",
              "    </tr>\n",
              "    <tr>\n",
              "      <th>2</th>\n",
              "      <td>-2.191922</td>\n",
              "      <td>-2.191922</td>\n",
              "    </tr>\n",
              "    <tr>\n",
              "      <th>3</th>\n",
              "      <td>-1.945960</td>\n",
              "      <td>-1.945960</td>\n",
              "    </tr>\n",
              "    <tr>\n",
              "      <th>4</th>\n",
              "      <td>-1.937121</td>\n",
              "      <td>-1.937121</td>\n",
              "    </tr>\n",
              "  </tbody>\n",
              "</table>\n",
              "</div>\n",
              "    <div class=\"colab-df-buttons\">\n",
              "\n",
              "  <div class=\"colab-df-container\">\n",
              "    <button class=\"colab-df-convert\" onclick=\"convertToInteractive('df-c9aa792c-1383-4158-8d5d-fb4a42d2078c')\"\n",
              "            title=\"Convert this dataframe to an interactive table.\"\n",
              "            style=\"display:none;\">\n",
              "\n",
              "  <svg xmlns=\"http://www.w3.org/2000/svg\" height=\"24px\" viewBox=\"0 -960 960 960\">\n",
              "    <path d=\"M120-120v-720h720v720H120Zm60-500h600v-160H180v160Zm220 220h160v-160H400v160Zm0 220h160v-160H400v160ZM180-400h160v-160H180v160Zm440 0h160v-160H620v160ZM180-180h160v-160H180v160Zm440 0h160v-160H620v160Z\"/>\n",
              "  </svg>\n",
              "    </button>\n",
              "\n",
              "  <style>\n",
              "    .colab-df-container {\n",
              "      display:flex;\n",
              "      gap: 12px;\n",
              "    }\n",
              "\n",
              "    .colab-df-convert {\n",
              "      background-color: #E8F0FE;\n",
              "      border: none;\n",
              "      border-radius: 50%;\n",
              "      cursor: pointer;\n",
              "      display: none;\n",
              "      fill: #1967D2;\n",
              "      height: 32px;\n",
              "      padding: 0 0 0 0;\n",
              "      width: 32px;\n",
              "    }\n",
              "\n",
              "    .colab-df-convert:hover {\n",
              "      background-color: #E2EBFA;\n",
              "      box-shadow: 0px 1px 2px rgba(60, 64, 67, 0.3), 0px 1px 3px 1px rgba(60, 64, 67, 0.15);\n",
              "      fill: #174EA6;\n",
              "    }\n",
              "\n",
              "    .colab-df-buttons div {\n",
              "      margin-bottom: 4px;\n",
              "    }\n",
              "\n",
              "    [theme=dark] .colab-df-convert {\n",
              "      background-color: #3B4455;\n",
              "      fill: #D2E3FC;\n",
              "    }\n",
              "\n",
              "    [theme=dark] .colab-df-convert:hover {\n",
              "      background-color: #434B5C;\n",
              "      box-shadow: 0px 1px 3px 1px rgba(0, 0, 0, 0.15);\n",
              "      filter: drop-shadow(0px 1px 2px rgba(0, 0, 0, 0.3));\n",
              "      fill: #FFFFFF;\n",
              "    }\n",
              "  </style>\n",
              "\n",
              "    <script>\n",
              "      const buttonEl =\n",
              "        document.querySelector('#df-c9aa792c-1383-4158-8d5d-fb4a42d2078c button.colab-df-convert');\n",
              "      buttonEl.style.display =\n",
              "        google.colab.kernel.accessAllowed ? 'block' : 'none';\n",
              "\n",
              "      async function convertToInteractive(key) {\n",
              "        const element = document.querySelector('#df-c9aa792c-1383-4158-8d5d-fb4a42d2078c');\n",
              "        const dataTable =\n",
              "          await google.colab.kernel.invokeFunction('convertToInteractive',\n",
              "                                                    [key], {});\n",
              "        if (!dataTable) return;\n",
              "\n",
              "        const docLinkHtml = 'Like what you see? Visit the ' +\n",
              "          '<a target=\"_blank\" href=https://colab.research.google.com/notebooks/data_table.ipynb>data table notebook</a>'\n",
              "          + ' to learn more about interactive tables.';\n",
              "        element.innerHTML = '';\n",
              "        dataTable['output_type'] = 'display_data';\n",
              "        await google.colab.output.renderOutput(dataTable, element);\n",
              "        const docLink = document.createElement('div');\n",
              "        docLink.innerHTML = docLinkHtml;\n",
              "        element.appendChild(docLink);\n",
              "      }\n",
              "    </script>\n",
              "  </div>\n",
              "\n",
              "\n",
              "<div id=\"df-d6b6ce78-a6bd-4fc9-956b-6bd98b32f1e1\">\n",
              "  <button class=\"colab-df-quickchart\" onclick=\"quickchart('df-d6b6ce78-a6bd-4fc9-956b-6bd98b32f1e1')\"\n",
              "            title=\"Suggest charts\"\n",
              "            style=\"display:none;\">\n",
              "\n",
              "<svg xmlns=\"http://www.w3.org/2000/svg\" height=\"24px\"viewBox=\"0 0 24 24\"\n",
              "     width=\"24px\">\n",
              "    <g>\n",
              "        <path d=\"M19 3H5c-1.1 0-2 .9-2 2v14c0 1.1.9 2 2 2h14c1.1 0 2-.9 2-2V5c0-1.1-.9-2-2-2zM9 17H7v-7h2v7zm4 0h-2V7h2v10zm4 0h-2v-4h2v4z\"/>\n",
              "    </g>\n",
              "</svg>\n",
              "  </button>\n",
              "\n",
              "<style>\n",
              "  .colab-df-quickchart {\n",
              "      --bg-color: #E8F0FE;\n",
              "      --fill-color: #1967D2;\n",
              "      --hover-bg-color: #E2EBFA;\n",
              "      --hover-fill-color: #174EA6;\n",
              "      --disabled-fill-color: #AAA;\n",
              "      --disabled-bg-color: #DDD;\n",
              "  }\n",
              "\n",
              "  [theme=dark] .colab-df-quickchart {\n",
              "      --bg-color: #3B4455;\n",
              "      --fill-color: #D2E3FC;\n",
              "      --hover-bg-color: #434B5C;\n",
              "      --hover-fill-color: #FFFFFF;\n",
              "      --disabled-bg-color: #3B4455;\n",
              "      --disabled-fill-color: #666;\n",
              "  }\n",
              "\n",
              "  .colab-df-quickchart {\n",
              "    background-color: var(--bg-color);\n",
              "    border: none;\n",
              "    border-radius: 50%;\n",
              "    cursor: pointer;\n",
              "    display: none;\n",
              "    fill: var(--fill-color);\n",
              "    height: 32px;\n",
              "    padding: 0;\n",
              "    width: 32px;\n",
              "  }\n",
              "\n",
              "  .colab-df-quickchart:hover {\n",
              "    background-color: var(--hover-bg-color);\n",
              "    box-shadow: 0 1px 2px rgba(60, 64, 67, 0.3), 0 1px 3px 1px rgba(60, 64, 67, 0.15);\n",
              "    fill: var(--button-hover-fill-color);\n",
              "  }\n",
              "\n",
              "  .colab-df-quickchart-complete:disabled,\n",
              "  .colab-df-quickchart-complete:disabled:hover {\n",
              "    background-color: var(--disabled-bg-color);\n",
              "    fill: var(--disabled-fill-color);\n",
              "    box-shadow: none;\n",
              "  }\n",
              "\n",
              "  .colab-df-spinner {\n",
              "    border: 2px solid var(--fill-color);\n",
              "    border-color: transparent;\n",
              "    border-bottom-color: var(--fill-color);\n",
              "    animation:\n",
              "      spin 1s steps(1) infinite;\n",
              "  }\n",
              "\n",
              "  @keyframes spin {\n",
              "    0% {\n",
              "      border-color: transparent;\n",
              "      border-bottom-color: var(--fill-color);\n",
              "      border-left-color: var(--fill-color);\n",
              "    }\n",
              "    20% {\n",
              "      border-color: transparent;\n",
              "      border-left-color: var(--fill-color);\n",
              "      border-top-color: var(--fill-color);\n",
              "    }\n",
              "    30% {\n",
              "      border-color: transparent;\n",
              "      border-left-color: var(--fill-color);\n",
              "      border-top-color: var(--fill-color);\n",
              "      border-right-color: var(--fill-color);\n",
              "    }\n",
              "    40% {\n",
              "      border-color: transparent;\n",
              "      border-right-color: var(--fill-color);\n",
              "      border-top-color: var(--fill-color);\n",
              "    }\n",
              "    60% {\n",
              "      border-color: transparent;\n",
              "      border-right-color: var(--fill-color);\n",
              "    }\n",
              "    80% {\n",
              "      border-color: transparent;\n",
              "      border-right-color: var(--fill-color);\n",
              "      border-bottom-color: var(--fill-color);\n",
              "    }\n",
              "    90% {\n",
              "      border-color: transparent;\n",
              "      border-bottom-color: var(--fill-color);\n",
              "    }\n",
              "  }\n",
              "</style>\n",
              "\n",
              "  <script>\n",
              "    async function quickchart(key) {\n",
              "      const quickchartButtonEl =\n",
              "        document.querySelector('#' + key + ' button');\n",
              "      quickchartButtonEl.disabled = true;  // To prevent multiple clicks.\n",
              "      quickchartButtonEl.classList.add('colab-df-spinner');\n",
              "      try {\n",
              "        const charts = await google.colab.kernel.invokeFunction(\n",
              "            'suggestCharts', [key], {});\n",
              "      } catch (error) {\n",
              "        console.error('Error during call to suggestCharts:', error);\n",
              "      }\n",
              "      quickchartButtonEl.classList.remove('colab-df-spinner');\n",
              "      quickchartButtonEl.classList.add('colab-df-quickchart-complete');\n",
              "    }\n",
              "    (() => {\n",
              "      let quickchartButtonEl =\n",
              "        document.querySelector('#df-d6b6ce78-a6bd-4fc9-956b-6bd98b32f1e1 button');\n",
              "      quickchartButtonEl.style.display =\n",
              "        google.colab.kernel.accessAllowed ? 'block' : 'none';\n",
              "    })();\n",
              "  </script>\n",
              "</div>\n",
              "    </div>\n",
              "  </div>\n"
            ]
          },
          "metadata": {},
          "execution_count": 6
        }
      ]
    },
    {
      "cell_type": "code",
      "metadata": {
        "id": "SsbhlfGgesjV",
        "colab": {
          "base_uri": "https://localhost:8080/",
          "height": 542
        },
        "outputId": "53943290-5f7b-4c01-ed52-1aa0bb826cbd"
      },
      "source": [
        "px.line(data, x='data', y='linear', width=800, range_y=[-2, 2])"
      ],
      "execution_count": 7,
      "outputs": [
        {
          "output_type": "display_data",
          "data": {
            "text/html": [
              "<html>\n",
              "<head><meta charset=\"utf-8\" /></head>\n",
              "<body>\n",
              "    <div>            <script src=\"https://cdnjs.cloudflare.com/ajax/libs/mathjax/2.7.5/MathJax.js?config=TeX-AMS-MML_SVG\"></script><script type=\"text/javascript\">if (window.MathJax && window.MathJax.Hub && window.MathJax.Hub.Config) {window.MathJax.Hub.Config({SVG: {font: \"STIX-Web\"}});}</script>                <script type=\"text/javascript\">window.PlotlyConfig = {MathJaxConfig: 'local'};</script>\n",
              "        <script charset=\"utf-8\" src=\"https://cdn.plot.ly/plotly-2.24.1.min.js\"></script>                <div id=\"ded9c1a9-8001-4e66-bfb8-4b952eefc649\" class=\"plotly-graph-div\" style=\"height:525px; width:800px;\"></div>            <script type=\"text/javascript\">                                    window.PLOTLYENV=window.PLOTLYENV || {};                                    if (document.getElementById(\"ded9c1a9-8001-4e66-bfb8-4b952eefc649\")) {                    Plotly.newPlot(                        \"ded9c1a9-8001-4e66-bfb8-4b952eefc649\",                        [{\"hovertemplate\":\"data=%{x}\\u003cbr\\u003elinear=%{y}\\u003cextra\\u003e\\u003c\\u002fextra\\u003e\",\"legendgroup\":\"\",\"line\":{\"color\":\"#636efa\",\"dash\":\"solid\"},\"marker\":{\"symbol\":\"circle\"},\"mode\":\"lines\",\"name\":\"\",\"orientation\":\"v\",\"showlegend\":false,\"x\":[-2.4177075765730365,-2.2014540382103522,-2.1919215196822757,-1.945960412603987,-1.9371208047403639,-1.9262690097299664,-1.8952007921704277,-1.827233046645929,-1.7881819304836906,-1.7816735128395325,-1.7353652851277783,-1.6035301731897873,-1.5441942359950864,-1.542717322848065,-1.5407095901455197,-1.5341295773002253,-1.530845545537666,-1.5107151993560308,-1.4404271532297601,-1.4094558999283302,-1.3914693019800837,-1.385488733995049,-1.3730128475551733,-1.3446459572266158,-1.30174951354741,-1.106543456135352,-1.0698315373121998,-1.0194925048670147,-1.0071498307741245,-1.002535480833112,-0.9614957037956642,-0.9540843584526603,-0.8933954394013824,-0.8859838045043817,-0.8717695745625017,-0.8434414780804742,-0.8335416570432329,-0.8206565371116838,-0.8138792911208816,-0.8087702771809724,-0.8063888341343376,-0.788039139887224,-0.7777916129103932,-0.7712455121354176,-0.754716568854277,-0.7535517154058312,-0.736032315535861,-0.6882450823854142,-0.6675567252844008,-0.6568865474305049,-0.6391640906689134,-0.5578898182117188,-0.5506909565327969,-0.5475431285451019,-0.544927176744271,-0.5325375881574888,-0.532216099852221,-0.5316309161110093,-0.5287160080638958,-0.4950937056642926,-0.4455946666024168,-0.43939176197618174,-0.4254915093273374,-0.42154298978213145,-0.41797112441948636,-0.4115555876191908,-0.3995757700372958,-0.3829183778327604,-0.36662840443021033,-0.34852458955726995,-0.33977646711358506,-0.3128142406177238,-0.2846788926336458,-0.27407356794223475,-0.25472717498964054,-0.24314903209713143,-0.23994386507712945,-0.2364628365623422,-0.22574898921510728,-0.20994178257925825,-0.20626417574129335,-0.19602691052533164,-0.18572912528685429,-0.18031905911163235,-0.159849679733065,-0.15596847563591384,-0.14107070691006685,-0.12011066018125129,-0.11994167827400222,-0.11601578540515457,-0.11443889426477498,-0.10860482736781878,-0.09727832095462931,-0.09673325735602921,-0.08587682660808636,-0.08508715835879847,-0.08118023011650256,-0.03230556681279205,-0.022081783309571647,-0.00838440423968476,-0.004359882234982392,-0.002546487425053688,0.020963221312378964,0.050155218530054474,0.06320346842529508,0.06547047962369885,0.0740670680491757,0.07493833362319252,0.07847749953068109,0.10152004201280738,0.11349259068006991,0.12310709629022347,0.12881039886030413,0.13094206418542936,0.1407034030474493,0.19799623327556987,0.1993029429156566,0.24153960644250907,0.29965667861045914,0.3089553225657586,0.32318113497574746,0.3462202846300161,0.3662885809016243,0.3792093575759039,0.3794592922996785,0.38117518799555017,0.397579954068626,0.40079391837848843,0.4021594533630883,0.40968838196212054,0.4367564552920297,0.4375820865005155,0.4377333451903514,0.4558632689186081,0.46548548195450945,0.46879232312903013,0.5115755629379355,0.52843038574082,0.5352577582888441,0.5483846185235761,0.5643775544329351,0.5763690044321365,0.5949044301268032,0.6221605420933669,0.6227357684205236,0.6484483201982941,0.671620247229308,0.6822260784945761,0.7079242772265366,0.7108642863875541,0.7376039488123272,0.7380203289000862,0.7558185663553683,0.7789727845131169,0.7825305147432065,0.7975237949535874,0.806121838530458,0.8824919543294583,0.8860448237490549,0.90663796283171,0.9154714681206978,0.922503116426902,0.9254325462456969,0.9338718709652811,0.9593897326333075,0.9699061470510338,0.9713130828631797,0.9833606061630329,0.9971728007424998,1.0106918666791964,1.0507791927499477,1.0512616604040095,1.0823405485114852,1.1093520456364492,1.1372953877799896,1.2033380674786462,1.2035325173068894,1.2646223356813777,1.2835331822362595,1.3176420007544396,1.3200562297491283,1.3202617230355982,1.3345428642508723,1.378052581180226,1.4070760868764147,1.4435517107112872,1.5073877811138323,1.5141313659511948,1.5288460298692519,1.5305463063775901,1.5542107094474107,1.558414478456663,1.697202363996023,1.7393113007076062,1.7753798032227175,1.9701594450544158,2.0246450134153218,2.126445440846229,2.1351582929351536,2.2134866135935685],\"xaxis\":\"x\",\"y\":[-2.4177075765730365,-2.2014540382103522,-2.1919215196822757,-1.945960412603987,-1.9371208047403639,-1.9262690097299664,-1.8952007921704277,-1.827233046645929,-1.7881819304836906,-1.7816735128395325,-1.7353652851277783,-1.6035301731897873,-1.5441942359950864,-1.542717322848065,-1.5407095901455197,-1.5341295773002253,-1.530845545537666,-1.5107151993560308,-1.4404271532297601,-1.4094558999283302,-1.3914693019800837,-1.385488733995049,-1.3730128475551733,-1.3446459572266158,-1.30174951354741,-1.106543456135352,-1.0698315373121998,-1.0194925048670147,-1.0071498307741245,-1.002535480833112,-0.9614957037956642,-0.9540843584526603,-0.8933954394013824,-0.8859838045043817,-0.8717695745625017,-0.8434414780804742,-0.8335416570432329,-0.8206565371116838,-0.8138792911208816,-0.8087702771809724,-0.8063888341343376,-0.788039139887224,-0.7777916129103932,-0.7712455121354176,-0.754716568854277,-0.7535517154058312,-0.736032315535861,-0.6882450823854142,-0.6675567252844008,-0.6568865474305049,-0.6391640906689134,-0.5578898182117188,-0.5506909565327969,-0.5475431285451019,-0.544927176744271,-0.5325375881574888,-0.532216099852221,-0.5316309161110093,-0.5287160080638958,-0.4950937056642926,-0.4455946666024168,-0.43939176197618174,-0.4254915093273374,-0.42154298978213145,-0.41797112441948636,-0.4115555876191908,-0.3995757700372958,-0.3829183778327604,-0.36662840443021033,-0.34852458955726995,-0.33977646711358506,-0.3128142406177238,-0.2846788926336458,-0.27407356794223475,-0.25472717498964054,-0.24314903209713143,-0.23994386507712945,-0.2364628365623422,-0.22574898921510728,-0.20994178257925825,-0.20626417574129335,-0.19602691052533164,-0.18572912528685429,-0.18031905911163235,-0.159849679733065,-0.15596847563591384,-0.14107070691006685,-0.12011066018125129,-0.11994167827400222,-0.11601578540515457,-0.11443889426477498,-0.10860482736781878,-0.09727832095462931,-0.09673325735602921,-0.08587682660808636,-0.08508715835879847,-0.08118023011650256,-0.03230556681279205,-0.022081783309571647,-0.00838440423968476,-0.004359882234982392,-0.002546487425053688,0.020963221312378964,0.050155218530054474,0.06320346842529508,0.06547047962369885,0.0740670680491757,0.07493833362319252,0.07847749953068109,0.10152004201280738,0.11349259068006991,0.12310709629022347,0.12881039886030413,0.13094206418542936,0.1407034030474493,0.19799623327556987,0.1993029429156566,0.24153960644250907,0.29965667861045914,0.3089553225657586,0.32318113497574746,0.3462202846300161,0.3662885809016243,0.3792093575759039,0.3794592922996785,0.38117518799555017,0.397579954068626,0.40079391837848843,0.4021594533630883,0.40968838196212054,0.4367564552920297,0.4375820865005155,0.4377333451903514,0.4558632689186081,0.46548548195450945,0.46879232312903013,0.5115755629379355,0.52843038574082,0.5352577582888441,0.5483846185235761,0.5643775544329351,0.5763690044321365,0.5949044301268032,0.6221605420933669,0.6227357684205236,0.6484483201982941,0.671620247229308,0.6822260784945761,0.7079242772265366,0.7108642863875541,0.7376039488123272,0.7380203289000862,0.7558185663553683,0.7789727845131169,0.7825305147432065,0.7975237949535874,0.806121838530458,0.8824919543294583,0.8860448237490549,0.90663796283171,0.9154714681206978,0.922503116426902,0.9254325462456969,0.9338718709652811,0.9593897326333075,0.9699061470510338,0.9713130828631797,0.9833606061630329,0.9971728007424998,1.0106918666791964,1.0507791927499477,1.0512616604040095,1.0823405485114852,1.1093520456364492,1.1372953877799896,1.2033380674786462,1.2035325173068894,1.2646223356813777,1.2835331822362595,1.3176420007544396,1.3200562297491283,1.3202617230355982,1.3345428642508723,1.378052581180226,1.4070760868764147,1.4435517107112872,1.5073877811138323,1.5141313659511948,1.5288460298692519,1.5305463063775901,1.5542107094474107,1.558414478456663,1.697202363996023,1.7393113007076062,1.7753798032227175,1.9701594450544158,2.0246450134153218,2.126445440846229,2.1351582929351536,2.2134866135935685],\"yaxis\":\"y\",\"type\":\"scatter\"}],                        {\"template\":{\"data\":{\"histogram2dcontour\":[{\"type\":\"histogram2dcontour\",\"colorbar\":{\"outlinewidth\":0,\"ticks\":\"\"},\"colorscale\":[[0.0,\"#0d0887\"],[0.1111111111111111,\"#46039f\"],[0.2222222222222222,\"#7201a8\"],[0.3333333333333333,\"#9c179e\"],[0.4444444444444444,\"#bd3786\"],[0.5555555555555556,\"#d8576b\"],[0.6666666666666666,\"#ed7953\"],[0.7777777777777778,\"#fb9f3a\"],[0.8888888888888888,\"#fdca26\"],[1.0,\"#f0f921\"]]}],\"choropleth\":[{\"type\":\"choropleth\",\"colorbar\":{\"outlinewidth\":0,\"ticks\":\"\"}}],\"histogram2d\":[{\"type\":\"histogram2d\",\"colorbar\":{\"outlinewidth\":0,\"ticks\":\"\"},\"colorscale\":[[0.0,\"#0d0887\"],[0.1111111111111111,\"#46039f\"],[0.2222222222222222,\"#7201a8\"],[0.3333333333333333,\"#9c179e\"],[0.4444444444444444,\"#bd3786\"],[0.5555555555555556,\"#d8576b\"],[0.6666666666666666,\"#ed7953\"],[0.7777777777777778,\"#fb9f3a\"],[0.8888888888888888,\"#fdca26\"],[1.0,\"#f0f921\"]]}],\"heatmap\":[{\"type\":\"heatmap\",\"colorbar\":{\"outlinewidth\":0,\"ticks\":\"\"},\"colorscale\":[[0.0,\"#0d0887\"],[0.1111111111111111,\"#46039f\"],[0.2222222222222222,\"#7201a8\"],[0.3333333333333333,\"#9c179e\"],[0.4444444444444444,\"#bd3786\"],[0.5555555555555556,\"#d8576b\"],[0.6666666666666666,\"#ed7953\"],[0.7777777777777778,\"#fb9f3a\"],[0.8888888888888888,\"#fdca26\"],[1.0,\"#f0f921\"]]}],\"heatmapgl\":[{\"type\":\"heatmapgl\",\"colorbar\":{\"outlinewidth\":0,\"ticks\":\"\"},\"colorscale\":[[0.0,\"#0d0887\"],[0.1111111111111111,\"#46039f\"],[0.2222222222222222,\"#7201a8\"],[0.3333333333333333,\"#9c179e\"],[0.4444444444444444,\"#bd3786\"],[0.5555555555555556,\"#d8576b\"],[0.6666666666666666,\"#ed7953\"],[0.7777777777777778,\"#fb9f3a\"],[0.8888888888888888,\"#fdca26\"],[1.0,\"#f0f921\"]]}],\"contourcarpet\":[{\"type\":\"contourcarpet\",\"colorbar\":{\"outlinewidth\":0,\"ticks\":\"\"}}],\"contour\":[{\"type\":\"contour\",\"colorbar\":{\"outlinewidth\":0,\"ticks\":\"\"},\"colorscale\":[[0.0,\"#0d0887\"],[0.1111111111111111,\"#46039f\"],[0.2222222222222222,\"#7201a8\"],[0.3333333333333333,\"#9c179e\"],[0.4444444444444444,\"#bd3786\"],[0.5555555555555556,\"#d8576b\"],[0.6666666666666666,\"#ed7953\"],[0.7777777777777778,\"#fb9f3a\"],[0.8888888888888888,\"#fdca26\"],[1.0,\"#f0f921\"]]}],\"surface\":[{\"type\":\"surface\",\"colorbar\":{\"outlinewidth\":0,\"ticks\":\"\"},\"colorscale\":[[0.0,\"#0d0887\"],[0.1111111111111111,\"#46039f\"],[0.2222222222222222,\"#7201a8\"],[0.3333333333333333,\"#9c179e\"],[0.4444444444444444,\"#bd3786\"],[0.5555555555555556,\"#d8576b\"],[0.6666666666666666,\"#ed7953\"],[0.7777777777777778,\"#fb9f3a\"],[0.8888888888888888,\"#fdca26\"],[1.0,\"#f0f921\"]]}],\"mesh3d\":[{\"type\":\"mesh3d\",\"colorbar\":{\"outlinewidth\":0,\"ticks\":\"\"}}],\"scatter\":[{\"fillpattern\":{\"fillmode\":\"overlay\",\"size\":10,\"solidity\":0.2},\"type\":\"scatter\"}],\"parcoords\":[{\"type\":\"parcoords\",\"line\":{\"colorbar\":{\"outlinewidth\":0,\"ticks\":\"\"}}}],\"scatterpolargl\":[{\"type\":\"scatterpolargl\",\"marker\":{\"colorbar\":{\"outlinewidth\":0,\"ticks\":\"\"}}}],\"bar\":[{\"error_x\":{\"color\":\"#2a3f5f\"},\"error_y\":{\"color\":\"#2a3f5f\"},\"marker\":{\"line\":{\"color\":\"#E5ECF6\",\"width\":0.5},\"pattern\":{\"fillmode\":\"overlay\",\"size\":10,\"solidity\":0.2}},\"type\":\"bar\"}],\"scattergeo\":[{\"type\":\"scattergeo\",\"marker\":{\"colorbar\":{\"outlinewidth\":0,\"ticks\":\"\"}}}],\"scatterpolar\":[{\"type\":\"scatterpolar\",\"marker\":{\"colorbar\":{\"outlinewidth\":0,\"ticks\":\"\"}}}],\"histogram\":[{\"marker\":{\"pattern\":{\"fillmode\":\"overlay\",\"size\":10,\"solidity\":0.2}},\"type\":\"histogram\"}],\"scattergl\":[{\"type\":\"scattergl\",\"marker\":{\"colorbar\":{\"outlinewidth\":0,\"ticks\":\"\"}}}],\"scatter3d\":[{\"type\":\"scatter3d\",\"line\":{\"colorbar\":{\"outlinewidth\":0,\"ticks\":\"\"}},\"marker\":{\"colorbar\":{\"outlinewidth\":0,\"ticks\":\"\"}}}],\"scattermapbox\":[{\"type\":\"scattermapbox\",\"marker\":{\"colorbar\":{\"outlinewidth\":0,\"ticks\":\"\"}}}],\"scatterternary\":[{\"type\":\"scatterternary\",\"marker\":{\"colorbar\":{\"outlinewidth\":0,\"ticks\":\"\"}}}],\"scattercarpet\":[{\"type\":\"scattercarpet\",\"marker\":{\"colorbar\":{\"outlinewidth\":0,\"ticks\":\"\"}}}],\"carpet\":[{\"aaxis\":{\"endlinecolor\":\"#2a3f5f\",\"gridcolor\":\"white\",\"linecolor\":\"white\",\"minorgridcolor\":\"white\",\"startlinecolor\":\"#2a3f5f\"},\"baxis\":{\"endlinecolor\":\"#2a3f5f\",\"gridcolor\":\"white\",\"linecolor\":\"white\",\"minorgridcolor\":\"white\",\"startlinecolor\":\"#2a3f5f\"},\"type\":\"carpet\"}],\"table\":[{\"cells\":{\"fill\":{\"color\":\"#EBF0F8\"},\"line\":{\"color\":\"white\"}},\"header\":{\"fill\":{\"color\":\"#C8D4E3\"},\"line\":{\"color\":\"white\"}},\"type\":\"table\"}],\"barpolar\":[{\"marker\":{\"line\":{\"color\":\"#E5ECF6\",\"width\":0.5},\"pattern\":{\"fillmode\":\"overlay\",\"size\":10,\"solidity\":0.2}},\"type\":\"barpolar\"}],\"pie\":[{\"automargin\":true,\"type\":\"pie\"}]},\"layout\":{\"autotypenumbers\":\"strict\",\"colorway\":[\"#636efa\",\"#EF553B\",\"#00cc96\",\"#ab63fa\",\"#FFA15A\",\"#19d3f3\",\"#FF6692\",\"#B6E880\",\"#FF97FF\",\"#FECB52\"],\"font\":{\"color\":\"#2a3f5f\"},\"hovermode\":\"closest\",\"hoverlabel\":{\"align\":\"left\"},\"paper_bgcolor\":\"white\",\"plot_bgcolor\":\"#E5ECF6\",\"polar\":{\"bgcolor\":\"#E5ECF6\",\"angularaxis\":{\"gridcolor\":\"white\",\"linecolor\":\"white\",\"ticks\":\"\"},\"radialaxis\":{\"gridcolor\":\"white\",\"linecolor\":\"white\",\"ticks\":\"\"}},\"ternary\":{\"bgcolor\":\"#E5ECF6\",\"aaxis\":{\"gridcolor\":\"white\",\"linecolor\":\"white\",\"ticks\":\"\"},\"baxis\":{\"gridcolor\":\"white\",\"linecolor\":\"white\",\"ticks\":\"\"},\"caxis\":{\"gridcolor\":\"white\",\"linecolor\":\"white\",\"ticks\":\"\"}},\"coloraxis\":{\"colorbar\":{\"outlinewidth\":0,\"ticks\":\"\"}},\"colorscale\":{\"sequential\":[[0.0,\"#0d0887\"],[0.1111111111111111,\"#46039f\"],[0.2222222222222222,\"#7201a8\"],[0.3333333333333333,\"#9c179e\"],[0.4444444444444444,\"#bd3786\"],[0.5555555555555556,\"#d8576b\"],[0.6666666666666666,\"#ed7953\"],[0.7777777777777778,\"#fb9f3a\"],[0.8888888888888888,\"#fdca26\"],[1.0,\"#f0f921\"]],\"sequentialminus\":[[0.0,\"#0d0887\"],[0.1111111111111111,\"#46039f\"],[0.2222222222222222,\"#7201a8\"],[0.3333333333333333,\"#9c179e\"],[0.4444444444444444,\"#bd3786\"],[0.5555555555555556,\"#d8576b\"],[0.6666666666666666,\"#ed7953\"],[0.7777777777777778,\"#fb9f3a\"],[0.8888888888888888,\"#fdca26\"],[1.0,\"#f0f921\"]],\"diverging\":[[0,\"#8e0152\"],[0.1,\"#c51b7d\"],[0.2,\"#de77ae\"],[0.3,\"#f1b6da\"],[0.4,\"#fde0ef\"],[0.5,\"#f7f7f7\"],[0.6,\"#e6f5d0\"],[0.7,\"#b8e186\"],[0.8,\"#7fbc41\"],[0.9,\"#4d9221\"],[1,\"#276419\"]]},\"xaxis\":{\"gridcolor\":\"white\",\"linecolor\":\"white\",\"ticks\":\"\",\"title\":{\"standoff\":15},\"zerolinecolor\":\"white\",\"automargin\":true,\"zerolinewidth\":2},\"yaxis\":{\"gridcolor\":\"white\",\"linecolor\":\"white\",\"ticks\":\"\",\"title\":{\"standoff\":15},\"zerolinecolor\":\"white\",\"automargin\":true,\"zerolinewidth\":2},\"scene\":{\"xaxis\":{\"backgroundcolor\":\"#E5ECF6\",\"gridcolor\":\"white\",\"linecolor\":\"white\",\"showbackground\":true,\"ticks\":\"\",\"zerolinecolor\":\"white\",\"gridwidth\":2},\"yaxis\":{\"backgroundcolor\":\"#E5ECF6\",\"gridcolor\":\"white\",\"linecolor\":\"white\",\"showbackground\":true,\"ticks\":\"\",\"zerolinecolor\":\"white\",\"gridwidth\":2},\"zaxis\":{\"backgroundcolor\":\"#E5ECF6\",\"gridcolor\":\"white\",\"linecolor\":\"white\",\"showbackground\":true,\"ticks\":\"\",\"zerolinecolor\":\"white\",\"gridwidth\":2}},\"shapedefaults\":{\"line\":{\"color\":\"#2a3f5f\"}},\"annotationdefaults\":{\"arrowcolor\":\"#2a3f5f\",\"arrowhead\":0,\"arrowwidth\":1},\"geo\":{\"bgcolor\":\"white\",\"landcolor\":\"#E5ECF6\",\"subunitcolor\":\"white\",\"showland\":true,\"showlakes\":true,\"lakecolor\":\"white\"},\"title\":{\"x\":0.05},\"mapbox\":{\"style\":\"light\"}}},\"xaxis\":{\"anchor\":\"y\",\"domain\":[0.0,1.0],\"title\":{\"text\":\"data\"}},\"yaxis\":{\"anchor\":\"x\",\"domain\":[0.0,1.0],\"title\":{\"text\":\"linear\"},\"range\":[-2,2]},\"legend\":{\"tracegroupgap\":0},\"margin\":{\"t\":60},\"width\":800},                        {\"responsive\": true}                    ).then(function(){\n",
              "                            \n",
              "var gd = document.getElementById('ded9c1a9-8001-4e66-bfb8-4b952eefc649');\n",
              "var x = new MutationObserver(function (mutations, observer) {{\n",
              "        var display = window.getComputedStyle(gd).display;\n",
              "        if (!display || display === 'none') {{\n",
              "            console.log([gd, 'removed!']);\n",
              "            Plotly.purge(gd);\n",
              "            observer.disconnect();\n",
              "        }}\n",
              "}});\n",
              "\n",
              "// Listen for the removal of the full notebook cells\n",
              "var notebookContainer = gd.closest('#notebook-container');\n",
              "if (notebookContainer) {{\n",
              "    x.observe(notebookContainer, {childList: true});\n",
              "}}\n",
              "\n",
              "// Listen for the clearing of the current output cell\n",
              "var outputEl = gd.closest('.output');\n",
              "if (outputEl) {{\n",
              "    x.observe(outputEl, {childList: true});\n",
              "}}\n",
              "\n",
              "                        })                };                            </script>        </div>\n",
              "</body>\n",
              "</html>"
            ]
          },
          "metadata": {}
        }
      ]
    },
    {
      "cell_type": "code",
      "metadata": {
        "id": "xGsRlPQde7Qc",
        "colab": {
          "base_uri": "https://localhost:8080/",
          "height": 206
        },
        "outputId": "2c7bdbf9-a57e-43db-fb30-3ae9ccd645f6"
      },
      "source": [
        "from tensorflow.keras.activations import sigmoid\n",
        "\n",
        "data = pd.DataFrame({'data': random_data, 'sigmoid': sigmoid(random_data)})\n",
        "data.head()"
      ],
      "execution_count": 8,
      "outputs": [
        {
          "output_type": "execute_result",
          "data": {
            "text/plain": [
              "       data   sigmoid\n",
              "0 -2.417708  0.081832\n",
              "1 -2.201454  0.099620\n",
              "2 -2.191922  0.100478\n",
              "3 -1.945960  0.124995\n",
              "4 -1.937121  0.125965"
            ],
            "text/html": [
              "\n",
              "  <div id=\"df-205c53e1-3b49-4c82-9907-0a0df3f07bba\" class=\"colab-df-container\">\n",
              "    <div>\n",
              "<style scoped>\n",
              "    .dataframe tbody tr th:only-of-type {\n",
              "        vertical-align: middle;\n",
              "    }\n",
              "\n",
              "    .dataframe tbody tr th {\n",
              "        vertical-align: top;\n",
              "    }\n",
              "\n",
              "    .dataframe thead th {\n",
              "        text-align: right;\n",
              "    }\n",
              "</style>\n",
              "<table border=\"1\" class=\"dataframe\">\n",
              "  <thead>\n",
              "    <tr style=\"text-align: right;\">\n",
              "      <th></th>\n",
              "      <th>data</th>\n",
              "      <th>sigmoid</th>\n",
              "    </tr>\n",
              "  </thead>\n",
              "  <tbody>\n",
              "    <tr>\n",
              "      <th>0</th>\n",
              "      <td>-2.417708</td>\n",
              "      <td>0.081832</td>\n",
              "    </tr>\n",
              "    <tr>\n",
              "      <th>1</th>\n",
              "      <td>-2.201454</td>\n",
              "      <td>0.099620</td>\n",
              "    </tr>\n",
              "    <tr>\n",
              "      <th>2</th>\n",
              "      <td>-2.191922</td>\n",
              "      <td>0.100478</td>\n",
              "    </tr>\n",
              "    <tr>\n",
              "      <th>3</th>\n",
              "      <td>-1.945960</td>\n",
              "      <td>0.124995</td>\n",
              "    </tr>\n",
              "    <tr>\n",
              "      <th>4</th>\n",
              "      <td>-1.937121</td>\n",
              "      <td>0.125965</td>\n",
              "    </tr>\n",
              "  </tbody>\n",
              "</table>\n",
              "</div>\n",
              "    <div class=\"colab-df-buttons\">\n",
              "\n",
              "  <div class=\"colab-df-container\">\n",
              "    <button class=\"colab-df-convert\" onclick=\"convertToInteractive('df-205c53e1-3b49-4c82-9907-0a0df3f07bba')\"\n",
              "            title=\"Convert this dataframe to an interactive table.\"\n",
              "            style=\"display:none;\">\n",
              "\n",
              "  <svg xmlns=\"http://www.w3.org/2000/svg\" height=\"24px\" viewBox=\"0 -960 960 960\">\n",
              "    <path d=\"M120-120v-720h720v720H120Zm60-500h600v-160H180v160Zm220 220h160v-160H400v160Zm0 220h160v-160H400v160ZM180-400h160v-160H180v160Zm440 0h160v-160H620v160ZM180-180h160v-160H180v160Zm440 0h160v-160H620v160Z\"/>\n",
              "  </svg>\n",
              "    </button>\n",
              "\n",
              "  <style>\n",
              "    .colab-df-container {\n",
              "      display:flex;\n",
              "      gap: 12px;\n",
              "    }\n",
              "\n",
              "    .colab-df-convert {\n",
              "      background-color: #E8F0FE;\n",
              "      border: none;\n",
              "      border-radius: 50%;\n",
              "      cursor: pointer;\n",
              "      display: none;\n",
              "      fill: #1967D2;\n",
              "      height: 32px;\n",
              "      padding: 0 0 0 0;\n",
              "      width: 32px;\n",
              "    }\n",
              "\n",
              "    .colab-df-convert:hover {\n",
              "      background-color: #E2EBFA;\n",
              "      box-shadow: 0px 1px 2px rgba(60, 64, 67, 0.3), 0px 1px 3px 1px rgba(60, 64, 67, 0.15);\n",
              "      fill: #174EA6;\n",
              "    }\n",
              "\n",
              "    .colab-df-buttons div {\n",
              "      margin-bottom: 4px;\n",
              "    }\n",
              "\n",
              "    [theme=dark] .colab-df-convert {\n",
              "      background-color: #3B4455;\n",
              "      fill: #D2E3FC;\n",
              "    }\n",
              "\n",
              "    [theme=dark] .colab-df-convert:hover {\n",
              "      background-color: #434B5C;\n",
              "      box-shadow: 0px 1px 3px 1px rgba(0, 0, 0, 0.15);\n",
              "      filter: drop-shadow(0px 1px 2px rgba(0, 0, 0, 0.3));\n",
              "      fill: #FFFFFF;\n",
              "    }\n",
              "  </style>\n",
              "\n",
              "    <script>\n",
              "      const buttonEl =\n",
              "        document.querySelector('#df-205c53e1-3b49-4c82-9907-0a0df3f07bba button.colab-df-convert');\n",
              "      buttonEl.style.display =\n",
              "        google.colab.kernel.accessAllowed ? 'block' : 'none';\n",
              "\n",
              "      async function convertToInteractive(key) {\n",
              "        const element = document.querySelector('#df-205c53e1-3b49-4c82-9907-0a0df3f07bba');\n",
              "        const dataTable =\n",
              "          await google.colab.kernel.invokeFunction('convertToInteractive',\n",
              "                                                    [key], {});\n",
              "        if (!dataTable) return;\n",
              "\n",
              "        const docLinkHtml = 'Like what you see? Visit the ' +\n",
              "          '<a target=\"_blank\" href=https://colab.research.google.com/notebooks/data_table.ipynb>data table notebook</a>'\n",
              "          + ' to learn more about interactive tables.';\n",
              "        element.innerHTML = '';\n",
              "        dataTable['output_type'] = 'display_data';\n",
              "        await google.colab.output.renderOutput(dataTable, element);\n",
              "        const docLink = document.createElement('div');\n",
              "        docLink.innerHTML = docLinkHtml;\n",
              "        element.appendChild(docLink);\n",
              "      }\n",
              "    </script>\n",
              "  </div>\n",
              "\n",
              "\n",
              "<div id=\"df-0062b041-ee92-411b-b50a-7a3e852d9f2e\">\n",
              "  <button class=\"colab-df-quickchart\" onclick=\"quickchart('df-0062b041-ee92-411b-b50a-7a3e852d9f2e')\"\n",
              "            title=\"Suggest charts\"\n",
              "            style=\"display:none;\">\n",
              "\n",
              "<svg xmlns=\"http://www.w3.org/2000/svg\" height=\"24px\"viewBox=\"0 0 24 24\"\n",
              "     width=\"24px\">\n",
              "    <g>\n",
              "        <path d=\"M19 3H5c-1.1 0-2 .9-2 2v14c0 1.1.9 2 2 2h14c1.1 0 2-.9 2-2V5c0-1.1-.9-2-2-2zM9 17H7v-7h2v7zm4 0h-2V7h2v10zm4 0h-2v-4h2v4z\"/>\n",
              "    </g>\n",
              "</svg>\n",
              "  </button>\n",
              "\n",
              "<style>\n",
              "  .colab-df-quickchart {\n",
              "      --bg-color: #E8F0FE;\n",
              "      --fill-color: #1967D2;\n",
              "      --hover-bg-color: #E2EBFA;\n",
              "      --hover-fill-color: #174EA6;\n",
              "      --disabled-fill-color: #AAA;\n",
              "      --disabled-bg-color: #DDD;\n",
              "  }\n",
              "\n",
              "  [theme=dark] .colab-df-quickchart {\n",
              "      --bg-color: #3B4455;\n",
              "      --fill-color: #D2E3FC;\n",
              "      --hover-bg-color: #434B5C;\n",
              "      --hover-fill-color: #FFFFFF;\n",
              "      --disabled-bg-color: #3B4455;\n",
              "      --disabled-fill-color: #666;\n",
              "  }\n",
              "\n",
              "  .colab-df-quickchart {\n",
              "    background-color: var(--bg-color);\n",
              "    border: none;\n",
              "    border-radius: 50%;\n",
              "    cursor: pointer;\n",
              "    display: none;\n",
              "    fill: var(--fill-color);\n",
              "    height: 32px;\n",
              "    padding: 0;\n",
              "    width: 32px;\n",
              "  }\n",
              "\n",
              "  .colab-df-quickchart:hover {\n",
              "    background-color: var(--hover-bg-color);\n",
              "    box-shadow: 0 1px 2px rgba(60, 64, 67, 0.3), 0 1px 3px 1px rgba(60, 64, 67, 0.15);\n",
              "    fill: var(--button-hover-fill-color);\n",
              "  }\n",
              "\n",
              "  .colab-df-quickchart-complete:disabled,\n",
              "  .colab-df-quickchart-complete:disabled:hover {\n",
              "    background-color: var(--disabled-bg-color);\n",
              "    fill: var(--disabled-fill-color);\n",
              "    box-shadow: none;\n",
              "  }\n",
              "\n",
              "  .colab-df-spinner {\n",
              "    border: 2px solid var(--fill-color);\n",
              "    border-color: transparent;\n",
              "    border-bottom-color: var(--fill-color);\n",
              "    animation:\n",
              "      spin 1s steps(1) infinite;\n",
              "  }\n",
              "\n",
              "  @keyframes spin {\n",
              "    0% {\n",
              "      border-color: transparent;\n",
              "      border-bottom-color: var(--fill-color);\n",
              "      border-left-color: var(--fill-color);\n",
              "    }\n",
              "    20% {\n",
              "      border-color: transparent;\n",
              "      border-left-color: var(--fill-color);\n",
              "      border-top-color: var(--fill-color);\n",
              "    }\n",
              "    30% {\n",
              "      border-color: transparent;\n",
              "      border-left-color: var(--fill-color);\n",
              "      border-top-color: var(--fill-color);\n",
              "      border-right-color: var(--fill-color);\n",
              "    }\n",
              "    40% {\n",
              "      border-color: transparent;\n",
              "      border-right-color: var(--fill-color);\n",
              "      border-top-color: var(--fill-color);\n",
              "    }\n",
              "    60% {\n",
              "      border-color: transparent;\n",
              "      border-right-color: var(--fill-color);\n",
              "    }\n",
              "    80% {\n",
              "      border-color: transparent;\n",
              "      border-right-color: var(--fill-color);\n",
              "      border-bottom-color: var(--fill-color);\n",
              "    }\n",
              "    90% {\n",
              "      border-color: transparent;\n",
              "      border-bottom-color: var(--fill-color);\n",
              "    }\n",
              "  }\n",
              "</style>\n",
              "\n",
              "  <script>\n",
              "    async function quickchart(key) {\n",
              "      const quickchartButtonEl =\n",
              "        document.querySelector('#' + key + ' button');\n",
              "      quickchartButtonEl.disabled = true;  // To prevent multiple clicks.\n",
              "      quickchartButtonEl.classList.add('colab-df-spinner');\n",
              "      try {\n",
              "        const charts = await google.colab.kernel.invokeFunction(\n",
              "            'suggestCharts', [key], {});\n",
              "      } catch (error) {\n",
              "        console.error('Error during call to suggestCharts:', error);\n",
              "      }\n",
              "      quickchartButtonEl.classList.remove('colab-df-spinner');\n",
              "      quickchartButtonEl.classList.add('colab-df-quickchart-complete');\n",
              "    }\n",
              "    (() => {\n",
              "      let quickchartButtonEl =\n",
              "        document.querySelector('#df-0062b041-ee92-411b-b50a-7a3e852d9f2e button');\n",
              "      quickchartButtonEl.style.display =\n",
              "        google.colab.kernel.accessAllowed ? 'block' : 'none';\n",
              "    })();\n",
              "  </script>\n",
              "</div>\n",
              "    </div>\n",
              "  </div>\n"
            ]
          },
          "metadata": {},
          "execution_count": 8
        }
      ]
    },
    {
      "cell_type": "code",
      "metadata": {
        "id": "DbWCwhXifvXx",
        "colab": {
          "base_uri": "https://localhost:8080/",
          "height": 542
        },
        "outputId": "37fc8380-18ed-4a77-edd1-6aad60d5f693"
      },
      "source": [
        "px.line(data, x='data', y='sigmoid', width=800, range_y=[-0.5, 1.5])"
      ],
      "execution_count": 9,
      "outputs": [
        {
          "output_type": "display_data",
          "data": {
            "text/html": [
              "<html>\n",
              "<head><meta charset=\"utf-8\" /></head>\n",
              "<body>\n",
              "    <div>            <script src=\"https://cdnjs.cloudflare.com/ajax/libs/mathjax/2.7.5/MathJax.js?config=TeX-AMS-MML_SVG\"></script><script type=\"text/javascript\">if (window.MathJax && window.MathJax.Hub && window.MathJax.Hub.Config) {window.MathJax.Hub.Config({SVG: {font: \"STIX-Web\"}});}</script>                <script type=\"text/javascript\">window.PlotlyConfig = {MathJaxConfig: 'local'};</script>\n",
              "        <script charset=\"utf-8\" src=\"https://cdn.plot.ly/plotly-2.24.1.min.js\"></script>                <div id=\"e7450ad8-81e9-497f-8510-0da738e3e48f\" class=\"plotly-graph-div\" style=\"height:525px; width:800px;\"></div>            <script type=\"text/javascript\">                                    window.PLOTLYENV=window.PLOTLYENV || {};                                    if (document.getElementById(\"e7450ad8-81e9-497f-8510-0da738e3e48f\")) {                    Plotly.newPlot(                        \"e7450ad8-81e9-497f-8510-0da738e3e48f\",                        [{\"hovertemplate\":\"data=%{x}\\u003cbr\\u003esigmoid=%{y}\\u003cextra\\u003e\\u003c\\u002fextra\\u003e\",\"legendgroup\":\"\",\"line\":{\"color\":\"#636efa\",\"dash\":\"solid\"},\"marker\":{\"symbol\":\"circle\"},\"mode\":\"lines\",\"name\":\"\",\"orientation\":\"v\",\"showlegend\":false,\"x\":[-2.4177075765730365,-2.2014540382103522,-2.1919215196822757,-1.945960412603987,-1.9371208047403639,-1.9262690097299664,-1.8952007921704277,-1.827233046645929,-1.7881819304836906,-1.7816735128395325,-1.7353652851277783,-1.6035301731897873,-1.5441942359950864,-1.542717322848065,-1.5407095901455197,-1.5341295773002253,-1.530845545537666,-1.5107151993560308,-1.4404271532297601,-1.4094558999283302,-1.3914693019800837,-1.385488733995049,-1.3730128475551733,-1.3446459572266158,-1.30174951354741,-1.106543456135352,-1.0698315373121998,-1.0194925048670147,-1.0071498307741245,-1.002535480833112,-0.9614957037956642,-0.9540843584526603,-0.8933954394013824,-0.8859838045043817,-0.8717695745625017,-0.8434414780804742,-0.8335416570432329,-0.8206565371116838,-0.8138792911208816,-0.8087702771809724,-0.8063888341343376,-0.788039139887224,-0.7777916129103932,-0.7712455121354176,-0.754716568854277,-0.7535517154058312,-0.736032315535861,-0.6882450823854142,-0.6675567252844008,-0.6568865474305049,-0.6391640906689134,-0.5578898182117188,-0.5506909565327969,-0.5475431285451019,-0.544927176744271,-0.5325375881574888,-0.532216099852221,-0.5316309161110093,-0.5287160080638958,-0.4950937056642926,-0.4455946666024168,-0.43939176197618174,-0.4254915093273374,-0.42154298978213145,-0.41797112441948636,-0.4115555876191908,-0.3995757700372958,-0.3829183778327604,-0.36662840443021033,-0.34852458955726995,-0.33977646711358506,-0.3128142406177238,-0.2846788926336458,-0.27407356794223475,-0.25472717498964054,-0.24314903209713143,-0.23994386507712945,-0.2364628365623422,-0.22574898921510728,-0.20994178257925825,-0.20626417574129335,-0.19602691052533164,-0.18572912528685429,-0.18031905911163235,-0.159849679733065,-0.15596847563591384,-0.14107070691006685,-0.12011066018125129,-0.11994167827400222,-0.11601578540515457,-0.11443889426477498,-0.10860482736781878,-0.09727832095462931,-0.09673325735602921,-0.08587682660808636,-0.08508715835879847,-0.08118023011650256,-0.03230556681279205,-0.022081783309571647,-0.00838440423968476,-0.004359882234982392,-0.002546487425053688,0.020963221312378964,0.050155218530054474,0.06320346842529508,0.06547047962369885,0.0740670680491757,0.07493833362319252,0.07847749953068109,0.10152004201280738,0.11349259068006991,0.12310709629022347,0.12881039886030413,0.13094206418542936,0.1407034030474493,0.19799623327556987,0.1993029429156566,0.24153960644250907,0.29965667861045914,0.3089553225657586,0.32318113497574746,0.3462202846300161,0.3662885809016243,0.3792093575759039,0.3794592922996785,0.38117518799555017,0.397579954068626,0.40079391837848843,0.4021594533630883,0.40968838196212054,0.4367564552920297,0.4375820865005155,0.4377333451903514,0.4558632689186081,0.46548548195450945,0.46879232312903013,0.5115755629379355,0.52843038574082,0.5352577582888441,0.5483846185235761,0.5643775544329351,0.5763690044321365,0.5949044301268032,0.6221605420933669,0.6227357684205236,0.6484483201982941,0.671620247229308,0.6822260784945761,0.7079242772265366,0.7108642863875541,0.7376039488123272,0.7380203289000862,0.7558185663553683,0.7789727845131169,0.7825305147432065,0.7975237949535874,0.806121838530458,0.8824919543294583,0.8860448237490549,0.90663796283171,0.9154714681206978,0.922503116426902,0.9254325462456969,0.9338718709652811,0.9593897326333075,0.9699061470510338,0.9713130828631797,0.9833606061630329,0.9971728007424998,1.0106918666791964,1.0507791927499477,1.0512616604040095,1.0823405485114852,1.1093520456364492,1.1372953877799896,1.2033380674786462,1.2035325173068894,1.2646223356813777,1.2835331822362595,1.3176420007544396,1.3200562297491283,1.3202617230355982,1.3345428642508723,1.378052581180226,1.4070760868764147,1.4435517107112872,1.5073877811138323,1.5141313659511948,1.5288460298692519,1.5305463063775901,1.5542107094474107,1.558414478456663,1.697202363996023,1.7393113007076062,1.7753798032227175,1.9701594450544158,2.0246450134153218,2.126445440846229,2.1351582929351536,2.2134866135935685],\"xaxis\":\"x\",\"y\":[0.08183233350354455,0.09961999197942586,0.1004782886248304,0.12499450252798586,0.12596450734541514,0.1271641197086011,0.13065261485574742,0.13856822611015798,0.14329576878703834,0.144096612144035,0.14990258676906384,0.1674888026032615,0.17592638326340537,0.1761406031463142,0.17643214492955658,0.17739028257937334,0.1778700060654485,0.18083282483167448,0.1914792101523334,0.19631988941480708,0.19917329475252907,0.20012893149421396,0.20213351168739863,0.20674707078667923,0.21387072393511092,0.24851585662710038,0.2554351224376182,0.2651262662206362,0.2675380037852904,0.2684432077243769,0.2765788300182629,0.2780641667844132,0.29040962524347436,0.2919393239848615,0.2948862237995913,0.3008104643720922,0.3028967266147263,0.30562431306086624,0.30706445891397677,0.30815260406463363,0.30866054663234815,0.31258985910072734,0.31479603909594894,0.3162097385831777,0.3197944537844699,0.3200478928219036,0.3238723756997978,0.3344235770469185,0.33904414657352405,0.34143935188138524,0.34543552227598007,0.36403585551399503,0.3657041166550241,0.36643460957016166,0.36704214161527865,0.36992523060356225,0.3700001664089603,0.3701365831382001,0.3708164085223902,0.37869435702663773,0.39040868260007844,0.3918859097384772,0.3952034298182894,0.39614758525162064,0.39700234402818924,0.3985391791429343,0.40141426996065566,0.405423213097191,0.40935596845058053,0.4137402499359778,0.41586377689688947,0.42242796370946534,0.42930705842911193,0.4319073146735717,0.43666032427964574,0.4395104678133082,0.44030018434847956,0.4411582123010347,0.44380121991262184,0.4477064855349944,0.44861600430696646,0.4511496016310956,0.4537007345086184,0.455041986603855,0.46012245624519316,0.46108673334042,0.4647906954484125,0.47000838263717015,0.47005047632847724,0.4710285418653679,0.4714214589630938,0.4728754491107873,0.47569957979128874,0.4758355256224771,0.4785439779359303,0.4787410347944017,0.47971608088813783,0.49192431063378195,0.4944797784781564,0.4979039112193428,0.49891003116781657,0.4993633784877561,0.5052406134109669,0.5125361767986254,0.5157956092580832,0.5163617759192681,0.5185083065121187,0.5187258209258234,0.5196093118971409,0.5253582350718223,0.5283427316584769,0.5307379634734098,0.5321581476887917,0.5326888229869599,0.535117932750102,0.549337982476383,0.5496614581454455,0.5600930261193294,0.5743585869001727,0.5766302467608828,0.5800993228835822,0.5857007087037845,0.5905618652429027,0.5936823954508454,0.5937426841949308,0.5941565126910555,0.5981060794579584,0.5988783925802285,0.5992063812408993,0.6010131563353923,0.6074858881652493,0.6076827397910304,0.6077187999449781,0.6120323709393678,0.6143146754443706,0.6150978756705938,0.6251757505099136,0.6291169500180402,0.6307085635152985,0.6337607290179106,0.6374648156317991,0.6402314870502295,0.6444896567775621,0.6507097705229704,0.650840500402138,0.6566607100363292,0.6618658646733112,0.6642353538259076,0.6699423388317338,0.670592107372535,0.6764716837684368,0.6765628050785889,0.680445211662628,0.6854586832676626,0.6862252413743917,0.6894445478394149,0.6912824764752812,0.7073383489800833,0.7080732891891433,0.7123116935833632,0.7141184882530686,0.7155518582729492,0.7161477301053453,0.717860143527451,0.722999602794716,0.7251007905110761,0.7253811456763396,0.7277745248922924,0.7305023545361892,0.7331555268310918,0.7409244975036489,0.7410170990030243,0.7469366548211828,0.7520082929835187,0.7571827229351463,0.7691180747961309,0.769152602507239,0.7798207907672238,0.7830506019903167,0.7887891293831841,0.7891910615350743,0.7892252471193935,0.7915910849772461,0.7986780541365534,0.803304356131212,0.8090040517179442,0.8186737534435383,0.81967266818717,0.8218374118696523,0.8220862312956708,0.8255210573038873,0.8261257232257436,0.8451689942606446,0.8505995667324787,0.8551254271346181,0.8776282381147851,0.8833604598593291,0.8934470894152295,0.8942737086819297,0.9014540926155392],\"yaxis\":\"y\",\"type\":\"scatter\"}],                        {\"template\":{\"data\":{\"histogram2dcontour\":[{\"type\":\"histogram2dcontour\",\"colorbar\":{\"outlinewidth\":0,\"ticks\":\"\"},\"colorscale\":[[0.0,\"#0d0887\"],[0.1111111111111111,\"#46039f\"],[0.2222222222222222,\"#7201a8\"],[0.3333333333333333,\"#9c179e\"],[0.4444444444444444,\"#bd3786\"],[0.5555555555555556,\"#d8576b\"],[0.6666666666666666,\"#ed7953\"],[0.7777777777777778,\"#fb9f3a\"],[0.8888888888888888,\"#fdca26\"],[1.0,\"#f0f921\"]]}],\"choropleth\":[{\"type\":\"choropleth\",\"colorbar\":{\"outlinewidth\":0,\"ticks\":\"\"}}],\"histogram2d\":[{\"type\":\"histogram2d\",\"colorbar\":{\"outlinewidth\":0,\"ticks\":\"\"},\"colorscale\":[[0.0,\"#0d0887\"],[0.1111111111111111,\"#46039f\"],[0.2222222222222222,\"#7201a8\"],[0.3333333333333333,\"#9c179e\"],[0.4444444444444444,\"#bd3786\"],[0.5555555555555556,\"#d8576b\"],[0.6666666666666666,\"#ed7953\"],[0.7777777777777778,\"#fb9f3a\"],[0.8888888888888888,\"#fdca26\"],[1.0,\"#f0f921\"]]}],\"heatmap\":[{\"type\":\"heatmap\",\"colorbar\":{\"outlinewidth\":0,\"ticks\":\"\"},\"colorscale\":[[0.0,\"#0d0887\"],[0.1111111111111111,\"#46039f\"],[0.2222222222222222,\"#7201a8\"],[0.3333333333333333,\"#9c179e\"],[0.4444444444444444,\"#bd3786\"],[0.5555555555555556,\"#d8576b\"],[0.6666666666666666,\"#ed7953\"],[0.7777777777777778,\"#fb9f3a\"],[0.8888888888888888,\"#fdca26\"],[1.0,\"#f0f921\"]]}],\"heatmapgl\":[{\"type\":\"heatmapgl\",\"colorbar\":{\"outlinewidth\":0,\"ticks\":\"\"},\"colorscale\":[[0.0,\"#0d0887\"],[0.1111111111111111,\"#46039f\"],[0.2222222222222222,\"#7201a8\"],[0.3333333333333333,\"#9c179e\"],[0.4444444444444444,\"#bd3786\"],[0.5555555555555556,\"#d8576b\"],[0.6666666666666666,\"#ed7953\"],[0.7777777777777778,\"#fb9f3a\"],[0.8888888888888888,\"#fdca26\"],[1.0,\"#f0f921\"]]}],\"contourcarpet\":[{\"type\":\"contourcarpet\",\"colorbar\":{\"outlinewidth\":0,\"ticks\":\"\"}}],\"contour\":[{\"type\":\"contour\",\"colorbar\":{\"outlinewidth\":0,\"ticks\":\"\"},\"colorscale\":[[0.0,\"#0d0887\"],[0.1111111111111111,\"#46039f\"],[0.2222222222222222,\"#7201a8\"],[0.3333333333333333,\"#9c179e\"],[0.4444444444444444,\"#bd3786\"],[0.5555555555555556,\"#d8576b\"],[0.6666666666666666,\"#ed7953\"],[0.7777777777777778,\"#fb9f3a\"],[0.8888888888888888,\"#fdca26\"],[1.0,\"#f0f921\"]]}],\"surface\":[{\"type\":\"surface\",\"colorbar\":{\"outlinewidth\":0,\"ticks\":\"\"},\"colorscale\":[[0.0,\"#0d0887\"],[0.1111111111111111,\"#46039f\"],[0.2222222222222222,\"#7201a8\"],[0.3333333333333333,\"#9c179e\"],[0.4444444444444444,\"#bd3786\"],[0.5555555555555556,\"#d8576b\"],[0.6666666666666666,\"#ed7953\"],[0.7777777777777778,\"#fb9f3a\"],[0.8888888888888888,\"#fdca26\"],[1.0,\"#f0f921\"]]}],\"mesh3d\":[{\"type\":\"mesh3d\",\"colorbar\":{\"outlinewidth\":0,\"ticks\":\"\"}}],\"scatter\":[{\"fillpattern\":{\"fillmode\":\"overlay\",\"size\":10,\"solidity\":0.2},\"type\":\"scatter\"}],\"parcoords\":[{\"type\":\"parcoords\",\"line\":{\"colorbar\":{\"outlinewidth\":0,\"ticks\":\"\"}}}],\"scatterpolargl\":[{\"type\":\"scatterpolargl\",\"marker\":{\"colorbar\":{\"outlinewidth\":0,\"ticks\":\"\"}}}],\"bar\":[{\"error_x\":{\"color\":\"#2a3f5f\"},\"error_y\":{\"color\":\"#2a3f5f\"},\"marker\":{\"line\":{\"color\":\"#E5ECF6\",\"width\":0.5},\"pattern\":{\"fillmode\":\"overlay\",\"size\":10,\"solidity\":0.2}},\"type\":\"bar\"}],\"scattergeo\":[{\"type\":\"scattergeo\",\"marker\":{\"colorbar\":{\"outlinewidth\":0,\"ticks\":\"\"}}}],\"scatterpolar\":[{\"type\":\"scatterpolar\",\"marker\":{\"colorbar\":{\"outlinewidth\":0,\"ticks\":\"\"}}}],\"histogram\":[{\"marker\":{\"pattern\":{\"fillmode\":\"overlay\",\"size\":10,\"solidity\":0.2}},\"type\":\"histogram\"}],\"scattergl\":[{\"type\":\"scattergl\",\"marker\":{\"colorbar\":{\"outlinewidth\":0,\"ticks\":\"\"}}}],\"scatter3d\":[{\"type\":\"scatter3d\",\"line\":{\"colorbar\":{\"outlinewidth\":0,\"ticks\":\"\"}},\"marker\":{\"colorbar\":{\"outlinewidth\":0,\"ticks\":\"\"}}}],\"scattermapbox\":[{\"type\":\"scattermapbox\",\"marker\":{\"colorbar\":{\"outlinewidth\":0,\"ticks\":\"\"}}}],\"scatterternary\":[{\"type\":\"scatterternary\",\"marker\":{\"colorbar\":{\"outlinewidth\":0,\"ticks\":\"\"}}}],\"scattercarpet\":[{\"type\":\"scattercarpet\",\"marker\":{\"colorbar\":{\"outlinewidth\":0,\"ticks\":\"\"}}}],\"carpet\":[{\"aaxis\":{\"endlinecolor\":\"#2a3f5f\",\"gridcolor\":\"white\",\"linecolor\":\"white\",\"minorgridcolor\":\"white\",\"startlinecolor\":\"#2a3f5f\"},\"baxis\":{\"endlinecolor\":\"#2a3f5f\",\"gridcolor\":\"white\",\"linecolor\":\"white\",\"minorgridcolor\":\"white\",\"startlinecolor\":\"#2a3f5f\"},\"type\":\"carpet\"}],\"table\":[{\"cells\":{\"fill\":{\"color\":\"#EBF0F8\"},\"line\":{\"color\":\"white\"}},\"header\":{\"fill\":{\"color\":\"#C8D4E3\"},\"line\":{\"color\":\"white\"}},\"type\":\"table\"}],\"barpolar\":[{\"marker\":{\"line\":{\"color\":\"#E5ECF6\",\"width\":0.5},\"pattern\":{\"fillmode\":\"overlay\",\"size\":10,\"solidity\":0.2}},\"type\":\"barpolar\"}],\"pie\":[{\"automargin\":true,\"type\":\"pie\"}]},\"layout\":{\"autotypenumbers\":\"strict\",\"colorway\":[\"#636efa\",\"#EF553B\",\"#00cc96\",\"#ab63fa\",\"#FFA15A\",\"#19d3f3\",\"#FF6692\",\"#B6E880\",\"#FF97FF\",\"#FECB52\"],\"font\":{\"color\":\"#2a3f5f\"},\"hovermode\":\"closest\",\"hoverlabel\":{\"align\":\"left\"},\"paper_bgcolor\":\"white\",\"plot_bgcolor\":\"#E5ECF6\",\"polar\":{\"bgcolor\":\"#E5ECF6\",\"angularaxis\":{\"gridcolor\":\"white\",\"linecolor\":\"white\",\"ticks\":\"\"},\"radialaxis\":{\"gridcolor\":\"white\",\"linecolor\":\"white\",\"ticks\":\"\"}},\"ternary\":{\"bgcolor\":\"#E5ECF6\",\"aaxis\":{\"gridcolor\":\"white\",\"linecolor\":\"white\",\"ticks\":\"\"},\"baxis\":{\"gridcolor\":\"white\",\"linecolor\":\"white\",\"ticks\":\"\"},\"caxis\":{\"gridcolor\":\"white\",\"linecolor\":\"white\",\"ticks\":\"\"}},\"coloraxis\":{\"colorbar\":{\"outlinewidth\":0,\"ticks\":\"\"}},\"colorscale\":{\"sequential\":[[0.0,\"#0d0887\"],[0.1111111111111111,\"#46039f\"],[0.2222222222222222,\"#7201a8\"],[0.3333333333333333,\"#9c179e\"],[0.4444444444444444,\"#bd3786\"],[0.5555555555555556,\"#d8576b\"],[0.6666666666666666,\"#ed7953\"],[0.7777777777777778,\"#fb9f3a\"],[0.8888888888888888,\"#fdca26\"],[1.0,\"#f0f921\"]],\"sequentialminus\":[[0.0,\"#0d0887\"],[0.1111111111111111,\"#46039f\"],[0.2222222222222222,\"#7201a8\"],[0.3333333333333333,\"#9c179e\"],[0.4444444444444444,\"#bd3786\"],[0.5555555555555556,\"#d8576b\"],[0.6666666666666666,\"#ed7953\"],[0.7777777777777778,\"#fb9f3a\"],[0.8888888888888888,\"#fdca26\"],[1.0,\"#f0f921\"]],\"diverging\":[[0,\"#8e0152\"],[0.1,\"#c51b7d\"],[0.2,\"#de77ae\"],[0.3,\"#f1b6da\"],[0.4,\"#fde0ef\"],[0.5,\"#f7f7f7\"],[0.6,\"#e6f5d0\"],[0.7,\"#b8e186\"],[0.8,\"#7fbc41\"],[0.9,\"#4d9221\"],[1,\"#276419\"]]},\"xaxis\":{\"gridcolor\":\"white\",\"linecolor\":\"white\",\"ticks\":\"\",\"title\":{\"standoff\":15},\"zerolinecolor\":\"white\",\"automargin\":true,\"zerolinewidth\":2},\"yaxis\":{\"gridcolor\":\"white\",\"linecolor\":\"white\",\"ticks\":\"\",\"title\":{\"standoff\":15},\"zerolinecolor\":\"white\",\"automargin\":true,\"zerolinewidth\":2},\"scene\":{\"xaxis\":{\"backgroundcolor\":\"#E5ECF6\",\"gridcolor\":\"white\",\"linecolor\":\"white\",\"showbackground\":true,\"ticks\":\"\",\"zerolinecolor\":\"white\",\"gridwidth\":2},\"yaxis\":{\"backgroundcolor\":\"#E5ECF6\",\"gridcolor\":\"white\",\"linecolor\":\"white\",\"showbackground\":true,\"ticks\":\"\",\"zerolinecolor\":\"white\",\"gridwidth\":2},\"zaxis\":{\"backgroundcolor\":\"#E5ECF6\",\"gridcolor\":\"white\",\"linecolor\":\"white\",\"showbackground\":true,\"ticks\":\"\",\"zerolinecolor\":\"white\",\"gridwidth\":2}},\"shapedefaults\":{\"line\":{\"color\":\"#2a3f5f\"}},\"annotationdefaults\":{\"arrowcolor\":\"#2a3f5f\",\"arrowhead\":0,\"arrowwidth\":1},\"geo\":{\"bgcolor\":\"white\",\"landcolor\":\"#E5ECF6\",\"subunitcolor\":\"white\",\"showland\":true,\"showlakes\":true,\"lakecolor\":\"white\"},\"title\":{\"x\":0.05},\"mapbox\":{\"style\":\"light\"}}},\"xaxis\":{\"anchor\":\"y\",\"domain\":[0.0,1.0],\"title\":{\"text\":\"data\"}},\"yaxis\":{\"anchor\":\"x\",\"domain\":[0.0,1.0],\"title\":{\"text\":\"sigmoid\"},\"range\":[-0.5,1.5]},\"legend\":{\"tracegroupgap\":0},\"margin\":{\"t\":60},\"width\":800},                        {\"responsive\": true}                    ).then(function(){\n",
              "                            \n",
              "var gd = document.getElementById('e7450ad8-81e9-497f-8510-0da738e3e48f');\n",
              "var x = new MutationObserver(function (mutations, observer) {{\n",
              "        var display = window.getComputedStyle(gd).display;\n",
              "        if (!display || display === 'none') {{\n",
              "            console.log([gd, 'removed!']);\n",
              "            Plotly.purge(gd);\n",
              "            observer.disconnect();\n",
              "        }}\n",
              "}});\n",
              "\n",
              "// Listen for the removal of the full notebook cells\n",
              "var notebookContainer = gd.closest('#notebook-container');\n",
              "if (notebookContainer) {{\n",
              "    x.observe(notebookContainer, {childList: true});\n",
              "}}\n",
              "\n",
              "// Listen for the clearing of the current output cell\n",
              "var outputEl = gd.closest('.output');\n",
              "if (outputEl) {{\n",
              "    x.observe(outputEl, {childList: true});\n",
              "}}\n",
              "\n",
              "                        })                };                            </script>        </div>\n",
              "</body>\n",
              "</html>"
            ]
          },
          "metadata": {}
        }
      ]
    },
    {
      "cell_type": "code",
      "metadata": {
        "id": "bX8_Bg2OfyLi",
        "colab": {
          "base_uri": "https://localhost:8080/",
          "height": 206
        },
        "outputId": "95e6dca1-dfa3-434e-d596-a706b18d57a9"
      },
      "source": [
        "from tensorflow.keras.activations import relu\n",
        "\n",
        "data = pd.DataFrame({'data': random_data, 'relu': relu(random_data)})\n",
        "data.head()"
      ],
      "execution_count": 10,
      "outputs": [
        {
          "output_type": "execute_result",
          "data": {
            "text/plain": [
              "       data  relu\n",
              "0 -2.417708   0.0\n",
              "1 -2.201454   0.0\n",
              "2 -2.191922   0.0\n",
              "3 -1.945960   0.0\n",
              "4 -1.937121   0.0"
            ],
            "text/html": [
              "\n",
              "  <div id=\"df-7b8b8647-0c37-48d7-9fdc-6415d86b9a8d\" class=\"colab-df-container\">\n",
              "    <div>\n",
              "<style scoped>\n",
              "    .dataframe tbody tr th:only-of-type {\n",
              "        vertical-align: middle;\n",
              "    }\n",
              "\n",
              "    .dataframe tbody tr th {\n",
              "        vertical-align: top;\n",
              "    }\n",
              "\n",
              "    .dataframe thead th {\n",
              "        text-align: right;\n",
              "    }\n",
              "</style>\n",
              "<table border=\"1\" class=\"dataframe\">\n",
              "  <thead>\n",
              "    <tr style=\"text-align: right;\">\n",
              "      <th></th>\n",
              "      <th>data</th>\n",
              "      <th>relu</th>\n",
              "    </tr>\n",
              "  </thead>\n",
              "  <tbody>\n",
              "    <tr>\n",
              "      <th>0</th>\n",
              "      <td>-2.417708</td>\n",
              "      <td>0.0</td>\n",
              "    </tr>\n",
              "    <tr>\n",
              "      <th>1</th>\n",
              "      <td>-2.201454</td>\n",
              "      <td>0.0</td>\n",
              "    </tr>\n",
              "    <tr>\n",
              "      <th>2</th>\n",
              "      <td>-2.191922</td>\n",
              "      <td>0.0</td>\n",
              "    </tr>\n",
              "    <tr>\n",
              "      <th>3</th>\n",
              "      <td>-1.945960</td>\n",
              "      <td>0.0</td>\n",
              "    </tr>\n",
              "    <tr>\n",
              "      <th>4</th>\n",
              "      <td>-1.937121</td>\n",
              "      <td>0.0</td>\n",
              "    </tr>\n",
              "  </tbody>\n",
              "</table>\n",
              "</div>\n",
              "    <div class=\"colab-df-buttons\">\n",
              "\n",
              "  <div class=\"colab-df-container\">\n",
              "    <button class=\"colab-df-convert\" onclick=\"convertToInteractive('df-7b8b8647-0c37-48d7-9fdc-6415d86b9a8d')\"\n",
              "            title=\"Convert this dataframe to an interactive table.\"\n",
              "            style=\"display:none;\">\n",
              "\n",
              "  <svg xmlns=\"http://www.w3.org/2000/svg\" height=\"24px\" viewBox=\"0 -960 960 960\">\n",
              "    <path d=\"M120-120v-720h720v720H120Zm60-500h600v-160H180v160Zm220 220h160v-160H400v160Zm0 220h160v-160H400v160ZM180-400h160v-160H180v160Zm440 0h160v-160H620v160ZM180-180h160v-160H180v160Zm440 0h160v-160H620v160Z\"/>\n",
              "  </svg>\n",
              "    </button>\n",
              "\n",
              "  <style>\n",
              "    .colab-df-container {\n",
              "      display:flex;\n",
              "      gap: 12px;\n",
              "    }\n",
              "\n",
              "    .colab-df-convert {\n",
              "      background-color: #E8F0FE;\n",
              "      border: none;\n",
              "      border-radius: 50%;\n",
              "      cursor: pointer;\n",
              "      display: none;\n",
              "      fill: #1967D2;\n",
              "      height: 32px;\n",
              "      padding: 0 0 0 0;\n",
              "      width: 32px;\n",
              "    }\n",
              "\n",
              "    .colab-df-convert:hover {\n",
              "      background-color: #E2EBFA;\n",
              "      box-shadow: 0px 1px 2px rgba(60, 64, 67, 0.3), 0px 1px 3px 1px rgba(60, 64, 67, 0.15);\n",
              "      fill: #174EA6;\n",
              "    }\n",
              "\n",
              "    .colab-df-buttons div {\n",
              "      margin-bottom: 4px;\n",
              "    }\n",
              "\n",
              "    [theme=dark] .colab-df-convert {\n",
              "      background-color: #3B4455;\n",
              "      fill: #D2E3FC;\n",
              "    }\n",
              "\n",
              "    [theme=dark] .colab-df-convert:hover {\n",
              "      background-color: #434B5C;\n",
              "      box-shadow: 0px 1px 3px 1px rgba(0, 0, 0, 0.15);\n",
              "      filter: drop-shadow(0px 1px 2px rgba(0, 0, 0, 0.3));\n",
              "      fill: #FFFFFF;\n",
              "    }\n",
              "  </style>\n",
              "\n",
              "    <script>\n",
              "      const buttonEl =\n",
              "        document.querySelector('#df-7b8b8647-0c37-48d7-9fdc-6415d86b9a8d button.colab-df-convert');\n",
              "      buttonEl.style.display =\n",
              "        google.colab.kernel.accessAllowed ? 'block' : 'none';\n",
              "\n",
              "      async function convertToInteractive(key) {\n",
              "        const element = document.querySelector('#df-7b8b8647-0c37-48d7-9fdc-6415d86b9a8d');\n",
              "        const dataTable =\n",
              "          await google.colab.kernel.invokeFunction('convertToInteractive',\n",
              "                                                    [key], {});\n",
              "        if (!dataTable) return;\n",
              "\n",
              "        const docLinkHtml = 'Like what you see? Visit the ' +\n",
              "          '<a target=\"_blank\" href=https://colab.research.google.com/notebooks/data_table.ipynb>data table notebook</a>'\n",
              "          + ' to learn more about interactive tables.';\n",
              "        element.innerHTML = '';\n",
              "        dataTable['output_type'] = 'display_data';\n",
              "        await google.colab.output.renderOutput(dataTable, element);\n",
              "        const docLink = document.createElement('div');\n",
              "        docLink.innerHTML = docLinkHtml;\n",
              "        element.appendChild(docLink);\n",
              "      }\n",
              "    </script>\n",
              "  </div>\n",
              "\n",
              "\n",
              "<div id=\"df-3ee19e24-63e6-45ca-a1cc-362d8289f552\">\n",
              "  <button class=\"colab-df-quickchart\" onclick=\"quickchart('df-3ee19e24-63e6-45ca-a1cc-362d8289f552')\"\n",
              "            title=\"Suggest charts\"\n",
              "            style=\"display:none;\">\n",
              "\n",
              "<svg xmlns=\"http://www.w3.org/2000/svg\" height=\"24px\"viewBox=\"0 0 24 24\"\n",
              "     width=\"24px\">\n",
              "    <g>\n",
              "        <path d=\"M19 3H5c-1.1 0-2 .9-2 2v14c0 1.1.9 2 2 2h14c1.1 0 2-.9 2-2V5c0-1.1-.9-2-2-2zM9 17H7v-7h2v7zm4 0h-2V7h2v10zm4 0h-2v-4h2v4z\"/>\n",
              "    </g>\n",
              "</svg>\n",
              "  </button>\n",
              "\n",
              "<style>\n",
              "  .colab-df-quickchart {\n",
              "      --bg-color: #E8F0FE;\n",
              "      --fill-color: #1967D2;\n",
              "      --hover-bg-color: #E2EBFA;\n",
              "      --hover-fill-color: #174EA6;\n",
              "      --disabled-fill-color: #AAA;\n",
              "      --disabled-bg-color: #DDD;\n",
              "  }\n",
              "\n",
              "  [theme=dark] .colab-df-quickchart {\n",
              "      --bg-color: #3B4455;\n",
              "      --fill-color: #D2E3FC;\n",
              "      --hover-bg-color: #434B5C;\n",
              "      --hover-fill-color: #FFFFFF;\n",
              "      --disabled-bg-color: #3B4455;\n",
              "      --disabled-fill-color: #666;\n",
              "  }\n",
              "\n",
              "  .colab-df-quickchart {\n",
              "    background-color: var(--bg-color);\n",
              "    border: none;\n",
              "    border-radius: 50%;\n",
              "    cursor: pointer;\n",
              "    display: none;\n",
              "    fill: var(--fill-color);\n",
              "    height: 32px;\n",
              "    padding: 0;\n",
              "    width: 32px;\n",
              "  }\n",
              "\n",
              "  .colab-df-quickchart:hover {\n",
              "    background-color: var(--hover-bg-color);\n",
              "    box-shadow: 0 1px 2px rgba(60, 64, 67, 0.3), 0 1px 3px 1px rgba(60, 64, 67, 0.15);\n",
              "    fill: var(--button-hover-fill-color);\n",
              "  }\n",
              "\n",
              "  .colab-df-quickchart-complete:disabled,\n",
              "  .colab-df-quickchart-complete:disabled:hover {\n",
              "    background-color: var(--disabled-bg-color);\n",
              "    fill: var(--disabled-fill-color);\n",
              "    box-shadow: none;\n",
              "  }\n",
              "\n",
              "  .colab-df-spinner {\n",
              "    border: 2px solid var(--fill-color);\n",
              "    border-color: transparent;\n",
              "    border-bottom-color: var(--fill-color);\n",
              "    animation:\n",
              "      spin 1s steps(1) infinite;\n",
              "  }\n",
              "\n",
              "  @keyframes spin {\n",
              "    0% {\n",
              "      border-color: transparent;\n",
              "      border-bottom-color: var(--fill-color);\n",
              "      border-left-color: var(--fill-color);\n",
              "    }\n",
              "    20% {\n",
              "      border-color: transparent;\n",
              "      border-left-color: var(--fill-color);\n",
              "      border-top-color: var(--fill-color);\n",
              "    }\n",
              "    30% {\n",
              "      border-color: transparent;\n",
              "      border-left-color: var(--fill-color);\n",
              "      border-top-color: var(--fill-color);\n",
              "      border-right-color: var(--fill-color);\n",
              "    }\n",
              "    40% {\n",
              "      border-color: transparent;\n",
              "      border-right-color: var(--fill-color);\n",
              "      border-top-color: var(--fill-color);\n",
              "    }\n",
              "    60% {\n",
              "      border-color: transparent;\n",
              "      border-right-color: var(--fill-color);\n",
              "    }\n",
              "    80% {\n",
              "      border-color: transparent;\n",
              "      border-right-color: var(--fill-color);\n",
              "      border-bottom-color: var(--fill-color);\n",
              "    }\n",
              "    90% {\n",
              "      border-color: transparent;\n",
              "      border-bottom-color: var(--fill-color);\n",
              "    }\n",
              "  }\n",
              "</style>\n",
              "\n",
              "  <script>\n",
              "    async function quickchart(key) {\n",
              "      const quickchartButtonEl =\n",
              "        document.querySelector('#' + key + ' button');\n",
              "      quickchartButtonEl.disabled = true;  // To prevent multiple clicks.\n",
              "      quickchartButtonEl.classList.add('colab-df-spinner');\n",
              "      try {\n",
              "        const charts = await google.colab.kernel.invokeFunction(\n",
              "            'suggestCharts', [key], {});\n",
              "      } catch (error) {\n",
              "        console.error('Error during call to suggestCharts:', error);\n",
              "      }\n",
              "      quickchartButtonEl.classList.remove('colab-df-spinner');\n",
              "      quickchartButtonEl.classList.add('colab-df-quickchart-complete');\n",
              "    }\n",
              "    (() => {\n",
              "      let quickchartButtonEl =\n",
              "        document.querySelector('#df-3ee19e24-63e6-45ca-a1cc-362d8289f552 button');\n",
              "      quickchartButtonEl.style.display =\n",
              "        google.colab.kernel.accessAllowed ? 'block' : 'none';\n",
              "    })();\n",
              "  </script>\n",
              "</div>\n",
              "    </div>\n",
              "  </div>\n"
            ]
          },
          "metadata": {},
          "execution_count": 10
        }
      ]
    },
    {
      "cell_type": "code",
      "metadata": {
        "id": "vXV-1MECgWyz",
        "colab": {
          "base_uri": "https://localhost:8080/",
          "height": 542
        },
        "outputId": "e87d1a0c-b811-45ce-f525-38618bf87753"
      },
      "source": [
        "px.line(data, x='data', y='relu', width=800, range_y=[-0.5, 1.5])"
      ],
      "execution_count": 11,
      "outputs": [
        {
          "output_type": "display_data",
          "data": {
            "text/html": [
              "<html>\n",
              "<head><meta charset=\"utf-8\" /></head>\n",
              "<body>\n",
              "    <div>            <script src=\"https://cdnjs.cloudflare.com/ajax/libs/mathjax/2.7.5/MathJax.js?config=TeX-AMS-MML_SVG\"></script><script type=\"text/javascript\">if (window.MathJax && window.MathJax.Hub && window.MathJax.Hub.Config) {window.MathJax.Hub.Config({SVG: {font: \"STIX-Web\"}});}</script>                <script type=\"text/javascript\">window.PlotlyConfig = {MathJaxConfig: 'local'};</script>\n",
              "        <script charset=\"utf-8\" src=\"https://cdn.plot.ly/plotly-2.24.1.min.js\"></script>                <div id=\"33c4a8e4-eba2-466b-a896-d3883df3e252\" class=\"plotly-graph-div\" style=\"height:525px; width:800px;\"></div>            <script type=\"text/javascript\">                                    window.PLOTLYENV=window.PLOTLYENV || {};                                    if (document.getElementById(\"33c4a8e4-eba2-466b-a896-d3883df3e252\")) {                    Plotly.newPlot(                        \"33c4a8e4-eba2-466b-a896-d3883df3e252\",                        [{\"hovertemplate\":\"data=%{x}\\u003cbr\\u003erelu=%{y}\\u003cextra\\u003e\\u003c\\u002fextra\\u003e\",\"legendgroup\":\"\",\"line\":{\"color\":\"#636efa\",\"dash\":\"solid\"},\"marker\":{\"symbol\":\"circle\"},\"mode\":\"lines\",\"name\":\"\",\"orientation\":\"v\",\"showlegend\":false,\"x\":[-2.4177075765730365,-2.2014540382103522,-2.1919215196822757,-1.945960412603987,-1.9371208047403639,-1.9262690097299664,-1.8952007921704277,-1.827233046645929,-1.7881819304836906,-1.7816735128395325,-1.7353652851277783,-1.6035301731897873,-1.5441942359950864,-1.542717322848065,-1.5407095901455197,-1.5341295773002253,-1.530845545537666,-1.5107151993560308,-1.4404271532297601,-1.4094558999283302,-1.3914693019800837,-1.385488733995049,-1.3730128475551733,-1.3446459572266158,-1.30174951354741,-1.106543456135352,-1.0698315373121998,-1.0194925048670147,-1.0071498307741245,-1.002535480833112,-0.9614957037956642,-0.9540843584526603,-0.8933954394013824,-0.8859838045043817,-0.8717695745625017,-0.8434414780804742,-0.8335416570432329,-0.8206565371116838,-0.8138792911208816,-0.8087702771809724,-0.8063888341343376,-0.788039139887224,-0.7777916129103932,-0.7712455121354176,-0.754716568854277,-0.7535517154058312,-0.736032315535861,-0.6882450823854142,-0.6675567252844008,-0.6568865474305049,-0.6391640906689134,-0.5578898182117188,-0.5506909565327969,-0.5475431285451019,-0.544927176744271,-0.5325375881574888,-0.532216099852221,-0.5316309161110093,-0.5287160080638958,-0.4950937056642926,-0.4455946666024168,-0.43939176197618174,-0.4254915093273374,-0.42154298978213145,-0.41797112441948636,-0.4115555876191908,-0.3995757700372958,-0.3829183778327604,-0.36662840443021033,-0.34852458955726995,-0.33977646711358506,-0.3128142406177238,-0.2846788926336458,-0.27407356794223475,-0.25472717498964054,-0.24314903209713143,-0.23994386507712945,-0.2364628365623422,-0.22574898921510728,-0.20994178257925825,-0.20626417574129335,-0.19602691052533164,-0.18572912528685429,-0.18031905911163235,-0.159849679733065,-0.15596847563591384,-0.14107070691006685,-0.12011066018125129,-0.11994167827400222,-0.11601578540515457,-0.11443889426477498,-0.10860482736781878,-0.09727832095462931,-0.09673325735602921,-0.08587682660808636,-0.08508715835879847,-0.08118023011650256,-0.03230556681279205,-0.022081783309571647,-0.00838440423968476,-0.004359882234982392,-0.002546487425053688,0.020963221312378964,0.050155218530054474,0.06320346842529508,0.06547047962369885,0.0740670680491757,0.07493833362319252,0.07847749953068109,0.10152004201280738,0.11349259068006991,0.12310709629022347,0.12881039886030413,0.13094206418542936,0.1407034030474493,0.19799623327556987,0.1993029429156566,0.24153960644250907,0.29965667861045914,0.3089553225657586,0.32318113497574746,0.3462202846300161,0.3662885809016243,0.3792093575759039,0.3794592922996785,0.38117518799555017,0.397579954068626,0.40079391837848843,0.4021594533630883,0.40968838196212054,0.4367564552920297,0.4375820865005155,0.4377333451903514,0.4558632689186081,0.46548548195450945,0.46879232312903013,0.5115755629379355,0.52843038574082,0.5352577582888441,0.5483846185235761,0.5643775544329351,0.5763690044321365,0.5949044301268032,0.6221605420933669,0.6227357684205236,0.6484483201982941,0.671620247229308,0.6822260784945761,0.7079242772265366,0.7108642863875541,0.7376039488123272,0.7380203289000862,0.7558185663553683,0.7789727845131169,0.7825305147432065,0.7975237949535874,0.806121838530458,0.8824919543294583,0.8860448237490549,0.90663796283171,0.9154714681206978,0.922503116426902,0.9254325462456969,0.9338718709652811,0.9593897326333075,0.9699061470510338,0.9713130828631797,0.9833606061630329,0.9971728007424998,1.0106918666791964,1.0507791927499477,1.0512616604040095,1.0823405485114852,1.1093520456364492,1.1372953877799896,1.2033380674786462,1.2035325173068894,1.2646223356813777,1.2835331822362595,1.3176420007544396,1.3200562297491283,1.3202617230355982,1.3345428642508723,1.378052581180226,1.4070760868764147,1.4435517107112872,1.5073877811138323,1.5141313659511948,1.5288460298692519,1.5305463063775901,1.5542107094474107,1.558414478456663,1.697202363996023,1.7393113007076062,1.7753798032227175,1.9701594450544158,2.0246450134153218,2.126445440846229,2.1351582929351536,2.2134866135935685],\"xaxis\":\"x\",\"y\":[0.0,0.0,0.0,0.0,0.0,0.0,0.0,0.0,0.0,0.0,0.0,0.0,0.0,0.0,0.0,0.0,0.0,0.0,0.0,0.0,0.0,0.0,0.0,0.0,0.0,0.0,0.0,0.0,0.0,0.0,0.0,0.0,0.0,0.0,0.0,0.0,0.0,0.0,0.0,0.0,0.0,0.0,0.0,0.0,0.0,0.0,0.0,0.0,0.0,0.0,0.0,0.0,0.0,0.0,0.0,0.0,0.0,0.0,0.0,0.0,0.0,0.0,0.0,0.0,0.0,0.0,0.0,0.0,0.0,0.0,0.0,0.0,0.0,0.0,0.0,0.0,0.0,0.0,0.0,0.0,0.0,0.0,0.0,0.0,0.0,0.0,0.0,0.0,0.0,0.0,0.0,0.0,0.0,0.0,0.0,0.0,0.0,0.0,0.0,0.0,0.0,0.0,0.020963221312378964,0.050155218530054474,0.06320346842529508,0.06547047962369885,0.0740670680491757,0.07493833362319252,0.07847749953068109,0.10152004201280738,0.11349259068006991,0.12310709629022347,0.12881039886030413,0.13094206418542936,0.1407034030474493,0.19799623327556987,0.1993029429156566,0.24153960644250907,0.29965667861045914,0.3089553225657586,0.32318113497574746,0.3462202846300161,0.3662885809016243,0.3792093575759039,0.3794592922996785,0.38117518799555017,0.397579954068626,0.40079391837848843,0.4021594533630883,0.40968838196212054,0.4367564552920297,0.4375820865005155,0.4377333451903514,0.4558632689186081,0.46548548195450945,0.46879232312903013,0.5115755629379355,0.52843038574082,0.5352577582888441,0.5483846185235761,0.5643775544329351,0.5763690044321365,0.5949044301268032,0.6221605420933669,0.6227357684205236,0.6484483201982941,0.671620247229308,0.6822260784945761,0.7079242772265366,0.7108642863875541,0.7376039488123272,0.7380203289000862,0.7558185663553683,0.7789727845131169,0.7825305147432065,0.7975237949535874,0.806121838530458,0.8824919543294583,0.8860448237490549,0.90663796283171,0.9154714681206978,0.922503116426902,0.9254325462456969,0.9338718709652811,0.9593897326333075,0.9699061470510338,0.9713130828631797,0.9833606061630329,0.9971728007424998,1.0106918666791964,1.0507791927499477,1.0512616604040095,1.0823405485114852,1.1093520456364492,1.1372953877799896,1.2033380674786462,1.2035325173068894,1.2646223356813777,1.2835331822362595,1.3176420007544396,1.3200562297491283,1.3202617230355982,1.3345428642508723,1.378052581180226,1.4070760868764147,1.4435517107112872,1.5073877811138323,1.5141313659511948,1.5288460298692519,1.5305463063775901,1.5542107094474107,1.558414478456663,1.697202363996023,1.7393113007076062,1.7753798032227175,1.9701594450544158,2.0246450134153218,2.126445440846229,2.1351582929351536,2.2134866135935685],\"yaxis\":\"y\",\"type\":\"scatter\"}],                        {\"template\":{\"data\":{\"histogram2dcontour\":[{\"type\":\"histogram2dcontour\",\"colorbar\":{\"outlinewidth\":0,\"ticks\":\"\"},\"colorscale\":[[0.0,\"#0d0887\"],[0.1111111111111111,\"#46039f\"],[0.2222222222222222,\"#7201a8\"],[0.3333333333333333,\"#9c179e\"],[0.4444444444444444,\"#bd3786\"],[0.5555555555555556,\"#d8576b\"],[0.6666666666666666,\"#ed7953\"],[0.7777777777777778,\"#fb9f3a\"],[0.8888888888888888,\"#fdca26\"],[1.0,\"#f0f921\"]]}],\"choropleth\":[{\"type\":\"choropleth\",\"colorbar\":{\"outlinewidth\":0,\"ticks\":\"\"}}],\"histogram2d\":[{\"type\":\"histogram2d\",\"colorbar\":{\"outlinewidth\":0,\"ticks\":\"\"},\"colorscale\":[[0.0,\"#0d0887\"],[0.1111111111111111,\"#46039f\"],[0.2222222222222222,\"#7201a8\"],[0.3333333333333333,\"#9c179e\"],[0.4444444444444444,\"#bd3786\"],[0.5555555555555556,\"#d8576b\"],[0.6666666666666666,\"#ed7953\"],[0.7777777777777778,\"#fb9f3a\"],[0.8888888888888888,\"#fdca26\"],[1.0,\"#f0f921\"]]}],\"heatmap\":[{\"type\":\"heatmap\",\"colorbar\":{\"outlinewidth\":0,\"ticks\":\"\"},\"colorscale\":[[0.0,\"#0d0887\"],[0.1111111111111111,\"#46039f\"],[0.2222222222222222,\"#7201a8\"],[0.3333333333333333,\"#9c179e\"],[0.4444444444444444,\"#bd3786\"],[0.5555555555555556,\"#d8576b\"],[0.6666666666666666,\"#ed7953\"],[0.7777777777777778,\"#fb9f3a\"],[0.8888888888888888,\"#fdca26\"],[1.0,\"#f0f921\"]]}],\"heatmapgl\":[{\"type\":\"heatmapgl\",\"colorbar\":{\"outlinewidth\":0,\"ticks\":\"\"},\"colorscale\":[[0.0,\"#0d0887\"],[0.1111111111111111,\"#46039f\"],[0.2222222222222222,\"#7201a8\"],[0.3333333333333333,\"#9c179e\"],[0.4444444444444444,\"#bd3786\"],[0.5555555555555556,\"#d8576b\"],[0.6666666666666666,\"#ed7953\"],[0.7777777777777778,\"#fb9f3a\"],[0.8888888888888888,\"#fdca26\"],[1.0,\"#f0f921\"]]}],\"contourcarpet\":[{\"type\":\"contourcarpet\",\"colorbar\":{\"outlinewidth\":0,\"ticks\":\"\"}}],\"contour\":[{\"type\":\"contour\",\"colorbar\":{\"outlinewidth\":0,\"ticks\":\"\"},\"colorscale\":[[0.0,\"#0d0887\"],[0.1111111111111111,\"#46039f\"],[0.2222222222222222,\"#7201a8\"],[0.3333333333333333,\"#9c179e\"],[0.4444444444444444,\"#bd3786\"],[0.5555555555555556,\"#d8576b\"],[0.6666666666666666,\"#ed7953\"],[0.7777777777777778,\"#fb9f3a\"],[0.8888888888888888,\"#fdca26\"],[1.0,\"#f0f921\"]]}],\"surface\":[{\"type\":\"surface\",\"colorbar\":{\"outlinewidth\":0,\"ticks\":\"\"},\"colorscale\":[[0.0,\"#0d0887\"],[0.1111111111111111,\"#46039f\"],[0.2222222222222222,\"#7201a8\"],[0.3333333333333333,\"#9c179e\"],[0.4444444444444444,\"#bd3786\"],[0.5555555555555556,\"#d8576b\"],[0.6666666666666666,\"#ed7953\"],[0.7777777777777778,\"#fb9f3a\"],[0.8888888888888888,\"#fdca26\"],[1.0,\"#f0f921\"]]}],\"mesh3d\":[{\"type\":\"mesh3d\",\"colorbar\":{\"outlinewidth\":0,\"ticks\":\"\"}}],\"scatter\":[{\"fillpattern\":{\"fillmode\":\"overlay\",\"size\":10,\"solidity\":0.2},\"type\":\"scatter\"}],\"parcoords\":[{\"type\":\"parcoords\",\"line\":{\"colorbar\":{\"outlinewidth\":0,\"ticks\":\"\"}}}],\"scatterpolargl\":[{\"type\":\"scatterpolargl\",\"marker\":{\"colorbar\":{\"outlinewidth\":0,\"ticks\":\"\"}}}],\"bar\":[{\"error_x\":{\"color\":\"#2a3f5f\"},\"error_y\":{\"color\":\"#2a3f5f\"},\"marker\":{\"line\":{\"color\":\"#E5ECF6\",\"width\":0.5},\"pattern\":{\"fillmode\":\"overlay\",\"size\":10,\"solidity\":0.2}},\"type\":\"bar\"}],\"scattergeo\":[{\"type\":\"scattergeo\",\"marker\":{\"colorbar\":{\"outlinewidth\":0,\"ticks\":\"\"}}}],\"scatterpolar\":[{\"type\":\"scatterpolar\",\"marker\":{\"colorbar\":{\"outlinewidth\":0,\"ticks\":\"\"}}}],\"histogram\":[{\"marker\":{\"pattern\":{\"fillmode\":\"overlay\",\"size\":10,\"solidity\":0.2}},\"type\":\"histogram\"}],\"scattergl\":[{\"type\":\"scattergl\",\"marker\":{\"colorbar\":{\"outlinewidth\":0,\"ticks\":\"\"}}}],\"scatter3d\":[{\"type\":\"scatter3d\",\"line\":{\"colorbar\":{\"outlinewidth\":0,\"ticks\":\"\"}},\"marker\":{\"colorbar\":{\"outlinewidth\":0,\"ticks\":\"\"}}}],\"scattermapbox\":[{\"type\":\"scattermapbox\",\"marker\":{\"colorbar\":{\"outlinewidth\":0,\"ticks\":\"\"}}}],\"scatterternary\":[{\"type\":\"scatterternary\",\"marker\":{\"colorbar\":{\"outlinewidth\":0,\"ticks\":\"\"}}}],\"scattercarpet\":[{\"type\":\"scattercarpet\",\"marker\":{\"colorbar\":{\"outlinewidth\":0,\"ticks\":\"\"}}}],\"carpet\":[{\"aaxis\":{\"endlinecolor\":\"#2a3f5f\",\"gridcolor\":\"white\",\"linecolor\":\"white\",\"minorgridcolor\":\"white\",\"startlinecolor\":\"#2a3f5f\"},\"baxis\":{\"endlinecolor\":\"#2a3f5f\",\"gridcolor\":\"white\",\"linecolor\":\"white\",\"minorgridcolor\":\"white\",\"startlinecolor\":\"#2a3f5f\"},\"type\":\"carpet\"}],\"table\":[{\"cells\":{\"fill\":{\"color\":\"#EBF0F8\"},\"line\":{\"color\":\"white\"}},\"header\":{\"fill\":{\"color\":\"#C8D4E3\"},\"line\":{\"color\":\"white\"}},\"type\":\"table\"}],\"barpolar\":[{\"marker\":{\"line\":{\"color\":\"#E5ECF6\",\"width\":0.5},\"pattern\":{\"fillmode\":\"overlay\",\"size\":10,\"solidity\":0.2}},\"type\":\"barpolar\"}],\"pie\":[{\"automargin\":true,\"type\":\"pie\"}]},\"layout\":{\"autotypenumbers\":\"strict\",\"colorway\":[\"#636efa\",\"#EF553B\",\"#00cc96\",\"#ab63fa\",\"#FFA15A\",\"#19d3f3\",\"#FF6692\",\"#B6E880\",\"#FF97FF\",\"#FECB52\"],\"font\":{\"color\":\"#2a3f5f\"},\"hovermode\":\"closest\",\"hoverlabel\":{\"align\":\"left\"},\"paper_bgcolor\":\"white\",\"plot_bgcolor\":\"#E5ECF6\",\"polar\":{\"bgcolor\":\"#E5ECF6\",\"angularaxis\":{\"gridcolor\":\"white\",\"linecolor\":\"white\",\"ticks\":\"\"},\"radialaxis\":{\"gridcolor\":\"white\",\"linecolor\":\"white\",\"ticks\":\"\"}},\"ternary\":{\"bgcolor\":\"#E5ECF6\",\"aaxis\":{\"gridcolor\":\"white\",\"linecolor\":\"white\",\"ticks\":\"\"},\"baxis\":{\"gridcolor\":\"white\",\"linecolor\":\"white\",\"ticks\":\"\"},\"caxis\":{\"gridcolor\":\"white\",\"linecolor\":\"white\",\"ticks\":\"\"}},\"coloraxis\":{\"colorbar\":{\"outlinewidth\":0,\"ticks\":\"\"}},\"colorscale\":{\"sequential\":[[0.0,\"#0d0887\"],[0.1111111111111111,\"#46039f\"],[0.2222222222222222,\"#7201a8\"],[0.3333333333333333,\"#9c179e\"],[0.4444444444444444,\"#bd3786\"],[0.5555555555555556,\"#d8576b\"],[0.6666666666666666,\"#ed7953\"],[0.7777777777777778,\"#fb9f3a\"],[0.8888888888888888,\"#fdca26\"],[1.0,\"#f0f921\"]],\"sequentialminus\":[[0.0,\"#0d0887\"],[0.1111111111111111,\"#46039f\"],[0.2222222222222222,\"#7201a8\"],[0.3333333333333333,\"#9c179e\"],[0.4444444444444444,\"#bd3786\"],[0.5555555555555556,\"#d8576b\"],[0.6666666666666666,\"#ed7953\"],[0.7777777777777778,\"#fb9f3a\"],[0.8888888888888888,\"#fdca26\"],[1.0,\"#f0f921\"]],\"diverging\":[[0,\"#8e0152\"],[0.1,\"#c51b7d\"],[0.2,\"#de77ae\"],[0.3,\"#f1b6da\"],[0.4,\"#fde0ef\"],[0.5,\"#f7f7f7\"],[0.6,\"#e6f5d0\"],[0.7,\"#b8e186\"],[0.8,\"#7fbc41\"],[0.9,\"#4d9221\"],[1,\"#276419\"]]},\"xaxis\":{\"gridcolor\":\"white\",\"linecolor\":\"white\",\"ticks\":\"\",\"title\":{\"standoff\":15},\"zerolinecolor\":\"white\",\"automargin\":true,\"zerolinewidth\":2},\"yaxis\":{\"gridcolor\":\"white\",\"linecolor\":\"white\",\"ticks\":\"\",\"title\":{\"standoff\":15},\"zerolinecolor\":\"white\",\"automargin\":true,\"zerolinewidth\":2},\"scene\":{\"xaxis\":{\"backgroundcolor\":\"#E5ECF6\",\"gridcolor\":\"white\",\"linecolor\":\"white\",\"showbackground\":true,\"ticks\":\"\",\"zerolinecolor\":\"white\",\"gridwidth\":2},\"yaxis\":{\"backgroundcolor\":\"#E5ECF6\",\"gridcolor\":\"white\",\"linecolor\":\"white\",\"showbackground\":true,\"ticks\":\"\",\"zerolinecolor\":\"white\",\"gridwidth\":2},\"zaxis\":{\"backgroundcolor\":\"#E5ECF6\",\"gridcolor\":\"white\",\"linecolor\":\"white\",\"showbackground\":true,\"ticks\":\"\",\"zerolinecolor\":\"white\",\"gridwidth\":2}},\"shapedefaults\":{\"line\":{\"color\":\"#2a3f5f\"}},\"annotationdefaults\":{\"arrowcolor\":\"#2a3f5f\",\"arrowhead\":0,\"arrowwidth\":1},\"geo\":{\"bgcolor\":\"white\",\"landcolor\":\"#E5ECF6\",\"subunitcolor\":\"white\",\"showland\":true,\"showlakes\":true,\"lakecolor\":\"white\"},\"title\":{\"x\":0.05},\"mapbox\":{\"style\":\"light\"}}},\"xaxis\":{\"anchor\":\"y\",\"domain\":[0.0,1.0],\"title\":{\"text\":\"data\"}},\"yaxis\":{\"anchor\":\"x\",\"domain\":[0.0,1.0],\"title\":{\"text\":\"relu\"},\"range\":[-0.5,1.5]},\"legend\":{\"tracegroupgap\":0},\"margin\":{\"t\":60},\"width\":800},                        {\"responsive\": true}                    ).then(function(){\n",
              "                            \n",
              "var gd = document.getElementById('33c4a8e4-eba2-466b-a896-d3883df3e252');\n",
              "var x = new MutationObserver(function (mutations, observer) {{\n",
              "        var display = window.getComputedStyle(gd).display;\n",
              "        if (!display || display === 'none') {{\n",
              "            console.log([gd, 'removed!']);\n",
              "            Plotly.purge(gd);\n",
              "            observer.disconnect();\n",
              "        }}\n",
              "}});\n",
              "\n",
              "// Listen for the removal of the full notebook cells\n",
              "var notebookContainer = gd.closest('#notebook-container');\n",
              "if (notebookContainer) {{\n",
              "    x.observe(notebookContainer, {childList: true});\n",
              "}}\n",
              "\n",
              "// Listen for the clearing of the current output cell\n",
              "var outputEl = gd.closest('.output');\n",
              "if (outputEl) {{\n",
              "    x.observe(outputEl, {childList: true});\n",
              "}}\n",
              "\n",
              "                        })                };                            </script>        </div>\n",
              "</body>\n",
              "</html>"
            ]
          },
          "metadata": {}
        }
      ]
    },
    {
      "cell_type": "code",
      "metadata": {
        "id": "5AF9VX1OgZNg",
        "colab": {
          "base_uri": "https://localhost:8080/",
          "height": 206
        },
        "outputId": "3fad6346-2ab2-40bb-e0d5-4527fe9031cf"
      },
      "source": [
        "from tensorflow.keras.activations import tanh\n",
        "\n",
        "data = pd.DataFrame({'data': random_data, 'tanh': tanh(random_data)})\n",
        "data.head()"
      ],
      "execution_count": 12,
      "outputs": [
        {
          "output_type": "execute_result",
          "data": {
            "text/plain": [
              "       data      tanh\n",
              "0 -2.417708 -0.984238\n",
              "1 -2.201454 -0.975813\n",
              "2 -2.191922 -0.975353\n",
              "3 -1.945960 -0.960004\n",
              "4 -1.937121 -0.959305"
            ],
            "text/html": [
              "\n",
              "  <div id=\"df-e563d2cc-2773-41b6-92f6-c50fcb7cbd69\" class=\"colab-df-container\">\n",
              "    <div>\n",
              "<style scoped>\n",
              "    .dataframe tbody tr th:only-of-type {\n",
              "        vertical-align: middle;\n",
              "    }\n",
              "\n",
              "    .dataframe tbody tr th {\n",
              "        vertical-align: top;\n",
              "    }\n",
              "\n",
              "    .dataframe thead th {\n",
              "        text-align: right;\n",
              "    }\n",
              "</style>\n",
              "<table border=\"1\" class=\"dataframe\">\n",
              "  <thead>\n",
              "    <tr style=\"text-align: right;\">\n",
              "      <th></th>\n",
              "      <th>data</th>\n",
              "      <th>tanh</th>\n",
              "    </tr>\n",
              "  </thead>\n",
              "  <tbody>\n",
              "    <tr>\n",
              "      <th>0</th>\n",
              "      <td>-2.417708</td>\n",
              "      <td>-0.984238</td>\n",
              "    </tr>\n",
              "    <tr>\n",
              "      <th>1</th>\n",
              "      <td>-2.201454</td>\n",
              "      <td>-0.975813</td>\n",
              "    </tr>\n",
              "    <tr>\n",
              "      <th>2</th>\n",
              "      <td>-2.191922</td>\n",
              "      <td>-0.975353</td>\n",
              "    </tr>\n",
              "    <tr>\n",
              "      <th>3</th>\n",
              "      <td>-1.945960</td>\n",
              "      <td>-0.960004</td>\n",
              "    </tr>\n",
              "    <tr>\n",
              "      <th>4</th>\n",
              "      <td>-1.937121</td>\n",
              "      <td>-0.959305</td>\n",
              "    </tr>\n",
              "  </tbody>\n",
              "</table>\n",
              "</div>\n",
              "    <div class=\"colab-df-buttons\">\n",
              "\n",
              "  <div class=\"colab-df-container\">\n",
              "    <button class=\"colab-df-convert\" onclick=\"convertToInteractive('df-e563d2cc-2773-41b6-92f6-c50fcb7cbd69')\"\n",
              "            title=\"Convert this dataframe to an interactive table.\"\n",
              "            style=\"display:none;\">\n",
              "\n",
              "  <svg xmlns=\"http://www.w3.org/2000/svg\" height=\"24px\" viewBox=\"0 -960 960 960\">\n",
              "    <path d=\"M120-120v-720h720v720H120Zm60-500h600v-160H180v160Zm220 220h160v-160H400v160Zm0 220h160v-160H400v160ZM180-400h160v-160H180v160Zm440 0h160v-160H620v160ZM180-180h160v-160H180v160Zm440 0h160v-160H620v160Z\"/>\n",
              "  </svg>\n",
              "    </button>\n",
              "\n",
              "  <style>\n",
              "    .colab-df-container {\n",
              "      display:flex;\n",
              "      gap: 12px;\n",
              "    }\n",
              "\n",
              "    .colab-df-convert {\n",
              "      background-color: #E8F0FE;\n",
              "      border: none;\n",
              "      border-radius: 50%;\n",
              "      cursor: pointer;\n",
              "      display: none;\n",
              "      fill: #1967D2;\n",
              "      height: 32px;\n",
              "      padding: 0 0 0 0;\n",
              "      width: 32px;\n",
              "    }\n",
              "\n",
              "    .colab-df-convert:hover {\n",
              "      background-color: #E2EBFA;\n",
              "      box-shadow: 0px 1px 2px rgba(60, 64, 67, 0.3), 0px 1px 3px 1px rgba(60, 64, 67, 0.15);\n",
              "      fill: #174EA6;\n",
              "    }\n",
              "\n",
              "    .colab-df-buttons div {\n",
              "      margin-bottom: 4px;\n",
              "    }\n",
              "\n",
              "    [theme=dark] .colab-df-convert {\n",
              "      background-color: #3B4455;\n",
              "      fill: #D2E3FC;\n",
              "    }\n",
              "\n",
              "    [theme=dark] .colab-df-convert:hover {\n",
              "      background-color: #434B5C;\n",
              "      box-shadow: 0px 1px 3px 1px rgba(0, 0, 0, 0.15);\n",
              "      filter: drop-shadow(0px 1px 2px rgba(0, 0, 0, 0.3));\n",
              "      fill: #FFFFFF;\n",
              "    }\n",
              "  </style>\n",
              "\n",
              "    <script>\n",
              "      const buttonEl =\n",
              "        document.querySelector('#df-e563d2cc-2773-41b6-92f6-c50fcb7cbd69 button.colab-df-convert');\n",
              "      buttonEl.style.display =\n",
              "        google.colab.kernel.accessAllowed ? 'block' : 'none';\n",
              "\n",
              "      async function convertToInteractive(key) {\n",
              "        const element = document.querySelector('#df-e563d2cc-2773-41b6-92f6-c50fcb7cbd69');\n",
              "        const dataTable =\n",
              "          await google.colab.kernel.invokeFunction('convertToInteractive',\n",
              "                                                    [key], {});\n",
              "        if (!dataTable) return;\n",
              "\n",
              "        const docLinkHtml = 'Like what you see? Visit the ' +\n",
              "          '<a target=\"_blank\" href=https://colab.research.google.com/notebooks/data_table.ipynb>data table notebook</a>'\n",
              "          + ' to learn more about interactive tables.';\n",
              "        element.innerHTML = '';\n",
              "        dataTable['output_type'] = 'display_data';\n",
              "        await google.colab.output.renderOutput(dataTable, element);\n",
              "        const docLink = document.createElement('div');\n",
              "        docLink.innerHTML = docLinkHtml;\n",
              "        element.appendChild(docLink);\n",
              "      }\n",
              "    </script>\n",
              "  </div>\n",
              "\n",
              "\n",
              "<div id=\"df-5f34361a-c77d-42ba-82ee-cf3290bd3204\">\n",
              "  <button class=\"colab-df-quickchart\" onclick=\"quickchart('df-5f34361a-c77d-42ba-82ee-cf3290bd3204')\"\n",
              "            title=\"Suggest charts\"\n",
              "            style=\"display:none;\">\n",
              "\n",
              "<svg xmlns=\"http://www.w3.org/2000/svg\" height=\"24px\"viewBox=\"0 0 24 24\"\n",
              "     width=\"24px\">\n",
              "    <g>\n",
              "        <path d=\"M19 3H5c-1.1 0-2 .9-2 2v14c0 1.1.9 2 2 2h14c1.1 0 2-.9 2-2V5c0-1.1-.9-2-2-2zM9 17H7v-7h2v7zm4 0h-2V7h2v10zm4 0h-2v-4h2v4z\"/>\n",
              "    </g>\n",
              "</svg>\n",
              "  </button>\n",
              "\n",
              "<style>\n",
              "  .colab-df-quickchart {\n",
              "      --bg-color: #E8F0FE;\n",
              "      --fill-color: #1967D2;\n",
              "      --hover-bg-color: #E2EBFA;\n",
              "      --hover-fill-color: #174EA6;\n",
              "      --disabled-fill-color: #AAA;\n",
              "      --disabled-bg-color: #DDD;\n",
              "  }\n",
              "\n",
              "  [theme=dark] .colab-df-quickchart {\n",
              "      --bg-color: #3B4455;\n",
              "      --fill-color: #D2E3FC;\n",
              "      --hover-bg-color: #434B5C;\n",
              "      --hover-fill-color: #FFFFFF;\n",
              "      --disabled-bg-color: #3B4455;\n",
              "      --disabled-fill-color: #666;\n",
              "  }\n",
              "\n",
              "  .colab-df-quickchart {\n",
              "    background-color: var(--bg-color);\n",
              "    border: none;\n",
              "    border-radius: 50%;\n",
              "    cursor: pointer;\n",
              "    display: none;\n",
              "    fill: var(--fill-color);\n",
              "    height: 32px;\n",
              "    padding: 0;\n",
              "    width: 32px;\n",
              "  }\n",
              "\n",
              "  .colab-df-quickchart:hover {\n",
              "    background-color: var(--hover-bg-color);\n",
              "    box-shadow: 0 1px 2px rgba(60, 64, 67, 0.3), 0 1px 3px 1px rgba(60, 64, 67, 0.15);\n",
              "    fill: var(--button-hover-fill-color);\n",
              "  }\n",
              "\n",
              "  .colab-df-quickchart-complete:disabled,\n",
              "  .colab-df-quickchart-complete:disabled:hover {\n",
              "    background-color: var(--disabled-bg-color);\n",
              "    fill: var(--disabled-fill-color);\n",
              "    box-shadow: none;\n",
              "  }\n",
              "\n",
              "  .colab-df-spinner {\n",
              "    border: 2px solid var(--fill-color);\n",
              "    border-color: transparent;\n",
              "    border-bottom-color: var(--fill-color);\n",
              "    animation:\n",
              "      spin 1s steps(1) infinite;\n",
              "  }\n",
              "\n",
              "  @keyframes spin {\n",
              "    0% {\n",
              "      border-color: transparent;\n",
              "      border-bottom-color: var(--fill-color);\n",
              "      border-left-color: var(--fill-color);\n",
              "    }\n",
              "    20% {\n",
              "      border-color: transparent;\n",
              "      border-left-color: var(--fill-color);\n",
              "      border-top-color: var(--fill-color);\n",
              "    }\n",
              "    30% {\n",
              "      border-color: transparent;\n",
              "      border-left-color: var(--fill-color);\n",
              "      border-top-color: var(--fill-color);\n",
              "      border-right-color: var(--fill-color);\n",
              "    }\n",
              "    40% {\n",
              "      border-color: transparent;\n",
              "      border-right-color: var(--fill-color);\n",
              "      border-top-color: var(--fill-color);\n",
              "    }\n",
              "    60% {\n",
              "      border-color: transparent;\n",
              "      border-right-color: var(--fill-color);\n",
              "    }\n",
              "    80% {\n",
              "      border-color: transparent;\n",
              "      border-right-color: var(--fill-color);\n",
              "      border-bottom-color: var(--fill-color);\n",
              "    }\n",
              "    90% {\n",
              "      border-color: transparent;\n",
              "      border-bottom-color: var(--fill-color);\n",
              "    }\n",
              "  }\n",
              "</style>\n",
              "\n",
              "  <script>\n",
              "    async function quickchart(key) {\n",
              "      const quickchartButtonEl =\n",
              "        document.querySelector('#' + key + ' button');\n",
              "      quickchartButtonEl.disabled = true;  // To prevent multiple clicks.\n",
              "      quickchartButtonEl.classList.add('colab-df-spinner');\n",
              "      try {\n",
              "        const charts = await google.colab.kernel.invokeFunction(\n",
              "            'suggestCharts', [key], {});\n",
              "      } catch (error) {\n",
              "        console.error('Error during call to suggestCharts:', error);\n",
              "      }\n",
              "      quickchartButtonEl.classList.remove('colab-df-spinner');\n",
              "      quickchartButtonEl.classList.add('colab-df-quickchart-complete');\n",
              "    }\n",
              "    (() => {\n",
              "      let quickchartButtonEl =\n",
              "        document.querySelector('#df-5f34361a-c77d-42ba-82ee-cf3290bd3204 button');\n",
              "      quickchartButtonEl.style.display =\n",
              "        google.colab.kernel.accessAllowed ? 'block' : 'none';\n",
              "    })();\n",
              "  </script>\n",
              "</div>\n",
              "    </div>\n",
              "  </div>\n"
            ]
          },
          "metadata": {},
          "execution_count": 12
        }
      ]
    },
    {
      "cell_type": "code",
      "metadata": {
        "id": "60dxCfJpghZR",
        "colab": {
          "base_uri": "https://localhost:8080/",
          "height": 542
        },
        "outputId": "d649d50f-2e0e-4eea-d64f-586510db4896"
      },
      "source": [
        "px.line(data, x='data', y='tanh', width=800, range_y=[-1.5, 1.5])"
      ],
      "execution_count": 13,
      "outputs": [
        {
          "output_type": "display_data",
          "data": {
            "text/html": [
              "<html>\n",
              "<head><meta charset=\"utf-8\" /></head>\n",
              "<body>\n",
              "    <div>            <script src=\"https://cdnjs.cloudflare.com/ajax/libs/mathjax/2.7.5/MathJax.js?config=TeX-AMS-MML_SVG\"></script><script type=\"text/javascript\">if (window.MathJax && window.MathJax.Hub && window.MathJax.Hub.Config) {window.MathJax.Hub.Config({SVG: {font: \"STIX-Web\"}});}</script>                <script type=\"text/javascript\">window.PlotlyConfig = {MathJaxConfig: 'local'};</script>\n",
              "        <script charset=\"utf-8\" src=\"https://cdn.plot.ly/plotly-2.24.1.min.js\"></script>                <div id=\"14c21834-be35-4e3e-8ce4-0dfb7286e236\" class=\"plotly-graph-div\" style=\"height:525px; width:800px;\"></div>            <script type=\"text/javascript\">                                    window.PLOTLYENV=window.PLOTLYENV || {};                                    if (document.getElementById(\"14c21834-be35-4e3e-8ce4-0dfb7286e236\")) {                    Plotly.newPlot(                        \"14c21834-be35-4e3e-8ce4-0dfb7286e236\",                        [{\"hovertemplate\":\"data=%{x}\\u003cbr\\u003etanh=%{y}\\u003cextra\\u003e\\u003c\\u002fextra\\u003e\",\"legendgroup\":\"\",\"line\":{\"color\":\"#636efa\",\"dash\":\"solid\"},\"marker\":{\"symbol\":\"circle\"},\"mode\":\"lines\",\"name\":\"\",\"orientation\":\"v\",\"showlegend\":false,\"x\":[-2.4177075765730365,-2.2014540382103522,-2.1919215196822757,-1.945960412603987,-1.9371208047403639,-1.9262690097299664,-1.8952007921704277,-1.827233046645929,-1.7881819304836906,-1.7816735128395325,-1.7353652851277783,-1.6035301731897873,-1.5441942359950864,-1.542717322848065,-1.5407095901455197,-1.5341295773002253,-1.530845545537666,-1.5107151993560308,-1.4404271532297601,-1.4094558999283302,-1.3914693019800837,-1.385488733995049,-1.3730128475551733,-1.3446459572266158,-1.30174951354741,-1.106543456135352,-1.0698315373121998,-1.0194925048670147,-1.0071498307741245,-1.002535480833112,-0.9614957037956642,-0.9540843584526603,-0.8933954394013824,-0.8859838045043817,-0.8717695745625017,-0.8434414780804742,-0.8335416570432329,-0.8206565371116838,-0.8138792911208816,-0.8087702771809724,-0.8063888341343376,-0.788039139887224,-0.7777916129103932,-0.7712455121354176,-0.754716568854277,-0.7535517154058312,-0.736032315535861,-0.6882450823854142,-0.6675567252844008,-0.6568865474305049,-0.6391640906689134,-0.5578898182117188,-0.5506909565327969,-0.5475431285451019,-0.544927176744271,-0.5325375881574888,-0.532216099852221,-0.5316309161110093,-0.5287160080638958,-0.4950937056642926,-0.4455946666024168,-0.43939176197618174,-0.4254915093273374,-0.42154298978213145,-0.41797112441948636,-0.4115555876191908,-0.3995757700372958,-0.3829183778327604,-0.36662840443021033,-0.34852458955726995,-0.33977646711358506,-0.3128142406177238,-0.2846788926336458,-0.27407356794223475,-0.25472717498964054,-0.24314903209713143,-0.23994386507712945,-0.2364628365623422,-0.22574898921510728,-0.20994178257925825,-0.20626417574129335,-0.19602691052533164,-0.18572912528685429,-0.18031905911163235,-0.159849679733065,-0.15596847563591384,-0.14107070691006685,-0.12011066018125129,-0.11994167827400222,-0.11601578540515457,-0.11443889426477498,-0.10860482736781878,-0.09727832095462931,-0.09673325735602921,-0.08587682660808636,-0.08508715835879847,-0.08118023011650256,-0.03230556681279205,-0.022081783309571647,-0.00838440423968476,-0.004359882234982392,-0.002546487425053688,0.020963221312378964,0.050155218530054474,0.06320346842529508,0.06547047962369885,0.0740670680491757,0.07493833362319252,0.07847749953068109,0.10152004201280738,0.11349259068006991,0.12310709629022347,0.12881039886030413,0.13094206418542936,0.1407034030474493,0.19799623327556987,0.1993029429156566,0.24153960644250907,0.29965667861045914,0.3089553225657586,0.32318113497574746,0.3462202846300161,0.3662885809016243,0.3792093575759039,0.3794592922996785,0.38117518799555017,0.397579954068626,0.40079391837848843,0.4021594533630883,0.40968838196212054,0.4367564552920297,0.4375820865005155,0.4377333451903514,0.4558632689186081,0.46548548195450945,0.46879232312903013,0.5115755629379355,0.52843038574082,0.5352577582888441,0.5483846185235761,0.5643775544329351,0.5763690044321365,0.5949044301268032,0.6221605420933669,0.6227357684205236,0.6484483201982941,0.671620247229308,0.6822260784945761,0.7079242772265366,0.7108642863875541,0.7376039488123272,0.7380203289000862,0.7558185663553683,0.7789727845131169,0.7825305147432065,0.7975237949535874,0.806121838530458,0.8824919543294583,0.8860448237490549,0.90663796283171,0.9154714681206978,0.922503116426902,0.9254325462456969,0.9338718709652811,0.9593897326333075,0.9699061470510338,0.9713130828631797,0.9833606061630329,0.9971728007424998,1.0106918666791964,1.0507791927499477,1.0512616604040095,1.0823405485114852,1.1093520456364492,1.1372953877799896,1.2033380674786462,1.2035325173068894,1.2646223356813777,1.2835331822362595,1.3176420007544396,1.3200562297491283,1.3202617230355982,1.3345428642508723,1.378052581180226,1.4070760868764147,1.4435517107112872,1.5073877811138323,1.5141313659511948,1.5288460298692519,1.5305463063775901,1.5542107094474107,1.558414478456663,1.697202363996023,1.7393113007076062,1.7753798032227175,1.9701594450544158,2.0246450134153218,2.126445440846229,2.1351582929351536,2.2134866135935685],\"xaxis\":\"x\",\"y\":[-0.984238420537332,-0.9758127165370238,-0.9753528985626693,-0.960003940472073,-0.959305069637729,-0.95843074743218,-0.955824707291803,-0.9495546708748634,-0.945568361805511,-0.9448748591677346,-0.9396867859484831,-0.9221982155219426,-0.9128224635766539,-0.9125758484060275,-0.9122395290599824,-0.9111286253907642,-0.9105691782850823,-0.9070658890682413,-0.893783682198512,-0.8873785351286598,-0.8834937296755128,-0.882174405528432,-0.8793770063923039,-0.8727836391525039,-0.8621728637469147,-0.8028371592115827,-0.7893977440306581,-0.7696597495670429,-0.7645805886089176,-0.762656938331288,-0.7449432865819532,-0.7416265458263513,-0.7130667561011006,-0.7094043836599906,-0.702272090920007,-0.6876275966391047,-0.682373127361824,-0.6754270569363164,-0.6717247112162439,-0.6689113256987166,-0.6675933441338785,-0.6572967789707466,-0.6514373216239134,-0.6476531102164926,-0.6379543653840789,-0.6372630773163461,-0.6267419939386328,-0.5968534274884808,-0.5833704031753622,-0.5762876924953318,-0.5643301230448017,-0.5064100869305762,-0.5010378898443425,-0.4986765729180341,-0.49670858885426405,-0.48731844578690686,-0.48707326588572025,-0.4866267841411034,-0.4843989889656737,-0.45824987601286843,-0.41827109639792504,-0.4131401479227676,-0.40154662481058256,-0.3982295212626247,-0.395219838184277,-0.38979271375047475,-0.3795859161488435,-0.36523922613507626,-0.35103909918911347,-0.33506642562693645,-0.3272778193058404,-0.3029951479232071,-0.2772299484978074,-0.2674112112614616,-0.2493571053151424,-0.23846792788909285,-0.23544272705922742,-0.23215197961664516,-0.22199066531616946,-0.20691077538825084,-0.20338794974314317,-0.1935540339577096,-0.1836225922626283,-0.17838979140958816,-0.15850196400005942,-0.15471595683930697,-0.14014228338315943,-0.11953637894075642,-0.11936980824377959,-0.1154980614783467,-0.11394192362763016,-0.10817983408669307,-0.09697262744609834,-0.096432660969739,-0.085666338531344,-0.08488241256939238,-0.0810023668428684,-0.032294332937992734,-0.0220781949456672,-0.008384207775604188,-0.004359854610145707,-0.0025464819207520356,0.02096015104308965,0.05011320488557139,0.06311944350660335,0.06537709586626726,0.07393192233716192,0.07479836960441977,0.07831678850074605,0.10117270786025288,0.11300780523588327,0.12248893274474043,0.12810268300914335,0.1301987915087962,0.13978217479650737,0.19544885494754455,0.19670532633477397,0.23694944388932682,0.29099839494447904,0.29948641682285243,0.31238048189196554,0.3330192468902689,0.350741116051604,0.36202064264872996,0.3622378015377217,0.36372761640323853,0.3778763754073139,0.38062806461997617,0.38179515667026426,0.3882080567496954,0.4109522709966842,0.41163823524598836,0.4117638559277261,0.42670667165721965,0.434544462987605,0.4372230182469232,0.47117189188208386,0.4841803555012878,0.48938988092683455,0.49930853723748186,0.5112181713636039,0.520021340083581,0.5334137545880238,0.552630531609322,0.5530299565096923,0.5706244588295029,0.5860446689882921,0.5929646742719389,0.6093735512749393,0.6112185181350291,0.6276953411376424,0.6279476009255451,0.6386074062132995,0.6521167156617864,0.6541567573980364,0.6626501578797834,0.667445316982352,0.7076655227528722,0.7094346933782768,0.719514667204469,0.7237480380999558,0.7270794213229084,0.7284572855309112,0.7323939873731471,0.7440045327534129,0.7486630411538253,0.7492807435333536,0.754517005681123,0.7604042458906334,0.7660480286341191,0.7821091067566857,0.7822963808446348,0.7940654448662248,0.8038332307583509,0.8135013623232552,0.8346699550647758,0.8347289271942289,0.8523334383855099,0.8574234299381782,0.8661963284506403,0.8667979116983564,0.866849000841831,0.8703552598158768,0.8805144436985629,0.8868716140916476,0.8944104368512092,0.906474382738191,0.9076694686526441,0.9102269107873023,0.9105180352197627,0.9144775736526617,0.9151632201409897,0.9350584217781122,0.9401467175340892,0.944196073497416,0.9618575384849716,0.9657280263395546,0.9719528024099497,0.9724306320714524,0.9763810473002597],\"yaxis\":\"y\",\"type\":\"scatter\"}],                        {\"template\":{\"data\":{\"histogram2dcontour\":[{\"type\":\"histogram2dcontour\",\"colorbar\":{\"outlinewidth\":0,\"ticks\":\"\"},\"colorscale\":[[0.0,\"#0d0887\"],[0.1111111111111111,\"#46039f\"],[0.2222222222222222,\"#7201a8\"],[0.3333333333333333,\"#9c179e\"],[0.4444444444444444,\"#bd3786\"],[0.5555555555555556,\"#d8576b\"],[0.6666666666666666,\"#ed7953\"],[0.7777777777777778,\"#fb9f3a\"],[0.8888888888888888,\"#fdca26\"],[1.0,\"#f0f921\"]]}],\"choropleth\":[{\"type\":\"choropleth\",\"colorbar\":{\"outlinewidth\":0,\"ticks\":\"\"}}],\"histogram2d\":[{\"type\":\"histogram2d\",\"colorbar\":{\"outlinewidth\":0,\"ticks\":\"\"},\"colorscale\":[[0.0,\"#0d0887\"],[0.1111111111111111,\"#46039f\"],[0.2222222222222222,\"#7201a8\"],[0.3333333333333333,\"#9c179e\"],[0.4444444444444444,\"#bd3786\"],[0.5555555555555556,\"#d8576b\"],[0.6666666666666666,\"#ed7953\"],[0.7777777777777778,\"#fb9f3a\"],[0.8888888888888888,\"#fdca26\"],[1.0,\"#f0f921\"]]}],\"heatmap\":[{\"type\":\"heatmap\",\"colorbar\":{\"outlinewidth\":0,\"ticks\":\"\"},\"colorscale\":[[0.0,\"#0d0887\"],[0.1111111111111111,\"#46039f\"],[0.2222222222222222,\"#7201a8\"],[0.3333333333333333,\"#9c179e\"],[0.4444444444444444,\"#bd3786\"],[0.5555555555555556,\"#d8576b\"],[0.6666666666666666,\"#ed7953\"],[0.7777777777777778,\"#fb9f3a\"],[0.8888888888888888,\"#fdca26\"],[1.0,\"#f0f921\"]]}],\"heatmapgl\":[{\"type\":\"heatmapgl\",\"colorbar\":{\"outlinewidth\":0,\"ticks\":\"\"},\"colorscale\":[[0.0,\"#0d0887\"],[0.1111111111111111,\"#46039f\"],[0.2222222222222222,\"#7201a8\"],[0.3333333333333333,\"#9c179e\"],[0.4444444444444444,\"#bd3786\"],[0.5555555555555556,\"#d8576b\"],[0.6666666666666666,\"#ed7953\"],[0.7777777777777778,\"#fb9f3a\"],[0.8888888888888888,\"#fdca26\"],[1.0,\"#f0f921\"]]}],\"contourcarpet\":[{\"type\":\"contourcarpet\",\"colorbar\":{\"outlinewidth\":0,\"ticks\":\"\"}}],\"contour\":[{\"type\":\"contour\",\"colorbar\":{\"outlinewidth\":0,\"ticks\":\"\"},\"colorscale\":[[0.0,\"#0d0887\"],[0.1111111111111111,\"#46039f\"],[0.2222222222222222,\"#7201a8\"],[0.3333333333333333,\"#9c179e\"],[0.4444444444444444,\"#bd3786\"],[0.5555555555555556,\"#d8576b\"],[0.6666666666666666,\"#ed7953\"],[0.7777777777777778,\"#fb9f3a\"],[0.8888888888888888,\"#fdca26\"],[1.0,\"#f0f921\"]]}],\"surface\":[{\"type\":\"surface\",\"colorbar\":{\"outlinewidth\":0,\"ticks\":\"\"},\"colorscale\":[[0.0,\"#0d0887\"],[0.1111111111111111,\"#46039f\"],[0.2222222222222222,\"#7201a8\"],[0.3333333333333333,\"#9c179e\"],[0.4444444444444444,\"#bd3786\"],[0.5555555555555556,\"#d8576b\"],[0.6666666666666666,\"#ed7953\"],[0.7777777777777778,\"#fb9f3a\"],[0.8888888888888888,\"#fdca26\"],[1.0,\"#f0f921\"]]}],\"mesh3d\":[{\"type\":\"mesh3d\",\"colorbar\":{\"outlinewidth\":0,\"ticks\":\"\"}}],\"scatter\":[{\"fillpattern\":{\"fillmode\":\"overlay\",\"size\":10,\"solidity\":0.2},\"type\":\"scatter\"}],\"parcoords\":[{\"type\":\"parcoords\",\"line\":{\"colorbar\":{\"outlinewidth\":0,\"ticks\":\"\"}}}],\"scatterpolargl\":[{\"type\":\"scatterpolargl\",\"marker\":{\"colorbar\":{\"outlinewidth\":0,\"ticks\":\"\"}}}],\"bar\":[{\"error_x\":{\"color\":\"#2a3f5f\"},\"error_y\":{\"color\":\"#2a3f5f\"},\"marker\":{\"line\":{\"color\":\"#E5ECF6\",\"width\":0.5},\"pattern\":{\"fillmode\":\"overlay\",\"size\":10,\"solidity\":0.2}},\"type\":\"bar\"}],\"scattergeo\":[{\"type\":\"scattergeo\",\"marker\":{\"colorbar\":{\"outlinewidth\":0,\"ticks\":\"\"}}}],\"scatterpolar\":[{\"type\":\"scatterpolar\",\"marker\":{\"colorbar\":{\"outlinewidth\":0,\"ticks\":\"\"}}}],\"histogram\":[{\"marker\":{\"pattern\":{\"fillmode\":\"overlay\",\"size\":10,\"solidity\":0.2}},\"type\":\"histogram\"}],\"scattergl\":[{\"type\":\"scattergl\",\"marker\":{\"colorbar\":{\"outlinewidth\":0,\"ticks\":\"\"}}}],\"scatter3d\":[{\"type\":\"scatter3d\",\"line\":{\"colorbar\":{\"outlinewidth\":0,\"ticks\":\"\"}},\"marker\":{\"colorbar\":{\"outlinewidth\":0,\"ticks\":\"\"}}}],\"scattermapbox\":[{\"type\":\"scattermapbox\",\"marker\":{\"colorbar\":{\"outlinewidth\":0,\"ticks\":\"\"}}}],\"scatterternary\":[{\"type\":\"scatterternary\",\"marker\":{\"colorbar\":{\"outlinewidth\":0,\"ticks\":\"\"}}}],\"scattercarpet\":[{\"type\":\"scattercarpet\",\"marker\":{\"colorbar\":{\"outlinewidth\":0,\"ticks\":\"\"}}}],\"carpet\":[{\"aaxis\":{\"endlinecolor\":\"#2a3f5f\",\"gridcolor\":\"white\",\"linecolor\":\"white\",\"minorgridcolor\":\"white\",\"startlinecolor\":\"#2a3f5f\"},\"baxis\":{\"endlinecolor\":\"#2a3f5f\",\"gridcolor\":\"white\",\"linecolor\":\"white\",\"minorgridcolor\":\"white\",\"startlinecolor\":\"#2a3f5f\"},\"type\":\"carpet\"}],\"table\":[{\"cells\":{\"fill\":{\"color\":\"#EBF0F8\"},\"line\":{\"color\":\"white\"}},\"header\":{\"fill\":{\"color\":\"#C8D4E3\"},\"line\":{\"color\":\"white\"}},\"type\":\"table\"}],\"barpolar\":[{\"marker\":{\"line\":{\"color\":\"#E5ECF6\",\"width\":0.5},\"pattern\":{\"fillmode\":\"overlay\",\"size\":10,\"solidity\":0.2}},\"type\":\"barpolar\"}],\"pie\":[{\"automargin\":true,\"type\":\"pie\"}]},\"layout\":{\"autotypenumbers\":\"strict\",\"colorway\":[\"#636efa\",\"#EF553B\",\"#00cc96\",\"#ab63fa\",\"#FFA15A\",\"#19d3f3\",\"#FF6692\",\"#B6E880\",\"#FF97FF\",\"#FECB52\"],\"font\":{\"color\":\"#2a3f5f\"},\"hovermode\":\"closest\",\"hoverlabel\":{\"align\":\"left\"},\"paper_bgcolor\":\"white\",\"plot_bgcolor\":\"#E5ECF6\",\"polar\":{\"bgcolor\":\"#E5ECF6\",\"angularaxis\":{\"gridcolor\":\"white\",\"linecolor\":\"white\",\"ticks\":\"\"},\"radialaxis\":{\"gridcolor\":\"white\",\"linecolor\":\"white\",\"ticks\":\"\"}},\"ternary\":{\"bgcolor\":\"#E5ECF6\",\"aaxis\":{\"gridcolor\":\"white\",\"linecolor\":\"white\",\"ticks\":\"\"},\"baxis\":{\"gridcolor\":\"white\",\"linecolor\":\"white\",\"ticks\":\"\"},\"caxis\":{\"gridcolor\":\"white\",\"linecolor\":\"white\",\"ticks\":\"\"}},\"coloraxis\":{\"colorbar\":{\"outlinewidth\":0,\"ticks\":\"\"}},\"colorscale\":{\"sequential\":[[0.0,\"#0d0887\"],[0.1111111111111111,\"#46039f\"],[0.2222222222222222,\"#7201a8\"],[0.3333333333333333,\"#9c179e\"],[0.4444444444444444,\"#bd3786\"],[0.5555555555555556,\"#d8576b\"],[0.6666666666666666,\"#ed7953\"],[0.7777777777777778,\"#fb9f3a\"],[0.8888888888888888,\"#fdca26\"],[1.0,\"#f0f921\"]],\"sequentialminus\":[[0.0,\"#0d0887\"],[0.1111111111111111,\"#46039f\"],[0.2222222222222222,\"#7201a8\"],[0.3333333333333333,\"#9c179e\"],[0.4444444444444444,\"#bd3786\"],[0.5555555555555556,\"#d8576b\"],[0.6666666666666666,\"#ed7953\"],[0.7777777777777778,\"#fb9f3a\"],[0.8888888888888888,\"#fdca26\"],[1.0,\"#f0f921\"]],\"diverging\":[[0,\"#8e0152\"],[0.1,\"#c51b7d\"],[0.2,\"#de77ae\"],[0.3,\"#f1b6da\"],[0.4,\"#fde0ef\"],[0.5,\"#f7f7f7\"],[0.6,\"#e6f5d0\"],[0.7,\"#b8e186\"],[0.8,\"#7fbc41\"],[0.9,\"#4d9221\"],[1,\"#276419\"]]},\"xaxis\":{\"gridcolor\":\"white\",\"linecolor\":\"white\",\"ticks\":\"\",\"title\":{\"standoff\":15},\"zerolinecolor\":\"white\",\"automargin\":true,\"zerolinewidth\":2},\"yaxis\":{\"gridcolor\":\"white\",\"linecolor\":\"white\",\"ticks\":\"\",\"title\":{\"standoff\":15},\"zerolinecolor\":\"white\",\"automargin\":true,\"zerolinewidth\":2},\"scene\":{\"xaxis\":{\"backgroundcolor\":\"#E5ECF6\",\"gridcolor\":\"white\",\"linecolor\":\"white\",\"showbackground\":true,\"ticks\":\"\",\"zerolinecolor\":\"white\",\"gridwidth\":2},\"yaxis\":{\"backgroundcolor\":\"#E5ECF6\",\"gridcolor\":\"white\",\"linecolor\":\"white\",\"showbackground\":true,\"ticks\":\"\",\"zerolinecolor\":\"white\",\"gridwidth\":2},\"zaxis\":{\"backgroundcolor\":\"#E5ECF6\",\"gridcolor\":\"white\",\"linecolor\":\"white\",\"showbackground\":true,\"ticks\":\"\",\"zerolinecolor\":\"white\",\"gridwidth\":2}},\"shapedefaults\":{\"line\":{\"color\":\"#2a3f5f\"}},\"annotationdefaults\":{\"arrowcolor\":\"#2a3f5f\",\"arrowhead\":0,\"arrowwidth\":1},\"geo\":{\"bgcolor\":\"white\",\"landcolor\":\"#E5ECF6\",\"subunitcolor\":\"white\",\"showland\":true,\"showlakes\":true,\"lakecolor\":\"white\"},\"title\":{\"x\":0.05},\"mapbox\":{\"style\":\"light\"}}},\"xaxis\":{\"anchor\":\"y\",\"domain\":[0.0,1.0],\"title\":{\"text\":\"data\"}},\"yaxis\":{\"anchor\":\"x\",\"domain\":[0.0,1.0],\"title\":{\"text\":\"tanh\"},\"range\":[-1.5,1.5]},\"legend\":{\"tracegroupgap\":0},\"margin\":{\"t\":60},\"width\":800},                        {\"responsive\": true}                    ).then(function(){\n",
              "                            \n",
              "var gd = document.getElementById('14c21834-be35-4e3e-8ce4-0dfb7286e236');\n",
              "var x = new MutationObserver(function (mutations, observer) {{\n",
              "        var display = window.getComputedStyle(gd).display;\n",
              "        if (!display || display === 'none') {{\n",
              "            console.log([gd, 'removed!']);\n",
              "            Plotly.purge(gd);\n",
              "            observer.disconnect();\n",
              "        }}\n",
              "}});\n",
              "\n",
              "// Listen for the removal of the full notebook cells\n",
              "var notebookContainer = gd.closest('#notebook-container');\n",
              "if (notebookContainer) {{\n",
              "    x.observe(notebookContainer, {childList: true});\n",
              "}}\n",
              "\n",
              "// Listen for the clearing of the current output cell\n",
              "var outputEl = gd.closest('.output');\n",
              "if (outputEl) {{\n",
              "    x.observe(outputEl, {childList: true});\n",
              "}}\n",
              "\n",
              "                        })                };                            </script>        </div>\n",
              "</body>\n",
              "</html>"
            ]
          },
          "metadata": {}
        }
      ]
    },
    {
      "cell_type": "code",
      "metadata": {
        "id": "hUCtW1HMgjkV",
        "colab": {
          "base_uri": "https://localhost:8080/"
        },
        "outputId": "549c2138-de8c-4a87-de68-ed8d8c3df1ad"
      },
      "source": [
        "model = Sequential()\n",
        "model.add(Dense(units=8, activation='relu', input_shape=(10,)))\n",
        "model.add(Dense(units=1, activation='sigmoid'))\n",
        "model.summary()"
      ],
      "execution_count": 14,
      "outputs": [
        {
          "output_type": "stream",
          "name": "stdout",
          "text": [
            "Model: \"sequential_1\"\n",
            "_________________________________________________________________\n",
            " Layer (type)                Output Shape              Param #   \n",
            "=================================================================\n",
            " dense_2 (Dense)             (None, 8)                 88        \n",
            "                                                                 \n",
            " dense_3 (Dense)             (None, 1)                 9         \n",
            "                                                                 \n",
            "=================================================================\n",
            "Total params: 97 (388.00 Byte)\n",
            "Trainable params: 97 (388.00 Byte)\n",
            "Non-trainable params: 0 (0.00 Byte)\n",
            "_________________________________________________________________\n"
          ]
        }
      ]
    },
    {
      "cell_type": "markdown",
      "metadata": {
        "id": "NNWU1zbwimbx"
      },
      "source": [
        "### <a name='a2'></a>Kompilacja modelu\n",
        "Przed rozpoczęciem trenowania sieci należy odpowiednio skonfigurować proces uczenia. W tym kroku określamy:\n",
        "* rodzaj optymalizatora ([Keras - Optymalizatory](https://keras.io/optimizers/))\n",
        "* funkcję straty ([Keras - Funkcje Straty](https://keras.io/losses/))\n",
        "* metryki, które będziemy obserwować podczas trenowania sieci ([Keras - Metryki](https://keras.io/metrics/))"
      ]
    },
    {
      "cell_type": "code",
      "metadata": {
        "id": "oBRtQd7diI0e"
      },
      "source": [
        "# klasyfikacja binarna\n",
        "model.compile(optimizer='rmsprop',\n",
        "              loss='binary_crossentropy',\n",
        "              metrics=['accuracy'])\n",
        "\n",
        "# klasyfikacja wieloklasowa\n",
        "model.compile(optimizer='rmsprop',\n",
        "              loss='categorical_crossentropy',\n",
        "              metrics=['accuracy'])\n",
        "\n",
        "# regresja\n",
        "model.compile(optimizer='rmsprop',\n",
        "              loss='mse')"
      ],
      "execution_count": 15,
      "outputs": []
    },
    {
      "cell_type": "markdown",
      "metadata": {
        "id": "TqsJw4K-knNP"
      },
      "source": [
        "### <a name='a3'></a>Trenowanie modelu\n",
        "Za dane wejściowe do modelu należy przekazać Numpy arrays:\n",
        "* **epochs** - krotność przejścia danych przez sieć w procesie uczenia\n",
        "* **batch_size** - rozmiar wsadu po którym następuje aktualizacja wag\n",
        "* **validation_split** - część danych treningowych, które zostaną wykorzystane jako zbiór walidacyjny\n",
        "* **validation_data** - (x_val, y_val) - dane wykorzystane do walidacji modelu"
      ]
    },
    {
      "cell_type": "code",
      "metadata": {
        "id": "HBn1AzzGkS2h"
      },
      "source": [
        "# model.fit(data, labels, epochs=10, batch_size=32)\n",
        "# model.fit(data, labels, epochs=10, batch_size=32, validation_split=0.2)\n",
        "# model.fit(data, labels, epochs=10, batch_size=32, validation_data=(x_val, y_val))"
      ],
      "execution_count": 16,
      "outputs": []
    },
    {
      "cell_type": "markdown",
      "metadata": {
        "id": "8fmOZzNywvx6"
      },
      "source": [
        "### <a name='a4'></a> Przykład - klasyfikacja binarna"
      ]
    },
    {
      "cell_type": "code",
      "metadata": {
        "id": "gELP58XdwKSj",
        "colab": {
          "base_uri": "https://localhost:8080/"
        },
        "outputId": "494638db-cf89-486f-fa5f-3b67abdaebfb"
      },
      "source": [
        "data = np.random.randn(1000, 150)\n",
        "labels = np.random.randint(2, size=(1000, 1))\n",
        "\n",
        "print(data.shape)\n",
        "print(labels.shape)"
      ],
      "execution_count": 17,
      "outputs": [
        {
          "output_type": "stream",
          "name": "stdout",
          "text": [
            "(1000, 150)\n",
            "(1000, 1)\n"
          ]
        }
      ]
    },
    {
      "cell_type": "code",
      "metadata": {
        "id": "B_ItRZ5EwcdR",
        "colab": {
          "base_uri": "https://localhost:8080/"
        },
        "outputId": "4a7aa93b-9d36-45dc-fff3-6fb3e5c8aeb4"
      },
      "source": [
        "data[:3]"
      ],
      "execution_count": 18,
      "outputs": [
        {
          "output_type": "execute_result",
          "data": {
            "text/plain": [
              "array([[-4.15557175e-01, -4.82186572e-01, -2.81187656e-01,\n",
              "        -4.87395997e-01, -3.10982274e-01,  8.97088943e-01,\n",
              "        -9.31953182e-01, -2.87995900e-01,  1.22939547e+00,\n",
              "         5.19002158e-01,  1.31652940e+00,  8.30591700e-01,\n",
              "        -1.39980919e+00, -1.79488244e-01, -1.03580133e+00,\n",
              "         8.51826969e-01,  6.00898661e-01,  1.37463051e+00,\n",
              "         6.60412501e-01,  7.85483260e-02,  3.26561350e-01,\n",
              "        -8.89756765e-02, -8.54055564e-02,  8.29148977e-02,\n",
              "        -8.17360498e-01,  3.29995927e-01,  1.49690056e+00,\n",
              "         3.13540320e-01, -1.48095071e+00,  7.20677416e-01,\n",
              "        -1.58998593e+00, -6.07657209e-01, -5.20710661e-01,\n",
              "         1.65731576e-01,  2.33100603e-01,  1.32775931e+00,\n",
              "         1.70860404e+00,  1.45682045e+00, -2.69781382e+00,\n",
              "        -2.11174192e-01,  1.01936918e+00,  3.41492390e-01,\n",
              "        -2.04868930e+00,  7.93685219e-01,  2.67542955e-01,\n",
              "        -9.90646074e-01, -6.88679842e-02,  1.22504170e+00,\n",
              "         4.40111469e-02, -1.63046446e-01,  1.29586765e+00,\n",
              "        -4.99008122e-01,  1.43236018e+00,  2.52754751e-01,\n",
              "        -9.30886006e-01, -9.88739025e-01, -1.38439904e+00,\n",
              "        -4.46563140e-01, -3.33597422e-01, -3.11933411e-01,\n",
              "         1.32851140e+00, -1.57250430e-01,  5.80551318e-01,\n",
              "        -2.40415420e+00, -8.75482017e-01, -9.77053061e-01,\n",
              "         1.01455789e+00,  6.54183210e-01, -8.38360209e-01,\n",
              "         1.59480328e+00, -4.07351241e-01, -5.89990767e-01,\n",
              "         5.35497554e-01, -4.74415473e-01,  5.68504497e-01,\n",
              "         2.01431896e+00,  1.77827906e+00,  1.36836610e-01,\n",
              "         7.05164994e-01,  9.58475159e-01,  2.98378538e-01,\n",
              "         4.14719720e-01, -8.33054409e-02, -2.51690583e-02,\n",
              "        -1.37038417e+00, -5.95735825e-01, -2.45661416e-01,\n",
              "        -1.36456422e+00, -1.21156553e-01,  5.52925627e-01,\n",
              "        -1.35078790e+00,  1.42274753e+00,  3.67707037e-01,\n",
              "        -5.13893711e-02,  1.35693438e+00, -6.73472511e-02,\n",
              "         1.81729784e+00,  1.29744125e+00,  9.18686033e-01,\n",
              "        -1.15177552e+00,  9.68207251e-01, -5.34237230e-01,\n",
              "        -1.00962585e+00, -3.20133798e-01,  3.81905337e-01,\n",
              "         1.49234644e-01, -1.14445842e+00,  3.97557798e-01,\n",
              "        -6.46248745e-01, -6.63764385e-01,  1.59889623e+00,\n",
              "         1.59897749e+00, -1.02600590e+00,  1.63512198e-01,\n",
              "         5.73364653e-01, -7.41135727e-01, -1.31323270e+00,\n",
              "        -6.04989800e-01,  7.84107692e-01, -9.85572233e-01,\n",
              "         1.13452773e+00, -6.35673554e-02, -2.49973356e+00,\n",
              "         2.05677479e-01,  1.83530305e-03, -7.56030067e-01,\n",
              "         2.87345575e-01,  8.97562437e-01,  3.49659864e-01,\n",
              "        -1.91336074e+00,  9.65685721e-01,  9.30949010e-01,\n",
              "        -6.81761009e-01, -4.53374031e-01,  4.46003176e-01,\n",
              "        -1.07570208e-01,  1.67336748e+00,  1.50720188e+00,\n",
              "        -8.27033790e-01, -8.27651031e-01, -1.49349519e+00,\n",
              "        -8.90391604e-01,  1.18139683e+00, -1.21477628e-01,\n",
              "         1.60419557e+00, -2.87958170e-01,  1.66734512e-01,\n",
              "        -1.27303992e+00,  1.50020867e+00,  1.12333258e+00],\n",
              "       [ 3.82895618e-01, -6.23254971e-01, -1.85015948e-01,\n",
              "        -5.85632039e-01,  1.71551809e-01, -3.31569287e-01,\n",
              "        -5.82091915e-02,  2.02659785e-01, -1.07050567e+00,\n",
              "         1.38873073e+00,  9.50707489e-01,  1.87268032e-01,\n",
              "         1.05190411e+00, -1.10795741e+00,  1.10633548e+00,\n",
              "        -1.31262236e+00,  5.07310738e-01,  9.98601799e-01,\n",
              "         1.28586675e+00, -1.30614213e-02,  1.05417049e+00,\n",
              "        -1.19112635e+00, -1.17485734e+00, -8.98615290e-01,\n",
              "         1.34703912e-01, -5.64572865e-01, -5.71258381e-01,\n",
              "         3.81790869e-01,  1.65560439e+00, -1.24493558e+00,\n",
              "        -7.13291531e-01, -2.77644723e+00,  5.16435633e-01,\n",
              "        -2.19394662e+00, -6.43835165e-01, -2.04461566e-01,\n",
              "         6.25365905e-01,  1.89693085e-01,  8.98705179e-01,\n",
              "         6.68037578e-01, -1.56317568e-01, -1.11404559e+00,\n",
              "        -5.30577004e-01, -1.40888791e+00,  2.68669228e-01,\n",
              "         8.78446359e-01,  1.36988846e+00,  8.59248362e-01,\n",
              "         1.60731360e+00,  1.39345453e+00, -7.66450320e-01,\n",
              "         4.86737721e-01, -6.51012173e-01,  3.05224969e-01,\n",
              "        -1.49702732e+00, -3.53289080e-01, -5.70027065e-01,\n",
              "        -4.16373661e-02,  6.24368721e-01,  4.22075858e-01,\n",
              "         4.31242175e-01,  1.53109423e+00,  3.20868033e+00,\n",
              "        -8.86999020e-02, -1.33640211e+00, -2.95954315e-01,\n",
              "        -3.59576535e-01, -4.65235440e-01,  3.33999939e-01,\n",
              "        -4.84647100e-01,  1.00765546e+00, -1.43340461e+00,\n",
              "         1.21292262e+00, -2.20799406e+00, -5.81957418e-02,\n",
              "         4.08430347e-01,  1.42056979e+00, -8.61489264e-01,\n",
              "         3.80451289e-01, -1.80371200e-01, -1.92688917e+00,\n",
              "         1.05940371e+00,  4.84104789e-01, -1.62018026e+00,\n",
              "        -1.26815381e-01,  7.38099560e-01, -4.57530238e-01,\n",
              "        -1.15443600e+00,  1.00961112e+00, -1.07550531e+00,\n",
              "        -1.94736668e-01,  9.89392968e-01,  6.50981478e-01,\n",
              "         1.74238325e-01,  1.23412281e+00,  1.88385092e-01,\n",
              "         1.55778561e+00, -2.39735404e+00,  5.00145332e-03,\n",
              "         3.03104719e-01, -1.10706817e+00, -1.86286795e+00,\n",
              "        -1.70007526e-01,  8.99006541e-01, -4.74622954e-01,\n",
              "         8.39494802e-01,  5.34493122e-01, -3.11089006e-02,\n",
              "        -1.04686507e+00, -1.55432130e+00,  5.96666856e-01,\n",
              "         2.96018263e-01,  1.01963583e+00, -2.13643878e-01,\n",
              "        -1.60069414e-02,  4.52245648e-01, -5.87282973e-01,\n",
              "         3.89870215e-01,  5.90593260e-01,  5.60231917e-01,\n",
              "        -1.07577947e+00,  2.12467292e+00, -2.03947732e-01,\n",
              "         5.96937186e-01, -1.14109963e+00,  6.00509766e-02,\n",
              "         1.28760487e-01, -3.52223514e-01, -3.41106031e-01,\n",
              "         5.84204172e-01, -2.63800043e+00, -4.69629056e-01,\n",
              "         6.19831259e-01, -1.36915000e+00, -2.28369757e+00,\n",
              "         1.54302536e+00, -1.12670449e+00, -1.15376643e+00,\n",
              "         1.08601058e+00, -8.39958429e-01,  5.67107877e-01,\n",
              "         1.68125726e+00, -2.33222832e-01, -1.37860552e+00,\n",
              "        -1.88403536e+00,  7.22422172e-01, -9.10034489e-01,\n",
              "        -1.05110414e+00,  1.96230844e-01, -1.16308166e+00],\n",
              "       [-5.06965349e-01, -2.78067441e-01,  1.03799625e+00,\n",
              "        -1.22648087e+00,  3.27553058e-03,  9.60667435e-01,\n",
              "         1.60232443e+00,  7.57819716e-01, -1.89737223e-01,\n",
              "         4.05282039e-01,  8.44068060e-01, -1.51568621e+00,\n",
              "        -1.35488496e+00,  8.42276314e-01, -2.11906736e-02,\n",
              "        -1.22586017e-02, -6.83126528e-01,  3.89455897e-01,\n",
              "        -3.21257119e-02,  7.02929771e-01, -2.62786104e-01,\n",
              "         1.17089497e+00,  6.58007017e-02, -3.12700190e-01,\n",
              "        -6.03581017e-01,  6.18647024e-01, -8.98641301e-01,\n",
              "        -1.54196630e+00,  1.02931235e+00,  3.96404825e-01,\n",
              "        -2.83870623e-01, -3.94095445e-01,  4.80522109e-01,\n",
              "        -1.33532600e+00, -1.23320303e+00,  8.02533309e-01,\n",
              "        -1.98495792e-01,  1.15194918e+00, -9.20158387e-01,\n",
              "        -6.60121854e-02, -2.33290326e-01, -3.26042174e-01,\n",
              "         8.67370113e-01,  1.26050129e-01, -4.92251360e-01,\n",
              "        -8.48405897e-02, -6.49282787e-01,  2.51723809e-01,\n",
              "         6.71650886e-01,  7.40689825e-01,  4.52563367e-01,\n",
              "        -2.63478917e-01,  2.25802527e+00, -3.64518503e-01,\n",
              "         1.27731691e+00, -6.39906649e-02, -7.38399755e-01,\n",
              "        -4.73321869e-02, -2.06166840e+00,  3.37124352e-03,\n",
              "         3.39443380e-01,  3.60869200e-01,  1.17631387e+00,\n",
              "        -5.80683072e-01, -2.81956030e-01, -2.29586523e-01,\n",
              "        -7.69074244e-01, -2.97894025e-03, -7.44702585e-01,\n",
              "         1.22079074e+00, -9.08730266e-01,  8.15384730e-02,\n",
              "        -5.73636551e-01, -6.29269882e-01,  2.57260688e-01,\n",
              "        -3.64183029e-01,  7.16353181e-01,  2.49675543e-01,\n",
              "        -2.22998548e-01, -3.42203109e-01,  1.98344953e+00,\n",
              "         1.95854889e-01, -8.00339050e-01, -1.70762534e+00,\n",
              "        -9.89885092e-02,  4.89132805e-01, -1.21697082e+00,\n",
              "        -9.58146832e-01, -4.82125875e-01,  1.08868353e+00,\n",
              "        -5.53400291e-01, -1.07604654e-02, -8.79651197e-01,\n",
              "        -7.47195194e-01, -2.20945309e+00, -1.34537014e+00,\n",
              "        -5.88378380e-01, -3.84571222e-01, -1.84850958e-01,\n",
              "         4.50934365e-01, -2.96397002e+00,  4.71100764e-01,\n",
              "         1.06983891e-01, -1.85721500e+00,  9.22152383e-01,\n",
              "         4.18159135e-02, -9.83620366e-01,  5.11972994e-02,\n",
              "         1.88554798e+00, -1.35712621e+00,  5.85476578e-01,\n",
              "         3.33514409e-01,  1.36826857e+00, -8.90858945e-01,\n",
              "        -2.02758769e-01,  1.82595317e+00,  8.18748736e-01,\n",
              "        -9.43003344e-02, -9.25968090e-01,  4.86410900e-01,\n",
              "         9.46440768e-03,  1.16914368e+00,  7.71461327e-01,\n",
              "         4.14560750e-01,  3.93415957e-01, -1.27868227e+00,\n",
              "        -5.59104679e-01, -5.80465527e-01, -1.67161698e-01,\n",
              "        -3.08071310e-01, -9.80145355e-01, -1.68761935e-01,\n",
              "         2.33129772e-01,  2.86135959e+00, -2.23310725e-01,\n",
              "        -3.29973246e-01,  1.33628748e+00,  2.22984967e-01,\n",
              "        -4.14425146e-01, -2.29353024e-01, -1.44300795e+00,\n",
              "        -3.34930436e-01, -1.51412821e+00, -5.83021496e-02,\n",
              "         1.97459364e+00, -7.09192416e-01,  1.02255111e+00,\n",
              "         2.06148538e+00, -2.91583485e-01,  1.23008464e+00]])"
            ]
          },
          "metadata": {},
          "execution_count": 18
        }
      ]
    },
    {
      "cell_type": "code",
      "metadata": {
        "id": "2AKkBXaZwmNq",
        "colab": {
          "base_uri": "https://localhost:8080/"
        },
        "outputId": "468440ea-44dc-4c8a-9a9c-7593e3e7b7db"
      },
      "source": [
        "labels[:10]"
      ],
      "execution_count": 19,
      "outputs": [
        {
          "output_type": "execute_result",
          "data": {
            "text/plain": [
              "array([[0],\n",
              "       [0],\n",
              "       [0],\n",
              "       [1],\n",
              "       [1],\n",
              "       [0],\n",
              "       [0],\n",
              "       [0],\n",
              "       [1],\n",
              "       [1]])"
            ]
          },
          "metadata": {},
          "execution_count": 19
        }
      ]
    },
    {
      "cell_type": "code",
      "metadata": {
        "id": "3YmwwLjZwpvE",
        "colab": {
          "base_uri": "https://localhost:8080/"
        },
        "outputId": "babfd16c-0229-4528-e8f6-bd5502f0cfdb"
      },
      "source": [
        "model = Sequential()\n",
        "model.add(Dense(units=32, activation='relu', input_shape=(150,)))\n",
        "model.add(Dense(1, activation='sigmoid'))\n",
        "\n",
        "model.compile(optimizer='rmsprop',\n",
        "              loss='binary_crossentropy',\n",
        "              metrics=['accuracy'])\n",
        "\n",
        "model.fit(data, labels, epochs=20)"
      ],
      "execution_count": 20,
      "outputs": [
        {
          "output_type": "stream",
          "name": "stdout",
          "text": [
            "Epoch 1/20\n",
            "32/32 [==============================] - 1s 2ms/step - loss: 0.9415 - accuracy: 0.5000\n",
            "Epoch 2/20\n",
            "32/32 [==============================] - 0s 2ms/step - loss: 0.7595 - accuracy: 0.5340\n",
            "Epoch 3/20\n",
            "32/32 [==============================] - 0s 2ms/step - loss: 0.6825 - accuracy: 0.5890\n",
            "Epoch 4/20\n",
            "32/32 [==============================] - 0s 2ms/step - loss: 0.6385 - accuracy: 0.6280\n",
            "Epoch 5/20\n",
            "32/32 [==============================] - 0s 2ms/step - loss: 0.6032 - accuracy: 0.6770\n",
            "Epoch 6/20\n",
            "32/32 [==============================] - 0s 2ms/step - loss: 0.5742 - accuracy: 0.7140\n",
            "Epoch 7/20\n",
            "32/32 [==============================] - 0s 2ms/step - loss: 0.5462 - accuracy: 0.7450\n",
            "Epoch 8/20\n",
            "32/32 [==============================] - 0s 2ms/step - loss: 0.5214 - accuracy: 0.7780\n",
            "Epoch 9/20\n",
            "32/32 [==============================] - 0s 2ms/step - loss: 0.4963 - accuracy: 0.7930\n",
            "Epoch 10/20\n",
            "32/32 [==============================] - 0s 2ms/step - loss: 0.4744 - accuracy: 0.8120\n",
            "Epoch 11/20\n",
            "32/32 [==============================] - 0s 2ms/step - loss: 0.4510 - accuracy: 0.8480\n",
            "Epoch 12/20\n",
            "32/32 [==============================] - 0s 2ms/step - loss: 0.4287 - accuracy: 0.8660\n",
            "Epoch 13/20\n",
            "32/32 [==============================] - 0s 2ms/step - loss: 0.4066 - accuracy: 0.8860\n",
            "Epoch 14/20\n",
            "32/32 [==============================] - 0s 2ms/step - loss: 0.3846 - accuracy: 0.8990\n",
            "Epoch 15/20\n",
            "32/32 [==============================] - 0s 2ms/step - loss: 0.3615 - accuracy: 0.9200\n",
            "Epoch 16/20\n",
            "32/32 [==============================] - 0s 2ms/step - loss: 0.3405 - accuracy: 0.9310\n",
            "Epoch 17/20\n",
            "32/32 [==============================] - 0s 2ms/step - loss: 0.3187 - accuracy: 0.9480\n",
            "Epoch 18/20\n",
            "32/32 [==============================] - 0s 2ms/step - loss: 0.2989 - accuracy: 0.9520\n",
            "Epoch 19/20\n",
            "32/32 [==============================] - 0s 2ms/step - loss: 0.2775 - accuracy: 0.9700\n",
            "Epoch 20/20\n",
            "32/32 [==============================] - 0s 2ms/step - loss: 0.2587 - accuracy: 0.9780\n"
          ]
        },
        {
          "output_type": "execute_result",
          "data": {
            "text/plain": [
              "<keras.src.callbacks.History at 0x7ee18b0f5cc0>"
            ]
          },
          "metadata": {},
          "execution_count": 20
        }
      ]
    },
    {
      "cell_type": "code",
      "metadata": {
        "id": "5X_mtwLfy2d9",
        "colab": {
          "base_uri": "https://localhost:8080/"
        },
        "outputId": "a7e0855c-c02a-44ec-f92b-bfcde166a87e"
      },
      "source": [
        "model = Sequential()\n",
        "model.add(Dense(units=32, activation='relu', input_shape=(150,)))\n",
        "model.add(Dense(1, activation='sigmoid'))\n",
        "\n",
        "model.compile(optimizer='rmsprop',\n",
        "              loss='binary_crossentropy',\n",
        "              metrics=['accuracy'])\n",
        "\n",
        "model.fit(data, labels, epochs=20, batch_size=30)"
      ],
      "execution_count": 21,
      "outputs": [
        {
          "output_type": "stream",
          "name": "stdout",
          "text": [
            "Epoch 1/20\n",
            "34/34 [==============================] - 1s 2ms/step - loss: 0.8560 - accuracy: 0.4610\n",
            "Epoch 2/20\n",
            "34/34 [==============================] - 0s 2ms/step - loss: 0.7570 - accuracy: 0.5080\n",
            "Epoch 3/20\n",
            "34/34 [==============================] - 0s 2ms/step - loss: 0.6984 - accuracy: 0.5500\n",
            "Epoch 4/20\n",
            "34/34 [==============================] - 0s 2ms/step - loss: 0.6527 - accuracy: 0.6100\n",
            "Epoch 5/20\n",
            "34/34 [==============================] - 0s 2ms/step - loss: 0.6154 - accuracy: 0.6600\n",
            "Epoch 6/20\n",
            "34/34 [==============================] - 0s 2ms/step - loss: 0.5839 - accuracy: 0.6990\n",
            "Epoch 7/20\n",
            "34/34 [==============================] - 0s 2ms/step - loss: 0.5557 - accuracy: 0.7440\n",
            "Epoch 8/20\n",
            "34/34 [==============================] - 0s 2ms/step - loss: 0.5301 - accuracy: 0.7630\n",
            "Epoch 9/20\n",
            "34/34 [==============================] - 0s 2ms/step - loss: 0.5057 - accuracy: 0.7850\n",
            "Epoch 10/20\n",
            "34/34 [==============================] - 0s 2ms/step - loss: 0.4813 - accuracy: 0.8100\n",
            "Epoch 11/20\n",
            "34/34 [==============================] - 0s 2ms/step - loss: 0.4592 - accuracy: 0.8340\n",
            "Epoch 12/20\n",
            "34/34 [==============================] - 0s 2ms/step - loss: 0.4353 - accuracy: 0.8500\n",
            "Epoch 13/20\n",
            "34/34 [==============================] - 0s 2ms/step - loss: 0.4132 - accuracy: 0.8690\n",
            "Epoch 14/20\n",
            "34/34 [==============================] - 0s 2ms/step - loss: 0.3900 - accuracy: 0.8900\n",
            "Epoch 15/20\n",
            "34/34 [==============================] - 0s 2ms/step - loss: 0.3683 - accuracy: 0.9050\n",
            "Epoch 16/20\n",
            "34/34 [==============================] - 0s 2ms/step - loss: 0.3451 - accuracy: 0.9220\n",
            "Epoch 17/20\n",
            "34/34 [==============================] - 0s 3ms/step - loss: 0.3237 - accuracy: 0.9350\n",
            "Epoch 18/20\n",
            "34/34 [==============================] - 0s 3ms/step - loss: 0.3020 - accuracy: 0.9560\n",
            "Epoch 19/20\n",
            "34/34 [==============================] - 0s 3ms/step - loss: 0.2803 - accuracy: 0.9640\n",
            "Epoch 20/20\n",
            "34/34 [==============================] - 0s 3ms/step - loss: 0.2605 - accuracy: 0.9730\n"
          ]
        },
        {
          "output_type": "execute_result",
          "data": {
            "text/plain": [
              "<keras.src.callbacks.History at 0x7ee18a435420>"
            ]
          },
          "metadata": {},
          "execution_count": 21
        }
      ]
    },
    {
      "cell_type": "code",
      "metadata": {
        "id": "xj5leE1dxK0-",
        "colab": {
          "base_uri": "https://localhost:8080/"
        },
        "outputId": "732bdf76-1657-4eba-a8e4-ae438203d318"
      },
      "source": [
        "model = Sequential()\n",
        "model.add(Dense(units=32, activation='relu', input_shape=(150,)))\n",
        "model.add(Dense(1, activation='sigmoid'))\n",
        "\n",
        "model.compile(optimizer='rmsprop',\n",
        "              loss='binary_crossentropy',\n",
        "              metrics=['accuracy'])\n",
        "\n",
        "model.fit(data, labels, epochs=20, batch_size=32, validation_split=0.2)"
      ],
      "execution_count": 22,
      "outputs": [
        {
          "output_type": "stream",
          "name": "stdout",
          "text": [
            "Epoch 1/20\n",
            "25/25 [==============================] - 1s 12ms/step - loss: 0.7978 - accuracy: 0.5263 - val_loss: 0.8100 - val_accuracy: 0.5000\n",
            "Epoch 2/20\n",
            "25/25 [==============================] - 0s 5ms/step - loss: 0.7050 - accuracy: 0.5738 - val_loss: 0.8048 - val_accuracy: 0.4800\n",
            "Epoch 3/20\n",
            "25/25 [==============================] - 0s 5ms/step - loss: 0.6503 - accuracy: 0.6363 - val_loss: 0.8040 - val_accuracy: 0.4700\n",
            "Epoch 4/20\n",
            "25/25 [==============================] - 0s 6ms/step - loss: 0.6051 - accuracy: 0.6737 - val_loss: 0.8077 - val_accuracy: 0.4700\n",
            "Epoch 5/20\n",
            "25/25 [==============================] - 0s 4ms/step - loss: 0.5678 - accuracy: 0.7237 - val_loss: 0.8140 - val_accuracy: 0.4700\n",
            "Epoch 6/20\n",
            "25/25 [==============================] - 0s 4ms/step - loss: 0.5339 - accuracy: 0.7650 - val_loss: 0.8232 - val_accuracy: 0.4550\n",
            "Epoch 7/20\n",
            "25/25 [==============================] - 0s 5ms/step - loss: 0.5025 - accuracy: 0.7788 - val_loss: 0.8338 - val_accuracy: 0.4350\n",
            "Epoch 8/20\n",
            "25/25 [==============================] - 0s 4ms/step - loss: 0.4749 - accuracy: 0.8050 - val_loss: 0.8444 - val_accuracy: 0.4250\n",
            "Epoch 9/20\n",
            "25/25 [==============================] - 0s 5ms/step - loss: 0.4472 - accuracy: 0.8400 - val_loss: 0.8565 - val_accuracy: 0.4300\n",
            "Epoch 10/20\n",
            "25/25 [==============================] - 0s 5ms/step - loss: 0.4221 - accuracy: 0.8637 - val_loss: 0.8686 - val_accuracy: 0.4300\n",
            "Epoch 11/20\n",
            "25/25 [==============================] - 0s 5ms/step - loss: 0.3973 - accuracy: 0.8788 - val_loss: 0.8804 - val_accuracy: 0.4350\n",
            "Epoch 12/20\n",
            "25/25 [==============================] - 0s 6ms/step - loss: 0.3729 - accuracy: 0.9038 - val_loss: 0.8923 - val_accuracy: 0.4300\n",
            "Epoch 13/20\n",
            "25/25 [==============================] - 0s 5ms/step - loss: 0.3508 - accuracy: 0.9175 - val_loss: 0.9043 - val_accuracy: 0.4350\n",
            "Epoch 14/20\n",
            "25/25 [==============================] - 0s 5ms/step - loss: 0.3279 - accuracy: 0.9350 - val_loss: 0.9189 - val_accuracy: 0.4450\n",
            "Epoch 15/20\n",
            "25/25 [==============================] - 0s 4ms/step - loss: 0.3064 - accuracy: 0.9450 - val_loss: 0.9336 - val_accuracy: 0.4500\n",
            "Epoch 16/20\n",
            "25/25 [==============================] - 0s 5ms/step - loss: 0.2842 - accuracy: 0.9563 - val_loss: 0.9495 - val_accuracy: 0.4500\n",
            "Epoch 17/20\n",
            "25/25 [==============================] - 0s 5ms/step - loss: 0.2638 - accuracy: 0.9725 - val_loss: 0.9646 - val_accuracy: 0.4500\n",
            "Epoch 18/20\n",
            "25/25 [==============================] - 0s 5ms/step - loss: 0.2440 - accuracy: 0.9725 - val_loss: 0.9810 - val_accuracy: 0.4400\n",
            "Epoch 19/20\n",
            "25/25 [==============================] - 0s 5ms/step - loss: 0.2249 - accuracy: 0.9837 - val_loss: 0.9948 - val_accuracy: 0.4450\n",
            "Epoch 20/20\n",
            "25/25 [==============================] - 0s 5ms/step - loss: 0.2063 - accuracy: 0.9912 - val_loss: 1.0122 - val_accuracy: 0.4550\n"
          ]
        },
        {
          "output_type": "execute_result",
          "data": {
            "text/plain": [
              "<keras.src.callbacks.History at 0x7ee18bf56a40>"
            ]
          },
          "metadata": {},
          "execution_count": 22
        }
      ]
    },
    {
      "cell_type": "code",
      "metadata": {
        "id": "N8O4byzjzHJC",
        "colab": {
          "base_uri": "https://localhost:8080/"
        },
        "outputId": "f9369b81-ab1d-423a-f4ab-b99729119b5b"
      },
      "source": [
        "model = Sequential()\n",
        "model.add(Dense(units=32, activation='relu', input_shape=(150,)))\n",
        "model.add(Dense(1, activation='sigmoid'))\n",
        "\n",
        "model.compile(optimizer='rmsprop',\n",
        "              loss='binary_crossentropy',\n",
        "              metrics=['accuracy'])\n",
        "\n",
        "model.fit(data, labels, epochs=20, batch_size=32, validation_split=0.2, verbose=0)"
      ],
      "execution_count": 24,
      "outputs": [
        {
          "output_type": "execute_result",
          "data": {
            "text/plain": [
              "<keras.src.callbacks.History at 0x7ee18bd2c160>"
            ]
          },
          "metadata": {},
          "execution_count": 24
        }
      ]
    },
    {
      "cell_type": "code",
      "metadata": {
        "id": "suJlatlYzQOD"
      },
      "source": [
        "model = Sequential()\n",
        "model.add(Dense(units=32, activation='relu', input_shape=(150,)))\n",
        "model.add(Dense(1, activation='sigmoid'))\n",
        "\n",
        "model.compile(optimizer='rmsprop',\n",
        "              loss='binary_crossentropy',\n",
        "              metrics=['accuracy'])\n",
        "\n",
        "history = model.fit(data, labels, epochs=20, batch_size=32, validation_split=0.2, verbose=0)"
      ],
      "execution_count": 25,
      "outputs": []
    },
    {
      "cell_type": "code",
      "metadata": {
        "id": "InFcS0sgzkf6",
        "colab": {
          "base_uri": "https://localhost:8080/"
        },
        "outputId": "63e5972c-177f-4eb4-d1c4-3e467c5e85d7"
      },
      "source": [
        "metrics = history.history\n",
        "metrics.keys()"
      ],
      "execution_count": 26,
      "outputs": [
        {
          "output_type": "execute_result",
          "data": {
            "text/plain": [
              "dict_keys(['loss', 'accuracy', 'val_loss', 'val_accuracy'])"
            ]
          },
          "metadata": {},
          "execution_count": 26
        }
      ]
    },
    {
      "cell_type": "code",
      "metadata": {
        "id": "d9bUtGmXzzoY",
        "colab": {
          "base_uri": "https://localhost:8080/"
        },
        "outputId": "a6528b58-29d5-4a1d-9bd6-1ac399792611"
      },
      "source": [
        "model = Sequential()\n",
        "model.add(Dense(units=32, activation='relu', input_shape=(150,)))\n",
        "model.add(Dense(1, activation='sigmoid'))\n",
        "\n",
        "model.compile(optimizer='rmsprop',\n",
        "              loss='binary_crossentropy',\n",
        "              metrics=['accuracy'])\n",
        "\n",
        "history = model.fit(data, labels, epochs=20, batch_size=32, validation_split=0.2, verbose=1)"
      ],
      "execution_count": 27,
      "outputs": [
        {
          "output_type": "stream",
          "name": "stdout",
          "text": [
            "Epoch 1/20\n",
            "25/25 [==============================] - 1s 14ms/step - loss: 0.7972 - accuracy: 0.5013 - val_loss: 0.7830 - val_accuracy: 0.4800\n",
            "Epoch 2/20\n",
            "25/25 [==============================] - 0s 5ms/step - loss: 0.7095 - accuracy: 0.5638 - val_loss: 0.7714 - val_accuracy: 0.4650\n",
            "Epoch 3/20\n",
            "25/25 [==============================] - 0s 5ms/step - loss: 0.6618 - accuracy: 0.6087 - val_loss: 0.7665 - val_accuracy: 0.4600\n",
            "Epoch 4/20\n",
            "25/25 [==============================] - 0s 5ms/step - loss: 0.6245 - accuracy: 0.6438 - val_loss: 0.7684 - val_accuracy: 0.4750\n",
            "Epoch 5/20\n",
            "25/25 [==============================] - 0s 4ms/step - loss: 0.5925 - accuracy: 0.6888 - val_loss: 0.7730 - val_accuracy: 0.4700\n",
            "Epoch 6/20\n",
            "25/25 [==============================] - 0s 4ms/step - loss: 0.5635 - accuracy: 0.7163 - val_loss: 0.7786 - val_accuracy: 0.4800\n",
            "Epoch 7/20\n",
            "25/25 [==============================] - 0s 3ms/step - loss: 0.5374 - accuracy: 0.7688 - val_loss: 0.7850 - val_accuracy: 0.4750\n",
            "Epoch 8/20\n",
            "25/25 [==============================] - 0s 3ms/step - loss: 0.5118 - accuracy: 0.7825 - val_loss: 0.7942 - val_accuracy: 0.4800\n",
            "Epoch 9/20\n",
            "25/25 [==============================] - 0s 3ms/step - loss: 0.4877 - accuracy: 0.8188 - val_loss: 0.8023 - val_accuracy: 0.4700\n",
            "Epoch 10/20\n",
            "25/25 [==============================] - 0s 3ms/step - loss: 0.4650 - accuracy: 0.8313 - val_loss: 0.8128 - val_accuracy: 0.4750\n",
            "Epoch 11/20\n",
            "25/25 [==============================] - 0s 4ms/step - loss: 0.4422 - accuracy: 0.8400 - val_loss: 0.8242 - val_accuracy: 0.4700\n",
            "Epoch 12/20\n",
            "25/25 [==============================] - 0s 3ms/step - loss: 0.4207 - accuracy: 0.8625 - val_loss: 0.8347 - val_accuracy: 0.4750\n",
            "Epoch 13/20\n",
            "25/25 [==============================] - 0s 3ms/step - loss: 0.3981 - accuracy: 0.8788 - val_loss: 0.8477 - val_accuracy: 0.4650\n",
            "Epoch 14/20\n",
            "25/25 [==============================] - 0s 3ms/step - loss: 0.3771 - accuracy: 0.8950 - val_loss: 0.8591 - val_accuracy: 0.4650\n",
            "Epoch 15/20\n",
            "25/25 [==============================] - 0s 3ms/step - loss: 0.3561 - accuracy: 0.9112 - val_loss: 0.8695 - val_accuracy: 0.4650\n",
            "Epoch 16/20\n",
            "25/25 [==============================] - 0s 3ms/step - loss: 0.3357 - accuracy: 0.9187 - val_loss: 0.8809 - val_accuracy: 0.4600\n",
            "Epoch 17/20\n",
            "25/25 [==============================] - 0s 4ms/step - loss: 0.3152 - accuracy: 0.9275 - val_loss: 0.8930 - val_accuracy: 0.4700\n",
            "Epoch 18/20\n",
            "25/25 [==============================] - 0s 4ms/step - loss: 0.2953 - accuracy: 0.9438 - val_loss: 0.9065 - val_accuracy: 0.4700\n",
            "Epoch 19/20\n",
            "25/25 [==============================] - 0s 3ms/step - loss: 0.2763 - accuracy: 0.9538 - val_loss: 0.9221 - val_accuracy: 0.4800\n",
            "Epoch 20/20\n",
            "25/25 [==============================] - 0s 3ms/step - loss: 0.2573 - accuracy: 0.9650 - val_loss: 0.9351 - val_accuracy: 0.4850\n"
          ]
        }
      ]
    },
    {
      "cell_type": "code",
      "metadata": {
        "id": "b1xtUueg0Tr9"
      },
      "source": [
        "test_data = np.random.randn(5, 150)\n",
        "test_labels = np.random.randint(2, size=(5, 1))"
      ],
      "execution_count": 28,
      "outputs": []
    },
    {
      "cell_type": "code",
      "metadata": {
        "id": "MIODWVx90nDf",
        "colab": {
          "base_uri": "https://localhost:8080/"
        },
        "outputId": "73d955be-0a9d-4ea2-fc1d-fcd3b9467a25"
      },
      "source": [
        "model.predict(test_data)"
      ],
      "execution_count": 29,
      "outputs": [
        {
          "output_type": "stream",
          "name": "stdout",
          "text": [
            "1/1 [==============================] - 0s 136ms/step\n"
          ]
        },
        {
          "output_type": "execute_result",
          "data": {
            "text/plain": [
              "array([[0.46966472],\n",
              "       [0.8111477 ],\n",
              "       [0.7973784 ],\n",
              "       [0.42475134],\n",
              "       [0.11792617]], dtype=float32)"
            ]
          },
          "metadata": {},
          "execution_count": 29
        }
      ]
    },
    {
      "cell_type": "code",
      "metadata": {
        "id": "Pkv50Web0usG",
        "colab": {
          "base_uri": "https://localhost:8080/"
        },
        "outputId": "342e44a4-041e-48fa-b1eb-2d7b9a09e5d0"
      },
      "source": [
        "np.argmax(model.predict(test_data), axis=1)"
      ],
      "execution_count": 43,
      "outputs": [
        {
          "output_type": "stream",
          "name": "stdout",
          "text": [
            "1/1 [==============================] - 0s 20ms/step\n"
          ]
        },
        {
          "output_type": "execute_result",
          "data": {
            "text/plain": [
              "array([0, 0, 0, 0, 0])"
            ]
          },
          "metadata": {},
          "execution_count": 43
        }
      ]
    },
    {
      "cell_type": "code",
      "metadata": {
        "id": "c142k6Ev14k5",
        "colab": {
          "base_uri": "https://localhost:8080/"
        },
        "outputId": "e0676de2-0780-4492-edcc-23be2ea52ce5"
      },
      "source": [
        "(model.predict(test_data) > .5).astype(np.int32)"
      ],
      "execution_count": 44,
      "outputs": [
        {
          "output_type": "stream",
          "name": "stdout",
          "text": [
            "1/1 [==============================] - 0s 25ms/step\n"
          ]
        },
        {
          "output_type": "execute_result",
          "data": {
            "text/plain": [
              "array([[0],\n",
              "       [1],\n",
              "       [1],\n",
              "       [0],\n",
              "       [0]], dtype=int32)"
            ]
          },
          "metadata": {},
          "execution_count": 44
        }
      ]
    },
    {
      "cell_type": "code",
      "metadata": {
        "id": "AOIhjKe418cH"
      },
      "source": [],
      "execution_count": 44,
      "outputs": []
    },
    {
      "cell_type": "markdown",
      "metadata": {
        "id": "AZymszuI28k-"
      },
      "source": [
        "### <a name='a5'></a> Przykład - klasyfikacja wieloklasowa"
      ]
    },
    {
      "cell_type": "code",
      "metadata": {
        "id": "tWIc_gVG2-_L"
      },
      "source": [
        "data = np.random.random((1000, 150))\n",
        "labels = np.random.randint(10, size=(1000, 1))"
      ],
      "execution_count": 45,
      "outputs": []
    },
    {
      "cell_type": "code",
      "metadata": {
        "id": "fnKrv8Mk3HSs",
        "colab": {
          "base_uri": "https://localhost:8080/"
        },
        "outputId": "3280a59f-9ae2-46b4-e675-62fa3590dc8f"
      },
      "source": [
        "print(data.shape)\n",
        "print(labels.shape)"
      ],
      "execution_count": 46,
      "outputs": [
        {
          "output_type": "stream",
          "name": "stdout",
          "text": [
            "(1000, 150)\n",
            "(1000, 1)\n"
          ]
        }
      ]
    },
    {
      "cell_type": "code",
      "metadata": {
        "id": "GEY2kQdz3Fi2",
        "colab": {
          "base_uri": "https://localhost:8080/"
        },
        "outputId": "b1702488-0516-4f74-c16a-a59dd39ddd3f"
      },
      "source": [
        "data[:3]"
      ],
      "execution_count": 47,
      "outputs": [
        {
          "output_type": "execute_result",
          "data": {
            "text/plain": [
              "array([[0.86875876, 0.84200145, 0.68727188, 0.51572377, 0.75582572,\n",
              "        0.24890209, 0.68961698, 0.04082641, 0.17372523, 0.2156792 ,\n",
              "        0.82483207, 0.86116581, 0.81234909, 0.1022298 , 0.44333539,\n",
              "        0.37237223, 0.06166962, 0.74296856, 0.47201502, 0.29196893,\n",
              "        0.81210766, 0.01717019, 0.94246893, 0.01870073, 0.72847276,\n",
              "        0.00724586, 0.09073973, 0.16062505, 0.88306263, 0.43283107,\n",
              "        0.28312764, 0.9154734 , 0.22705644, 0.69321817, 0.02874669,\n",
              "        0.08428623, 0.47459132, 0.2561379 , 0.43831613, 0.53311951,\n",
              "        0.41443187, 0.26461823, 0.80831986, 0.92757608, 0.92347341,\n",
              "        0.75246625, 0.96764392, 0.97064218, 0.79209995, 0.22094449,\n",
              "        0.15329496, 0.50734161, 0.02779221, 0.77781521, 0.95291727,\n",
              "        0.9680781 , 0.30301451, 0.18416418, 0.41216231, 0.59925252,\n",
              "        0.74558732, 0.15763631, 0.74556273, 0.33110698, 0.38213305,\n",
              "        0.48877187, 0.67578   , 0.19430735, 0.2002467 , 0.75149399,\n",
              "        0.47288783, 0.4697341 , 0.98871027, 0.26120554, 0.92739249,\n",
              "        0.95318837, 0.51178147, 0.77756265, 0.53159476, 0.29738393,\n",
              "        0.77005744, 0.49851375, 0.75003836, 0.30456859, 0.49941213,\n",
              "        0.25185985, 0.1054606 , 0.5863719 , 0.46428295, 0.13026307,\n",
              "        0.66131451, 0.44228871, 0.97490094, 0.6277896 , 0.10766927,\n",
              "        0.6613727 , 0.81206582, 0.82762558, 0.48559622, 0.36563459,\n",
              "        0.39639689, 0.93197986, 0.00882787, 0.58071692, 0.45818941,\n",
              "        0.26404934, 0.81297038, 0.82393029, 0.41524957, 0.6220128 ,\n",
              "        0.04850947, 0.16314778, 0.16227866, 0.42093398, 0.9868574 ,\n",
              "        0.77200856, 0.21199377, 0.21739878, 0.18733592, 0.45832956,\n",
              "        0.70370613, 0.02900444, 0.53533052, 0.34435098, 0.71098566,\n",
              "        0.53029011, 0.42276395, 0.13795917, 0.25515606, 0.45205364,\n",
              "        0.4744353 , 0.00972742, 0.29560028, 0.6459659 , 0.25042397,\n",
              "        0.87142018, 0.73424853, 0.39765944, 0.39939554, 0.73713665,\n",
              "        0.60340085, 0.76848935, 0.82256417, 0.74124576, 0.98362686,\n",
              "        0.641273  , 0.83395923, 0.71588197, 0.53340525, 0.58031201],\n",
              "       [0.3560804 , 0.15412605, 0.64364707, 0.00701467, 0.95722218,\n",
              "        0.18706789, 0.33229986, 0.05661269, 0.55502304, 0.20439726,\n",
              "        0.24151967, 0.69476008, 0.91134144, 0.55211159, 0.64724543,\n",
              "        0.96604411, 0.83266468, 0.73223418, 0.13291729, 0.28402942,\n",
              "        0.27990527, 0.67397765, 0.51304829, 0.68200347, 0.28798025,\n",
              "        0.26342346, 0.81311182, 0.90646172, 0.94198602, 0.66495474,\n",
              "        0.03078171, 0.55843783, 0.46156547, 0.13846898, 0.62337227,\n",
              "        0.74834212, 0.79017368, 0.68666461, 0.614411  , 0.73903491,\n",
              "        0.9706685 , 0.68581208, 0.98345366, 0.39752522, 0.44215141,\n",
              "        0.23718454, 0.91948162, 0.73020138, 0.29035839, 0.33422306,\n",
              "        0.55621768, 0.39997662, 0.94407287, 0.52399089, 0.99855553,\n",
              "        0.40647784, 0.59286737, 0.77803031, 0.73675657, 0.62372263,\n",
              "        0.79068382, 0.12306235, 0.76955204, 0.67078662, 0.23098606,\n",
              "        0.04517563, 0.02230329, 0.01632645, 0.63339689, 0.08179392,\n",
              "        0.37675501, 0.23808405, 0.59687926, 0.72004234, 0.79567324,\n",
              "        0.14939702, 0.67346748, 0.56923301, 0.17208416, 0.36468281,\n",
              "        0.72778142, 0.62609446, 0.68983689, 0.17979667, 0.12415225,\n",
              "        0.03342687, 0.24949591, 0.89219923, 0.91295805, 0.55513907,\n",
              "        0.76652623, 0.90125321, 0.2998027 , 0.93654106, 0.78576388,\n",
              "        0.72781971, 0.0979123 , 0.20005604, 0.45676568, 0.44263293,\n",
              "        0.35554078, 0.99129672, 0.87944113, 0.87293927, 0.00495269,\n",
              "        0.64852841, 0.67911238, 0.99417361, 0.48321779, 0.34315907,\n",
              "        0.81584346, 0.94397081, 0.18593622, 0.87621785, 0.72141957,\n",
              "        0.31967448, 0.78742974, 0.22842554, 0.03714426, 0.14724729,\n",
              "        0.40966233, 0.39498356, 0.14293227, 0.04618306, 0.79154746,\n",
              "        0.23409864, 0.23485954, 0.96883709, 0.4248633 , 0.30961049,\n",
              "        0.72811448, 0.15161504, 0.18496878, 0.21621149, 0.79990428,\n",
              "        0.08086768, 0.34224245, 0.73058115, 0.87144609, 0.29619974,\n",
              "        0.91605066, 0.26513142, 0.1626695 , 0.2997684 , 0.93838169,\n",
              "        0.80811928, 0.62844486, 0.46130795, 0.0088753 , 0.78572901],\n",
              "       [0.36036888, 0.11157997, 0.7832873 , 0.66783022, 0.30672242,\n",
              "        0.41196469, 0.44256502, 0.39054004, 0.45964388, 0.39173994,\n",
              "        0.12647053, 0.46000025, 0.44584388, 0.94832284, 0.24367583,\n",
              "        0.13517269, 0.94226851, 0.20273853, 0.48188387, 0.63665613,\n",
              "        0.62640985, 0.47499545, 0.18438107, 0.73548759, 0.21068811,\n",
              "        0.21094561, 0.42205212, 0.54434226, 0.67249984, 0.10628404,\n",
              "        0.34689891, 0.87961504, 0.52297403, 0.92035576, 0.56048788,\n",
              "        0.33199392, 0.26034071, 0.44594794, 0.87328125, 0.48395421,\n",
              "        0.05342671, 0.77146502, 0.56681583, 0.3580961 , 0.57218541,\n",
              "        0.16537312, 0.45248458, 0.17266684, 0.68994549, 0.41812201,\n",
              "        0.80778016, 0.27906264, 0.14471436, 0.44352941, 0.93326896,\n",
              "        0.38827171, 0.04041286, 0.00489898, 0.64251065, 0.29849617,\n",
              "        0.22811615, 0.41348121, 0.81392869, 0.81573737, 0.35518591,\n",
              "        0.51055695, 0.99967596, 0.04215835, 0.48136137, 0.8533304 ,\n",
              "        0.36594258, 0.33194453, 0.34168418, 0.04349871, 0.86888837,\n",
              "        0.19256194, 0.4422206 , 0.71942523, 0.10014261, 0.48446064,\n",
              "        0.47178163, 0.06772342, 0.46307057, 0.31060396, 0.50555076,\n",
              "        0.75870545, 0.77300397, 0.12512873, 0.67717764, 0.2471865 ,\n",
              "        0.48348514, 0.19899075, 0.38071449, 0.5105758 , 0.46107086,\n",
              "        0.49599367, 0.71463996, 0.4932355 , 0.40808556, 0.77418373,\n",
              "        0.24570013, 0.5774826 , 0.03680384, 0.83355885, 0.16744929,\n",
              "        0.65541279, 0.11656636, 0.8923503 , 0.18742311, 0.79272803,\n",
              "        0.16361103, 0.64438888, 0.39467835, 0.85277665, 0.69216326,\n",
              "        0.05335605, 0.29153221, 0.22602264, 0.24800362, 0.44083727,\n",
              "        0.82158455, 0.55229685, 0.87355754, 0.96179696, 0.814948  ,\n",
              "        0.26537221, 0.67597571, 0.39418174, 0.197473  , 0.82857431,\n",
              "        0.53546595, 0.01780286, 0.40472565, 0.99625384, 0.98587699,\n",
              "        0.51724016, 0.79655537, 0.47399388, 0.64134622, 0.44098478,\n",
              "        0.52279923, 0.34951602, 0.32439527, 0.38293632, 0.93905278,\n",
              "        0.71860419, 0.64565558, 0.58479142, 0.68106091, 0.38756356]])"
            ]
          },
          "metadata": {},
          "execution_count": 47
        }
      ]
    },
    {
      "cell_type": "code",
      "metadata": {
        "id": "-UM9ArPU3GZm",
        "colab": {
          "base_uri": "https://localhost:8080/"
        },
        "outputId": "e276356b-86a7-409c-a153-4e056036b5ca"
      },
      "source": [
        "labels[:10]"
      ],
      "execution_count": 48,
      "outputs": [
        {
          "output_type": "execute_result",
          "data": {
            "text/plain": [
              "array([[1],\n",
              "       [2],\n",
              "       [8],\n",
              "       [2],\n",
              "       [2],\n",
              "       [0],\n",
              "       [0],\n",
              "       [2],\n",
              "       [0],\n",
              "       [2]])"
            ]
          },
          "metadata": {},
          "execution_count": 48
        }
      ]
    },
    {
      "cell_type": "code",
      "metadata": {
        "id": "llauNV3D3OFK",
        "colab": {
          "base_uri": "https://localhost:8080/"
        },
        "outputId": "819276ba-a2aa-431c-80fa-cbf611d285fe"
      },
      "source": [
        "from tensorflow.keras.utils import to_categorical\n",
        "labels = to_categorical(labels, num_classes=10)\n",
        "labels"
      ],
      "execution_count": 49,
      "outputs": [
        {
          "output_type": "execute_result",
          "data": {
            "text/plain": [
              "array([[0., 1., 0., ..., 0., 0., 0.],\n",
              "       [0., 0., 1., ..., 0., 0., 0.],\n",
              "       [0., 0., 0., ..., 0., 1., 0.],\n",
              "       ...,\n",
              "       [0., 1., 0., ..., 0., 0., 0.],\n",
              "       [0., 1., 0., ..., 0., 0., 0.],\n",
              "       [0., 0., 1., ..., 0., 0., 0.]], dtype=float32)"
            ]
          },
          "metadata": {},
          "execution_count": 49
        }
      ]
    },
    {
      "cell_type": "code",
      "metadata": {
        "id": "vORrZXRz7HUp",
        "colab": {
          "base_uri": "https://localhost:8080/"
        },
        "outputId": "953cf3d2-bda4-49ce-fc58-47c09c421118"
      },
      "source": [
        "labels[1]"
      ],
      "execution_count": 50,
      "outputs": [
        {
          "output_type": "execute_result",
          "data": {
            "text/plain": [
              "array([0., 0., 1., 0., 0., 0., 0., 0., 0., 0.], dtype=float32)"
            ]
          },
          "metadata": {},
          "execution_count": 50
        }
      ]
    },
    {
      "cell_type": "code",
      "metadata": {
        "id": "k03Mdkup5yZ1",
        "colab": {
          "base_uri": "https://localhost:8080/"
        },
        "outputId": "ab1ba099-5a1a-4f6f-d847-579b6b1cbd8b"
      },
      "source": [
        "model = Sequential()\n",
        "model.add(Dense(units=32, activation='relu', input_shape=(150,)))\n",
        "model.add(Dense(units=10, activation='softmax'))\n",
        "\n",
        "model.compile(optimizer='rmsprop',\n",
        "              loss='categorical_crossentropy',\n",
        "              metrics=['accuracy'])\n",
        "\n",
        "model.fit(data, labels, batch_size=32, epochs=30, validation_split=0.2)"
      ],
      "execution_count": 51,
      "outputs": [
        {
          "output_type": "stream",
          "name": "stdout",
          "text": [
            "Epoch 1/30\n",
            "25/25 [==============================] - 1s 11ms/step - loss: 2.3775 - accuracy: 0.0988 - val_loss: 2.4001 - val_accuracy: 0.1150\n",
            "Epoch 2/30\n",
            "25/25 [==============================] - 0s 4ms/step - loss: 2.3343 - accuracy: 0.1000 - val_loss: 2.3820 - val_accuracy: 0.0950\n",
            "Epoch 3/30\n",
            "25/25 [==============================] - 0s 3ms/step - loss: 2.3130 - accuracy: 0.1225 - val_loss: 2.3791 - val_accuracy: 0.0850\n",
            "Epoch 4/30\n",
            "25/25 [==============================] - 0s 3ms/step - loss: 2.2984 - accuracy: 0.1250 - val_loss: 2.3842 - val_accuracy: 0.0850\n",
            "Epoch 5/30\n",
            "25/25 [==============================] - 0s 4ms/step - loss: 2.2731 - accuracy: 0.1600 - val_loss: 2.3981 - val_accuracy: 0.1100\n",
            "Epoch 6/30\n",
            "25/25 [==============================] - 0s 4ms/step - loss: 2.2699 - accuracy: 0.1312 - val_loss: 2.3870 - val_accuracy: 0.0900\n",
            "Epoch 7/30\n",
            "25/25 [==============================] - 0s 3ms/step - loss: 2.2522 - accuracy: 0.1637 - val_loss: 2.3910 - val_accuracy: 0.0850\n",
            "Epoch 8/30\n",
            "25/25 [==============================] - 0s 4ms/step - loss: 2.2326 - accuracy: 0.1625 - val_loss: 2.3766 - val_accuracy: 0.0850\n",
            "Epoch 9/30\n",
            "25/25 [==============================] - 0s 3ms/step - loss: 2.2222 - accuracy: 0.1675 - val_loss: 2.3857 - val_accuracy: 0.0950\n",
            "Epoch 10/30\n",
            "25/25 [==============================] - 0s 4ms/step - loss: 2.2030 - accuracy: 0.1800 - val_loss: 2.3752 - val_accuracy: 0.0850\n",
            "Epoch 11/30\n",
            "25/25 [==============================] - 0s 3ms/step - loss: 2.1910 - accuracy: 0.1863 - val_loss: 2.4050 - val_accuracy: 0.1050\n",
            "Epoch 12/30\n",
            "25/25 [==============================] - 0s 3ms/step - loss: 2.1666 - accuracy: 0.2237 - val_loss: 2.4106 - val_accuracy: 0.0800\n",
            "Epoch 13/30\n",
            "25/25 [==============================] - 0s 4ms/step - loss: 2.1605 - accuracy: 0.2275 - val_loss: 2.4206 - val_accuracy: 0.1050\n",
            "Epoch 14/30\n",
            "25/25 [==============================] - 0s 3ms/step - loss: 2.1451 - accuracy: 0.2250 - val_loss: 2.3868 - val_accuracy: 0.0800\n",
            "Epoch 15/30\n",
            "25/25 [==============================] - 0s 4ms/step - loss: 2.1303 - accuracy: 0.2350 - val_loss: 2.3998 - val_accuracy: 0.0800\n",
            "Epoch 16/30\n",
            "25/25 [==============================] - 0s 3ms/step - loss: 2.1147 - accuracy: 0.2488 - val_loss: 2.3943 - val_accuracy: 0.1050\n",
            "Epoch 17/30\n",
            "25/25 [==============================] - 0s 4ms/step - loss: 2.1016 - accuracy: 0.2525 - val_loss: 2.4234 - val_accuracy: 0.1150\n",
            "Epoch 18/30\n",
            "25/25 [==============================] - 0s 3ms/step - loss: 2.0889 - accuracy: 0.2763 - val_loss: 2.4103 - val_accuracy: 0.0800\n",
            "Epoch 19/30\n",
            "25/25 [==============================] - 0s 4ms/step - loss: 2.0728 - accuracy: 0.2600 - val_loss: 2.4293 - val_accuracy: 0.1000\n",
            "Epoch 20/30\n",
            "25/25 [==============================] - 0s 3ms/step - loss: 2.0558 - accuracy: 0.3050 - val_loss: 2.4312 - val_accuracy: 0.0900\n",
            "Epoch 21/30\n",
            "25/25 [==============================] - 0s 3ms/step - loss: 2.0374 - accuracy: 0.2825 - val_loss: 2.4352 - val_accuracy: 0.0900\n",
            "Epoch 22/30\n",
            "25/25 [==============================] - 0s 3ms/step - loss: 2.0247 - accuracy: 0.3137 - val_loss: 2.4302 - val_accuracy: 0.1300\n",
            "Epoch 23/30\n",
            "25/25 [==============================] - 0s 3ms/step - loss: 2.0153 - accuracy: 0.2988 - val_loss: 2.4484 - val_accuracy: 0.0900\n",
            "Epoch 24/30\n",
            "25/25 [==============================] - 0s 3ms/step - loss: 1.9988 - accuracy: 0.3313 - val_loss: 2.4355 - val_accuracy: 0.1250\n",
            "Epoch 25/30\n",
            "25/25 [==============================] - 0s 4ms/step - loss: 1.9771 - accuracy: 0.3363 - val_loss: 2.4533 - val_accuracy: 0.0950\n",
            "Epoch 26/30\n",
            "25/25 [==============================] - 0s 3ms/step - loss: 1.9725 - accuracy: 0.3350 - val_loss: 2.4544 - val_accuracy: 0.1000\n",
            "Epoch 27/30\n",
            "25/25 [==============================] - 0s 3ms/step - loss: 1.9508 - accuracy: 0.3487 - val_loss: 2.4639 - val_accuracy: 0.1050\n",
            "Epoch 28/30\n",
            "25/25 [==============================] - 0s 3ms/step - loss: 1.9372 - accuracy: 0.3525 - val_loss: 2.4737 - val_accuracy: 0.1050\n",
            "Epoch 29/30\n",
            "25/25 [==============================] - 0s 4ms/step - loss: 1.9223 - accuracy: 0.3600 - val_loss: 2.4549 - val_accuracy: 0.1000\n",
            "Epoch 30/30\n",
            "25/25 [==============================] - 0s 3ms/step - loss: 1.9101 - accuracy: 0.3750 - val_loss: 2.4874 - val_accuracy: 0.0950\n"
          ]
        },
        {
          "output_type": "execute_result",
          "data": {
            "text/plain": [
              "<keras.src.callbacks.History at 0x7ee17f2a24a0>"
            ]
          },
          "metadata": {},
          "execution_count": 51
        }
      ]
    },
    {
      "cell_type": "code",
      "metadata": {
        "id": "apTq9u_O63vu",
        "colab": {
          "base_uri": "https://localhost:8080/"
        },
        "outputId": "2909a2da-f34a-411b-fb70-3171b0abe1a4"
      },
      "source": [
        "test_data = np.random.random((10, 150))\n",
        "\n",
        "model.predict(test_data)"
      ],
      "execution_count": 54,
      "outputs": [
        {
          "output_type": "stream",
          "name": "stdout",
          "text": [
            "1/1 [==============================] - 0s 25ms/step\n"
          ]
        },
        {
          "output_type": "execute_result",
          "data": {
            "text/plain": [
              "array([[0.0380523 , 0.13329665, 0.25665566, 0.06641404, 0.09022842,\n",
              "        0.03829172, 0.26083717, 0.04048862, 0.04487998, 0.03085542],\n",
              "       [0.05484024, 0.11270557, 0.15380184, 0.06649917, 0.08436232,\n",
              "        0.07766022, 0.2262202 , 0.09899862, 0.0457454 , 0.07916648],\n",
              "       [0.08049964, 0.04567045, 0.06937389, 0.13422921, 0.11140914,\n",
              "        0.10244563, 0.06209608, 0.19293012, 0.1017898 , 0.09955598],\n",
              "       [0.03514135, 0.16363695, 0.1555697 , 0.13380364, 0.17016411,\n",
              "        0.05041424, 0.08671811, 0.09282511, 0.04046537, 0.07126129],\n",
              "       [0.05617712, 0.04183197, 0.10341062, 0.08044486, 0.06461475,\n",
              "        0.10555308, 0.06771812, 0.27918497, 0.11976185, 0.08130256],\n",
              "       [0.03020177, 0.09911946, 0.24184161, 0.16373031, 0.07503326,\n",
              "        0.05009334, 0.05940568, 0.05207068, 0.09984632, 0.12865765],\n",
              "       [0.08659901, 0.037746  , 0.09988257, 0.19655327, 0.05448239,\n",
              "        0.10059409, 0.10243575, 0.03088001, 0.06498836, 0.22583865],\n",
              "       [0.05442658, 0.11909361, 0.11884934, 0.09372919, 0.07447835,\n",
              "        0.07783844, 0.11366905, 0.07601944, 0.118825  , 0.15307097],\n",
              "       [0.06272669, 0.10060259, 0.0915629 , 0.1596461 , 0.07544513,\n",
              "        0.10611313, 0.21489257, 0.03059661, 0.03937146, 0.11904281],\n",
              "       [0.16323963, 0.08853373, 0.11591569, 0.06667364, 0.12125833,\n",
              "        0.07192602, 0.12121389, 0.12795152, 0.08132356, 0.04196404]],\n",
              "      dtype=float32)"
            ]
          },
          "metadata": {},
          "execution_count": 54
        }
      ]
    },
    {
      "cell_type": "code",
      "metadata": {
        "id": "Pd6vGftg8SHk",
        "colab": {
          "base_uri": "https://localhost:8080/"
        },
        "outputId": "84202134-3b03-4c6d-c6bc-dcb0ceba0e2c"
      },
      "source": [
        "# model.predict_classes(test_data)\n",
        "predict_x=model.predict(test_data)\n",
        "np.argmax(predict_x,axis=1)"
      ],
      "execution_count": 55,
      "outputs": [
        {
          "output_type": "stream",
          "name": "stdout",
          "text": [
            "1/1 [==============================] - 0s 35ms/step\n"
          ]
        },
        {
          "output_type": "execute_result",
          "data": {
            "text/plain": [
              "array([6, 6, 7, 4, 7, 2, 9, 9, 6, 0])"
            ]
          },
          "metadata": {},
          "execution_count": 55
        }
      ]
    },
    {
      "cell_type": "markdown",
      "metadata": {
        "id": "FZuyR0UW8fP2"
      },
      "source": [
        "### <a name='a6'></a> Przykład - regresja"
      ]
    },
    {
      "cell_type": "code",
      "metadata": {
        "id": "Uj04-RVU8WNh"
      },
      "source": [
        "data = np.random.random((1000, 150))\n",
        "labels = 50 * np.random.random(1000)"
      ],
      "execution_count": 56,
      "outputs": []
    },
    {
      "cell_type": "code",
      "metadata": {
        "id": "nzjtUUE38pj4",
        "colab": {
          "base_uri": "https://localhost:8080/"
        },
        "outputId": "ea494ecd-4e70-4f71-df28-8b8c9b1ab910"
      },
      "source": [
        "data[:3]"
      ],
      "execution_count": 57,
      "outputs": [
        {
          "output_type": "execute_result",
          "data": {
            "text/plain": [
              "array([[0.56534481, 0.63125787, 0.32269793, 0.67287387, 0.54429754,\n",
              "        0.64271098, 0.3309149 , 0.77495082, 0.84104937, 0.50828262,\n",
              "        0.95559279, 0.32568072, 0.10414149, 0.20401343, 0.18867935,\n",
              "        0.93452364, 0.6721967 , 0.51405773, 0.8137797 , 0.39318277,\n",
              "        0.50535576, 0.294447  , 0.74125326, 0.26669046, 0.04548281,\n",
              "        0.80583323, 0.53771878, 0.58399853, 0.36729359, 0.34289905,\n",
              "        0.0757532 , 0.63022122, 0.43962627, 0.40690796, 0.93010875,\n",
              "        0.35940715, 0.91834474, 0.96903036, 0.02553611, 0.22441677,\n",
              "        0.64878697, 0.40507888, 0.56576618, 0.23798933, 0.15336744,\n",
              "        0.0556679 , 0.73694091, 0.11778549, 0.31465891, 0.42935904,\n",
              "        0.63507612, 0.17905778, 0.99505463, 0.54380935, 0.306337  ,\n",
              "        0.9269119 , 0.39251058, 0.17151046, 0.83544998, 0.71643151,\n",
              "        0.91237566, 0.49174161, 0.0210837 , 0.44594518, 0.42458785,\n",
              "        0.55193255, 0.33649011, 0.92391278, 0.37212425, 0.52417018,\n",
              "        0.70260294, 0.78731006, 0.24595452, 0.48032755, 0.52714327,\n",
              "        0.41754725, 0.19814032, 0.65622521, 0.21918094, 0.60246446,\n",
              "        0.62971067, 0.35386127, 0.37618623, 0.29515966, 0.98405299,\n",
              "        0.23340062, 0.32131425, 0.4788005 , 0.03034542, 0.22497172,\n",
              "        0.78819331, 0.6029655 , 0.02461547, 0.75763211, 0.29187128,\n",
              "        0.60928799, 0.82335884, 0.2446303 , 0.66281529, 0.87431298,\n",
              "        0.73712646, 0.62373972, 0.22658089, 0.55814676, 0.41603353,\n",
              "        0.07974337, 0.58778826, 0.62185052, 0.83733702, 0.02771638,\n",
              "        0.74884763, 0.80371612, 0.0554978 , 0.04219254, 0.4720208 ,\n",
              "        0.9962475 , 0.97801621, 0.100255  , 0.8721058 , 0.8685103 ,\n",
              "        0.32229111, 0.99432792, 0.27365469, 0.93134983, 0.96438578,\n",
              "        0.14088673, 0.07392137, 0.87195375, 0.73299354, 0.81983315,\n",
              "        0.86849489, 0.62868256, 0.04570632, 0.02799649, 0.7933071 ,\n",
              "        0.15943025, 0.73681094, 0.05267161, 0.93408498, 0.74783624,\n",
              "        0.38935407, 0.52953987, 0.67639368, 0.68289661, 0.99722773,\n",
              "        0.49753079, 0.51418482, 0.25193187, 0.05000367, 0.41157114],\n",
              "       [0.64824321, 0.94728555, 0.061624  , 0.27100971, 0.55501074,\n",
              "        0.47596052, 0.23467882, 0.80971357, 0.69409477, 0.39414494,\n",
              "        0.86245521, 0.23658753, 0.36899222, 0.35538287, 0.41201504,\n",
              "        0.41523718, 0.33317163, 0.94055318, 0.09096721, 0.88133668,\n",
              "        0.30724973, 0.90213164, 0.08744736, 0.89987834, 0.69989306,\n",
              "        0.75234342, 0.86234289, 0.41236887, 0.11633075, 0.78370759,\n",
              "        0.83587481, 0.65548094, 0.29681633, 0.69662985, 0.11466329,\n",
              "        0.32161498, 0.55887253, 0.38947105, 0.34205827, 0.50152945,\n",
              "        0.31275924, 0.61531929, 0.32911546, 0.23053598, 0.80536913,\n",
              "        0.05375224, 0.07183321, 0.26175652, 0.46500837, 0.63313574,\n",
              "        0.40565799, 0.33349003, 0.97120497, 0.15495118, 0.58788294,\n",
              "        0.6365806 , 0.54498169, 0.17830032, 0.4973026 , 0.88826694,\n",
              "        0.67923725, 0.45426254, 0.99393578, 0.28908425, 0.09899943,\n",
              "        0.05737427, 0.87780654, 0.21643253, 0.60313067, 0.60321624,\n",
              "        0.4041847 , 0.08810165, 0.87596235, 0.76280436, 0.95746883,\n",
              "        0.51018277, 0.44076367, 0.97103758, 0.75894013, 0.78130875,\n",
              "        0.30085602, 0.18922985, 0.10848804, 0.18820782, 0.9614587 ,\n",
              "        0.08085636, 0.03046076, 0.47544885, 0.36038551, 0.69969108,\n",
              "        0.33209569, 0.13622947, 0.26948996, 0.6054947 , 0.64416179,\n",
              "        0.69290094, 0.54590808, 0.79814139, 0.7873116 , 0.61195521,\n",
              "        0.33808769, 0.45646735, 0.57366345, 0.00458861, 0.7579551 ,\n",
              "        0.16956319, 0.55225258, 0.45375129, 0.42171169, 0.38257977,\n",
              "        0.7934307 , 0.71415682, 0.59488496, 0.66570213, 0.48958576,\n",
              "        0.33372488, 0.40427063, 0.73518056, 0.05622185, 0.70893534,\n",
              "        0.46633871, 0.92187999, 0.90927241, 0.20903872, 0.34372204,\n",
              "        0.43040181, 0.46863727, 0.37313035, 0.7310418 , 0.21357939,\n",
              "        0.91567356, 0.08153638, 0.42853606, 0.3984881 , 0.25164506,\n",
              "        0.29008501, 0.48573804, 0.13459585, 0.27658275, 0.39032387,\n",
              "        0.6650898 , 0.97624601, 0.94146897, 0.48217083, 0.77237977,\n",
              "        0.35621694, 0.99872355, 0.21632051, 0.73697585, 0.5937166 ],\n",
              "       [0.99432018, 0.63606506, 0.70634457, 0.14058208, 0.19637779,\n",
              "        0.12989409, 0.97351849, 0.30542906, 0.64537459, 0.80294916,\n",
              "        0.2382771 , 0.81165633, 0.99287035, 0.81030121, 0.89312965,\n",
              "        0.53160665, 0.67751415, 0.74478031, 0.61345635, 0.52891869,\n",
              "        0.8219405 , 0.58010605, 0.07568247, 0.40480457, 0.12357777,\n",
              "        0.05367736, 0.74286628, 0.62850285, 0.5422352 , 0.42811889,\n",
              "        0.13794451, 0.74810638, 0.76944402, 0.3836596 , 0.12717535,\n",
              "        0.119073  , 0.8774882 , 0.39067291, 0.29442094, 0.6063795 ,\n",
              "        0.88229073, 0.74074359, 0.73012936, 0.1777135 , 0.33951101,\n",
              "        0.0233299 , 0.28398805, 0.39642145, 0.52164498, 0.69000896,\n",
              "        0.55244695, 0.90788938, 0.51979769, 0.01346764, 0.60667266,\n",
              "        0.24046576, 0.26501569, 0.74600436, 0.67583093, 0.5486998 ,\n",
              "        0.96403072, 0.47588692, 0.7484206 , 0.59267019, 0.38842812,\n",
              "        0.3092052 , 0.58858122, 0.41856709, 0.71754905, 0.46563652,\n",
              "        0.87219868, 0.73032978, 0.03693734, 0.02675491, 0.89426775,\n",
              "        0.65936777, 0.1289191 , 0.6878314 , 0.64522866, 0.81139005,\n",
              "        0.0746435 , 0.76847973, 0.79560954, 0.56558683, 0.83926467,\n",
              "        0.2354554 , 0.32852227, 0.69752258, 0.87413421, 0.77027794,\n",
              "        0.86863876, 0.67062546, 0.62914063, 0.83472831, 0.15142703,\n",
              "        0.23277766, 0.35919059, 0.73620824, 0.43211241, 0.95144462,\n",
              "        0.8401945 , 0.10508568, 0.68915852, 0.77608467, 0.94231099,\n",
              "        0.90621424, 0.97038142, 0.94219929, 0.29970851, 0.26427643,\n",
              "        0.68648055, 0.64971671, 0.53366138, 0.58017643, 0.99661627,\n",
              "        0.15274458, 0.33465233, 0.55107562, 0.29012521, 0.24137754,\n",
              "        0.20042404, 0.16083441, 0.28962804, 0.66025605, 0.92005259,\n",
              "        0.12159814, 0.00317487, 0.7170987 , 0.3626567 , 0.07259922,\n",
              "        0.57677151, 0.88462131, 0.17711557, 0.73327224, 0.88616965,\n",
              "        0.25101871, 0.07383215, 0.90035434, 0.86465085, 0.32734648,\n",
              "        0.12862128, 0.20310895, 0.42501307, 0.5861363 , 0.56952593,\n",
              "        0.45758263, 0.67846775, 0.31191285, 0.723948  , 0.64558813]])"
            ]
          },
          "metadata": {},
          "execution_count": 57
        }
      ]
    },
    {
      "cell_type": "code",
      "metadata": {
        "id": "G9T_X5kr8qht",
        "colab": {
          "base_uri": "https://localhost:8080/"
        },
        "outputId": "e1dc3b4a-0e34-4cba-8e6a-f4945e7edde3"
      },
      "source": [
        "labels[:10]"
      ],
      "execution_count": 58,
      "outputs": [
        {
          "output_type": "execute_result",
          "data": {
            "text/plain": [
              "array([38.42957069, 12.14117749, 26.39300084,  3.67010881, 37.4750839 ,\n",
              "       49.66545631, 42.21636036, 42.78007891, 37.75596061, 14.97195171])"
            ]
          },
          "metadata": {},
          "execution_count": 58
        }
      ]
    },
    {
      "cell_type": "code",
      "metadata": {
        "id": "M3MEGPvy8rqz",
        "colab": {
          "base_uri": "https://localhost:8080/"
        },
        "outputId": "ac1f32a2-7328-4159-a3cc-82a3ff30228e"
      },
      "source": [
        "model = Sequential()\n",
        "model.add(Dense(units=32, activation='relu', input_shape=(150,)))\n",
        "model.add(Dense(units=1))\n",
        "\n",
        "model.compile(optimizer='rmsprop',\n",
        "              loss='mse')\n",
        "\n",
        "model.fit(data, labels, epochs=30, batch_size=32, validation_split=0.2)"
      ],
      "execution_count": 59,
      "outputs": [
        {
          "output_type": "stream",
          "name": "stdout",
          "text": [
            "Epoch 1/30\n",
            "25/25 [==============================] - 1s 12ms/step - loss: 570.8131 - val_loss: 353.6159\n",
            "Epoch 2/30\n",
            "25/25 [==============================] - 0s 5ms/step - loss: 291.3803 - val_loss: 222.4584\n",
            "Epoch 3/30\n",
            "25/25 [==============================] - 0s 5ms/step - loss: 214.6893 - val_loss: 208.2888\n",
            "Epoch 4/30\n",
            "25/25 [==============================] - 0s 4ms/step - loss: 207.8956 - val_loss: 208.3669\n",
            "Epoch 5/30\n",
            "25/25 [==============================] - 0s 6ms/step - loss: 207.1697 - val_loss: 208.1478\n",
            "Epoch 6/30\n",
            "25/25 [==============================] - 0s 5ms/step - loss: 206.6748 - val_loss: 209.8690\n",
            "Epoch 7/30\n",
            "25/25 [==============================] - 0s 5ms/step - loss: 205.4790 - val_loss: 208.1397\n",
            "Epoch 8/30\n",
            "25/25 [==============================] - 0s 4ms/step - loss: 205.0888 - val_loss: 209.6721\n",
            "Epoch 9/30\n",
            "25/25 [==============================] - 0s 4ms/step - loss: 205.2133 - val_loss: 208.2231\n",
            "Epoch 10/30\n",
            "25/25 [==============================] - 0s 4ms/step - loss: 204.2621 - val_loss: 208.9169\n",
            "Epoch 11/30\n",
            "25/25 [==============================] - 0s 5ms/step - loss: 203.5262 - val_loss: 208.7527\n",
            "Epoch 12/30\n",
            "25/25 [==============================] - 0s 5ms/step - loss: 203.1317 - val_loss: 209.5503\n",
            "Epoch 13/30\n",
            "25/25 [==============================] - 0s 5ms/step - loss: 201.9431 - val_loss: 207.8961\n",
            "Epoch 14/30\n",
            "25/25 [==============================] - 0s 5ms/step - loss: 201.4798 - val_loss: 209.7973\n",
            "Epoch 15/30\n",
            "25/25 [==============================] - 0s 5ms/step - loss: 200.5604 - val_loss: 207.9027\n",
            "Epoch 16/30\n",
            "25/25 [==============================] - 0s 4ms/step - loss: 199.8069 - val_loss: 212.0709\n",
            "Epoch 17/30\n",
            "25/25 [==============================] - 0s 4ms/step - loss: 198.9091 - val_loss: 207.9632\n",
            "Epoch 18/30\n",
            "25/25 [==============================] - 0s 4ms/step - loss: 198.5465 - val_loss: 208.9593\n",
            "Epoch 19/30\n",
            "25/25 [==============================] - 0s 4ms/step - loss: 198.0212 - val_loss: 212.1374\n",
            "Epoch 20/30\n",
            "25/25 [==============================] - 0s 4ms/step - loss: 197.5263 - val_loss: 213.8455\n",
            "Epoch 21/30\n",
            "25/25 [==============================] - 0s 3ms/step - loss: 197.2475 - val_loss: 208.4493\n",
            "Epoch 22/30\n",
            "25/25 [==============================] - 0s 3ms/step - loss: 196.1484 - val_loss: 211.7898\n",
            "Epoch 23/30\n",
            "25/25 [==============================] - 0s 3ms/step - loss: 195.9020 - val_loss: 208.9026\n",
            "Epoch 24/30\n",
            "25/25 [==============================] - 0s 3ms/step - loss: 194.6194 - val_loss: 209.6222\n",
            "Epoch 25/30\n",
            "25/25 [==============================] - 0s 3ms/step - loss: 194.1739 - val_loss: 213.6891\n",
            "Epoch 26/30\n",
            "25/25 [==============================] - 0s 3ms/step - loss: 193.2590 - val_loss: 209.3370\n",
            "Epoch 27/30\n",
            "25/25 [==============================] - 0s 3ms/step - loss: 191.9531 - val_loss: 209.0574\n",
            "Epoch 28/30\n",
            "25/25 [==============================] - 0s 4ms/step - loss: 192.3238 - val_loss: 211.7396\n",
            "Epoch 29/30\n",
            "25/25 [==============================] - 0s 3ms/step - loss: 191.5283 - val_loss: 210.7299\n",
            "Epoch 30/30\n",
            "25/25 [==============================] - 0s 3ms/step - loss: 190.4241 - val_loss: 210.4994\n"
          ]
        },
        {
          "output_type": "execute_result",
          "data": {
            "text/plain": [
              "<keras.src.callbacks.History at 0x7ee17f1c9cc0>"
            ]
          },
          "metadata": {},
          "execution_count": 59
        }
      ]
    },
    {
      "cell_type": "code",
      "metadata": {
        "id": "jLUGCiun-ePp",
        "colab": {
          "base_uri": "https://localhost:8080/"
        },
        "outputId": "d7efa551-5aa7-4568-c19c-3bcb0308e330"
      },
      "source": [
        "model = Sequential()\n",
        "model.add(Dense(units=32, activation='relu', input_shape=(150,)))\n",
        "model.add(Dense(units=1))\n",
        "\n",
        "model.compile(optimizer='rmsprop',\n",
        "              loss='mae',\n",
        "              metrics=['mse'])\n",
        "\n",
        "model.fit(data, labels, epochs=30, batch_size=32, validation_split=0.2)"
      ],
      "execution_count": 60,
      "outputs": [
        {
          "output_type": "stream",
          "name": "stdout",
          "text": [
            "Epoch 1/30\n",
            "25/25 [==============================] - 1s 9ms/step - loss: 19.9390 - mse: 575.4040 - val_loss: 15.6062 - val_mse: 368.7408\n",
            "Epoch 2/30\n",
            "25/25 [==============================] - 0s 3ms/step - loss: 14.6369 - mse: 306.0770 - val_loss: 12.8869 - val_mse: 232.9654\n",
            "Epoch 3/30\n",
            "25/25 [==============================] - 0s 4ms/step - loss: 12.8215 - mse: 219.9304 - val_loss: 12.5907 - val_mse: 207.2681\n",
            "Epoch 4/30\n",
            "25/25 [==============================] - 0s 3ms/step - loss: 12.5470 - mse: 207.8455 - val_loss: 12.6865 - val_mse: 209.8238\n",
            "Epoch 5/30\n",
            "25/25 [==============================] - 0s 4ms/step - loss: 12.5259 - mse: 208.0154 - val_loss: 12.6450 - val_mse: 208.3260\n",
            "Epoch 6/30\n",
            "25/25 [==============================] - 0s 4ms/step - loss: 12.5182 - mse: 207.0252 - val_loss: 12.6897 - val_mse: 209.7694\n",
            "Epoch 7/30\n",
            "25/25 [==============================] - 0s 4ms/step - loss: 12.5054 - mse: 207.2789 - val_loss: 12.7358 - val_mse: 211.3631\n",
            "Epoch 8/30\n",
            "25/25 [==============================] - 0s 3ms/step - loss: 12.4675 - mse: 206.1689 - val_loss: 12.6671 - val_mse: 208.8576\n",
            "Epoch 9/30\n",
            "25/25 [==============================] - 0s 4ms/step - loss: 12.4509 - mse: 205.8959 - val_loss: 12.6388 - val_mse: 207.8015\n",
            "Epoch 10/30\n",
            "25/25 [==============================] - 0s 4ms/step - loss: 12.4451 - mse: 205.1956 - val_loss: 12.6368 - val_mse: 207.6761\n",
            "Epoch 11/30\n",
            "25/25 [==============================] - 0s 3ms/step - loss: 12.4145 - mse: 204.2015 - val_loss: 12.6633 - val_mse: 208.4173\n",
            "Epoch 12/30\n",
            "25/25 [==============================] - 0s 3ms/step - loss: 12.3767 - mse: 203.9269 - val_loss: 12.5976 - val_mse: 207.1209\n",
            "Epoch 13/30\n",
            "25/25 [==============================] - 0s 3ms/step - loss: 12.3983 - mse: 204.3848 - val_loss: 12.6554 - val_mse: 207.9785\n",
            "Epoch 14/30\n",
            "25/25 [==============================] - 0s 3ms/step - loss: 12.3590 - mse: 203.1482 - val_loss: 12.6949 - val_mse: 209.4177\n",
            "Epoch 15/30\n",
            "25/25 [==============================] - 0s 3ms/step - loss: 12.3279 - mse: 202.5098 - val_loss: 12.7088 - val_mse: 209.9752\n",
            "Epoch 16/30\n",
            "25/25 [==============================] - 0s 4ms/step - loss: 12.3327 - mse: 203.2854 - val_loss: 12.6635 - val_mse: 208.0051\n",
            "Epoch 17/30\n",
            "25/25 [==============================] - 0s 4ms/step - loss: 12.2998 - mse: 201.8914 - val_loss: 12.6976 - val_mse: 209.2877\n",
            "Epoch 18/30\n",
            "25/25 [==============================] - 0s 3ms/step - loss: 12.2918 - mse: 201.4904 - val_loss: 12.6886 - val_mse: 208.7949\n",
            "Epoch 19/30\n",
            "25/25 [==============================] - 0s 3ms/step - loss: 12.2798 - mse: 201.7510 - val_loss: 12.6428 - val_mse: 207.3595\n",
            "Epoch 20/30\n",
            "25/25 [==============================] - 0s 3ms/step - loss: 12.2221 - mse: 199.9717 - val_loss: 12.6856 - val_mse: 208.5367\n",
            "Epoch 21/30\n",
            "25/25 [==============================] - 0s 3ms/step - loss: 12.2031 - mse: 199.2568 - val_loss: 12.7595 - val_mse: 212.0341\n",
            "Epoch 22/30\n",
            "25/25 [==============================] - 0s 3ms/step - loss: 12.2095 - mse: 200.0863 - val_loss: 12.6549 - val_mse: 207.5226\n",
            "Epoch 23/30\n",
            "25/25 [==============================] - 0s 3ms/step - loss: 12.1905 - mse: 199.5511 - val_loss: 12.6413 - val_mse: 207.1466\n",
            "Epoch 24/30\n",
            "25/25 [==============================] - 0s 4ms/step - loss: 12.1411 - mse: 198.7078 - val_loss: 12.7977 - val_mse: 213.6918\n",
            "Epoch 25/30\n",
            "25/25 [==============================] - 0s 4ms/step - loss: 12.1573 - mse: 199.3996 - val_loss: 12.7221 - val_mse: 210.0252\n",
            "Epoch 26/30\n",
            "25/25 [==============================] - 0s 4ms/step - loss: 12.1194 - mse: 197.5556 - val_loss: 12.6467 - val_mse: 207.2177\n",
            "Epoch 27/30\n",
            "25/25 [==============================] - 0s 3ms/step - loss: 12.1242 - mse: 198.2600 - val_loss: 12.6610 - val_mse: 207.4086\n",
            "Epoch 28/30\n",
            "25/25 [==============================] - 0s 3ms/step - loss: 12.0894 - mse: 197.5742 - val_loss: 12.7246 - val_mse: 210.0868\n",
            "Epoch 29/30\n",
            "25/25 [==============================] - 0s 3ms/step - loss: 12.0796 - mse: 196.7587 - val_loss: 12.7104 - val_mse: 209.2917\n",
            "Epoch 30/30\n",
            "25/25 [==============================] - 0s 3ms/step - loss: 12.0380 - mse: 196.5545 - val_loss: 12.7526 - val_mse: 211.6061\n"
          ]
        },
        {
          "output_type": "execute_result",
          "data": {
            "text/plain": [
              "<keras.src.callbacks.History at 0x7ee17d07b730>"
            ]
          },
          "metadata": {},
          "execution_count": 60
        }
      ]
    },
    {
      "cell_type": "code",
      "metadata": {
        "id": "0T9od2mo9KAF",
        "colab": {
          "base_uri": "https://localhost:8080/",
          "height": 188
        },
        "outputId": "7838cd43-347c-4fe6-ec65-a929c1ff47a6"
      },
      "source": [
        "test_data = np.random.random((10, 150))\n",
        "\n",
        "model.predict(test_data)"
      ],
      "execution_count": null,
      "outputs": [
        {
          "output_type": "execute_result",
          "data": {
            "text/plain": [
              "array([[24.40516 ],\n",
              "       [27.921484],\n",
              "       [23.890505],\n",
              "       [23.812803],\n",
              "       [26.02559 ],\n",
              "       [24.233002],\n",
              "       [23.821136],\n",
              "       [22.760138],\n",
              "       [27.158115],\n",
              "       [26.908585]], dtype=float32)"
            ]
          },
          "metadata": {
            "tags": []
          },
          "execution_count": 44
        }
      ]
    }
  ]
}