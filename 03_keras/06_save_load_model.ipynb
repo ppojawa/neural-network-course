{
  "nbformat": 4,
  "nbformat_minor": 0,
  "metadata": {
    "colab": {
      "name": "Untitled0.ipynb",
      "provenance": [],
      "include_colab_link": true
    },
    "kernelspec": {
      "name": "python3",
      "display_name": "Python 3"
    }
  },
  "cells": [
    {
      "cell_type": "markdown",
      "metadata": {
        "id": "view-in-github",
        "colab_type": "text"
      },
      "source": [
        "<a href=\"https://colab.research.google.com/github/ppojawa/neural-network-course/blob/master/03_keras/06_save_load_model.ipynb\" target=\"_parent\"><img src=\"https://colab.research.google.com/assets/colab-badge.svg\" alt=\"Open In Colab\"/></a>"
      ]
    },
    {
      "cell_type": "markdown",
      "metadata": {
        "id": "yDsCNSGvU6UW"
      },
      "source": [
        "* @author: krakowiakpawel9@gmail.com  \n",
        "* @site: e-smartdata.org"
      ]
    },
    {
      "cell_type": "markdown",
      "metadata": {
        "id": "5gjFu2l9IMsj"
      },
      "source": [
        "### Zapisywanie i ładowanie wag z modelu\n",
        "\n",
        "Celem tego notebook'a jest nauczenie się pracy z obsługą modeli, m.in.:\n",
        " - zapisanie wag po każdej epoce\n",
        " - zapisanie wag po określonej liczbie epok\n",
        " - załadowanie wag\n",
        " - zapisanie całego modelu\n",
        " - załadowanie całego modelu\n",
        "\n",
        "### Spis treści:\n",
        "1. [Import bibliotek](#a0)\n",
        "2. [Załadowanie danych i wstępna eksploracja](#a1)\n",
        "3. [Budowa modelu](#a2)\n",
        "4. [Zapisywanie punktów kontrolnych podczas trenowania](#a3)\n",
        "5. [Załadowanie wag do modelu](#a4)\n",
        "6. [Dodatkowe opcje](#a5)\n",
        "7. [Ręczne zapisywanie wag](#a6)\n",
        "8. [Zapisanie całego modelu](#a7)\n",
        "\n",
        "\n"
      ]
    },
    {
      "cell_type": "markdown",
      "metadata": {
        "id": "54PMwXoAJOhq"
      },
      "source": [
        "### <a name='a0'> </a> 1. Import bibliotek"
      ]
    },
    {
      "cell_type": "code",
      "metadata": {
        "id": "lyxtFjeeGECa"
      },
      "source": [
        "# Przygotowanie środowiska do pracy z Tensorflow 2.0.\n",
        "# Jeśli otrzymasz błąd podczas instalacji Tensorflow uruchom tę komórkę raz jeszcze.\n",
        "\n",
        "# !pip uninstall -y tensorflow\n",
        "# !pip install -q tensorflow==2.0.0"
      ],
      "execution_count": null,
      "outputs": []
    },
    {
      "cell_type": "code",
      "metadata": {
        "id": "IqX0mhs4EXOo",
        "colab": {
          "base_uri": "https://localhost:8080/",
          "height": 36
        },
        "outputId": "e880fe37-e38b-4306-f584-cfe11f70f1e8"
      },
      "source": [
        "import os\n",
        "import matplotlib.pyplot as plt\n",
        "import seaborn as sns\n",
        "\n",
        "import tensorflow as tf\n",
        "from tensorflow.keras.datasets import mnist\n",
        "from tensorflow.keras.models import Sequential\n",
        "from tensorflow.keras.layers import Dense, Dropout\n",
        "\n",
        "sns.set()\n",
        "tf.__version__"
      ],
      "execution_count": 2,
      "outputs": [
        {
          "output_type": "execute_result",
          "data": {
            "text/plain": [
              "'2.15.0'"
            ],
            "application/vnd.google.colaboratory.intrinsic+json": {
              "type": "string"
            }
          },
          "metadata": {},
          "execution_count": 2
        }
      ]
    },
    {
      "cell_type": "markdown",
      "metadata": {
        "id": "sYB9C6JnJYWG"
      },
      "source": [
        "### <a name='a1'> </a> 2. Załadowanie danych i wstępna eksploracja"
      ]
    },
    {
      "cell_type": "code",
      "metadata": {
        "id": "UBD08VRs909Y",
        "colab": {
          "base_uri": "https://localhost:8080/"
        },
        "outputId": "257f7045-0f26-4197-9b1c-72a02af97f52"
      },
      "source": [
        "(train_images, train_labels), (test_images, test_labels) = mnist.load_data()"
      ],
      "execution_count": 3,
      "outputs": [
        {
          "output_type": "stream",
          "name": "stdout",
          "text": [
            "Downloading data from https://storage.googleapis.com/tensorflow/tf-keras-datasets/mnist.npz\n",
            "11490434/11490434 [==============================] - 0s 0us/step\n"
          ]
        }
      ]
    },
    {
      "cell_type": "code",
      "metadata": {
        "id": "3WxmAgGl-eS1",
        "colab": {
          "base_uri": "https://localhost:8080/"
        },
        "outputId": "f08aa911-6c0a-433b-c4ea-1a4bd64d2701"
      },
      "source": [
        "train_images.shape"
      ],
      "execution_count": 4,
      "outputs": [
        {
          "output_type": "execute_result",
          "data": {
            "text/plain": [
              "(60000, 28, 28)"
            ]
          },
          "metadata": {},
          "execution_count": 4
        }
      ]
    },
    {
      "cell_type": "code",
      "metadata": {
        "id": "kddg_vs0-is5",
        "colab": {
          "base_uri": "https://localhost:8080/",
          "height": 423
        },
        "outputId": "e2ac1aec-2582-4221-cfb5-21c71f589324"
      },
      "source": [
        "plt.imshow(train_images[0], cmap='gray_r')\n",
        "plt.grid(False)\n",
        "plt.axis(False)"
      ],
      "execution_count": 5,
      "outputs": [
        {
          "output_type": "execute_result",
          "data": {
            "text/plain": [
              "(-0.5, 27.5, 27.5, -0.5)"
            ]
          },
          "metadata": {},
          "execution_count": 5
        },
        {
          "output_type": "display_data",
          "data": {
            "text/plain": [
              "<Figure size 640x480 with 1 Axes>"
            ],
            "image/png": "[encoded data removed]"
          },
          "metadata": {}
        }
      ]
    },
    {
      "cell_type": "code",
      "metadata": {
        "id": "JTmBsyF8-nFt",
        "colab": {
          "base_uri": "https://localhost:8080/"
        },
        "outputId": "0bccdc9f-1290-4aed-8b56-b18949c71494"
      },
      "source": [
        "train_labels[:10]"
      ],
      "execution_count": 6,
      "outputs": [
        {
          "output_type": "execute_result",
          "data": {
            "text/plain": [
              "array([5, 0, 4, 1, 9, 2, 1, 3, 1, 4], dtype=uint8)"
            ]
          },
          "metadata": {},
          "execution_count": 6
        }
      ]
    },
    {
      "cell_type": "code",
      "metadata": {
        "id": "OgpEXGgd_MTn"
      },
      "source": [
        "train_images = train_images[:1000].reshape(-1, 28 * 28) / 255.\n",
        "test_images = test_images[:1000].reshape(-1, 28 * 28) / 255.\n",
        "\n",
        "train_labels = train_labels[:1000]\n",
        "test_labels = test_labels[:1000]"
      ],
      "execution_count": 7,
      "outputs": []
    },
    {
      "cell_type": "markdown",
      "metadata": {
        "id": "1mOy5Lf3JeRK"
      },
      "source": [
        "### <a name='a2'> </a> 3. Budowa modelu"
      ]
    },
    {
      "cell_type": "code",
      "metadata": {
        "id": "RCKJWnY0_kIb",
        "colab": {
          "base_uri": "https://localhost:8080/"
        },
        "outputId": "19f9506e-3cf1-40a8-f596-2ae0431577eb"
      },
      "source": [
        "def create_model():\n",
        "    model = Sequential()\n",
        "    model.add(Dense(512, activation='relu', input_shape=(784,)))\n",
        "    model.add(Dropout(0.2))\n",
        "    model.add(Dense(10, activation='softmax'))\n",
        "\n",
        "    model.compile(optimizer='adam',\n",
        "                  loss='sparse_categorical_crossentropy',\n",
        "                  metrics=['accuracy'])\n",
        "    return model\n",
        "\n",
        "model = create_model()\n",
        "model.summary()"
      ],
      "execution_count": 8,
      "outputs": [
        {
          "output_type": "stream",
          "name": "stdout",
          "text": [
            "Model: \"sequential\"\n",
            "_________________________________________________________________\n",
            " Layer (type)                Output Shape              Param #   \n",
            "=================================================================\n",
            " dense (Dense)               (None, 512)               401920    \n",
            "                                                                 \n",
            " dropout (Dropout)           (None, 512)               0         \n",
            "                                                                 \n",
            " dense_1 (Dense)             (None, 10)                5130      \n",
            "                                                                 \n",
            "=================================================================\n",
            "Total params: 407050 (1.55 MB)\n",
            "Trainable params: 407050 (1.55 MB)\n",
            "Non-trainable params: 0 (0.00 Byte)\n",
            "_________________________________________________________________\n"
          ]
        }
      ]
    },
    {
      "cell_type": "markdown",
      "metadata": {
        "id": "d3n8nqGqAU1q"
      },
      "source": [
        "### <a name='a3'> </a> 4. Zapisywanie punktów kontrolnych podczas trenowania"
      ]
    },
    {
      "cell_type": "code",
      "metadata": {
        "id": "o-dNZfs-AP4G"
      },
      "source": [
        "checkpoint_path = 'training/cp.ckpt'\n",
        "checkpoint_dir = os.path.dirname(checkpoint_path)"
      ],
      "execution_count": 9,
      "outputs": []
    },
    {
      "cell_type": "code",
      "metadata": {
        "id": "djxpL94pAryk",
        "colab": {
          "base_uri": "https://localhost:8080/"
        },
        "outputId": "f3f9fcdc-e61b-4712-951a-251663223361"
      },
      "source": [
        "from tensorflow.keras.callbacks import ModelCheckpoint\n",
        "\n",
        "cp_callback = ModelCheckpoint(filepath=checkpoint_path,\n",
        "                              save_weights_only=True,\n",
        "                              verbose=1)\n",
        "\n",
        "model.fit(train_images, train_labels, epochs=10, validation_data=(test_images, test_labels), callbacks=[cp_callback])"
      ],
      "execution_count": 10,
      "outputs": [
        {
          "output_type": "stream",
          "name": "stdout",
          "text": [
            "Epoch 1/10\n",
            "32/32 [==============================] - ETA: 0s - loss: 1.1653 - accuracy: 0.6750\n",
            "Epoch 1: saving model to training/cp.ckpt\n",
            "32/32 [==============================] - 1s 21ms/step - loss: 1.1653 - accuracy: 0.6750 - val_loss: 0.7408 - val_accuracy: 0.7640\n",
            "Epoch 2/10\n",
            "26/32 [=======================>......] - ETA: 0s - loss: 0.4154 - accuracy: 0.8810\n",
            "Epoch 2: saving model to training/cp.ckpt\n",
            "32/32 [==============================] - 0s 13ms/step - loss: 0.4185 - accuracy: 0.8790 - val_loss: 0.5332 - val_accuracy: 0.8350\n",
            "Epoch 3/10\n",
            "32/32 [==============================] - ETA: 0s - loss: 0.2859 - accuracy: 0.9320\n",
            "Epoch 3: saving model to training/cp.ckpt\n",
            "32/32 [==============================] - 0s 11ms/step - loss: 0.2859 - accuracy: 0.9320 - val_loss: 0.4766 - val_accuracy: 0.8470\n",
            "Epoch 4/10\n",
            "28/32 [=========================>....] - ETA: 0s - loss: 0.2052 - accuracy: 0.9520\n",
            "Epoch 4: saving model to training/cp.ckpt\n",
            "32/32 [==============================] - 0s 12ms/step - loss: 0.2045 - accuracy: 0.9500 - val_loss: 0.4439 - val_accuracy: 0.8580\n",
            "Epoch 5/10\n",
            "29/32 [==========================>...] - ETA: 0s - loss: 0.1494 - accuracy: 0.9666\n",
            "Epoch 5: saving model to training/cp.ckpt\n",
            "32/32 [==============================] - 0s 9ms/step - loss: 0.1460 - accuracy: 0.9690 - val_loss: 0.4393 - val_accuracy: 0.8600\n",
            "Epoch 6/10\n",
            "27/32 [========================>.....] - ETA: 0s - loss: 0.1128 - accuracy: 0.9792\n",
            "Epoch 6: saving model to training/cp.ckpt\n",
            "32/32 [==============================] - 0s 13ms/step - loss: 0.1089 - accuracy: 0.9820 - val_loss: 0.4166 - val_accuracy: 0.8600\n",
            "Epoch 7/10\n",
            "27/32 [========================>.....] - ETA: 0s - loss: 0.0781 - accuracy: 0.9873\n",
            "Epoch 7: saving model to training/cp.ckpt\n",
            "32/32 [==============================] - 0s 12ms/step - loss: 0.0804 - accuracy: 0.9850 - val_loss: 0.4220 - val_accuracy: 0.8690\n",
            "Epoch 8/10\n",
            "28/32 [=========================>....] - ETA: 0s - loss: 0.0606 - accuracy: 0.9955\n",
            "Epoch 8: saving model to training/cp.ckpt\n",
            "32/32 [==============================] - 0s 12ms/step - loss: 0.0607 - accuracy: 0.9960 - val_loss: 0.4253 - val_accuracy: 0.8620\n",
            "Epoch 9/10\n",
            "26/32 [=======================>......] - ETA: 0s - loss: 0.0503 - accuracy: 0.9988\n",
            "Epoch 9: saving model to training/cp.ckpt\n",
            "32/32 [==============================] - 0s 12ms/step - loss: 0.0516 - accuracy: 0.9990 - val_loss: 0.4269 - val_accuracy: 0.8660\n",
            "Epoch 10/10\n",
            "28/32 [=========================>....] - ETA: 0s - loss: 0.0385 - accuracy: 0.9978\n",
            "Epoch 10: saving model to training/cp.ckpt\n",
            "32/32 [==============================] - 0s 9ms/step - loss: 0.0378 - accuracy: 0.9980 - val_loss: 0.4258 - val_accuracy: 0.8640\n"
          ]
        },
        {
          "output_type": "execute_result",
          "data": {
            "text/plain": [
              "<keras.src.callbacks.History at 0x7d1ad1e4a7d0>"
            ]
          },
          "metadata": {},
          "execution_count": 10
        }
      ]
    },
    {
      "cell_type": "code",
      "metadata": {
        "id": "6BUsATRjBKnY",
        "colab": {
          "base_uri": "https://localhost:8080/"
        },
        "outputId": "f932f7c7-267b-436a-df96-02af63e8711d"
      },
      "source": [
        "ls -l {checkpoint_dir}"
      ],
      "execution_count": 11,
      "outputs": [
        {
          "output_type": "stream",
          "name": "stdout",
          "text": [
            "total 4780\n",
            "-rw-r--r-- 1 root root      71 Jan  2 14:15 checkpoint\n",
            "-rw-r--r-- 1 root root 4886436 Jan  2 14:15 cp.ckpt.data-00000-of-00001\n",
            "-rw-r--r-- 1 root root     978 Jan  2 14:15 cp.ckpt.index\n"
          ]
        }
      ]
    },
    {
      "cell_type": "markdown",
      "metadata": {
        "id": "_NnhVksfB-7r"
      },
      "source": [
        "### <a name='a4'> </a> 5. Załadowanie wag do modelu"
      ]
    },
    {
      "cell_type": "code",
      "metadata": {
        "id": "VGogndNiBnpf",
        "colab": {
          "base_uri": "https://localhost:8080/"
        },
        "outputId": "586d9626-1632-435c-99bf-4b54eec77623"
      },
      "source": [
        "model = create_model()\n",
        "\n",
        "loss, acc = model.evaluate(test_images, test_labels, verbose=2)\n",
        "print(acc)"
      ],
      "execution_count": 12,
      "outputs": [
        {
          "output_type": "stream",
          "name": "stdout",
          "text": [
            "32/32 - 0s - loss: 2.3261 - accuracy: 0.1140 - 290ms/epoch - 9ms/step\n",
            "0.11400000005960464\n"
          ]
        }
      ]
    },
    {
      "cell_type": "code",
      "metadata": {
        "id": "3zGt9VvDCMfF",
        "colab": {
          "base_uri": "https://localhost:8080/"
        },
        "outputId": "c2120279-b4b6-4db1-b823-3fa0bd3e8054"
      },
      "source": [
        "model.load_weights(checkpoint_path)\n",
        "\n",
        "loss, acc = model.evaluate(test_images, test_labels, verbose=2)\n",
        "print(acc)"
      ],
      "execution_count": 13,
      "outputs": [
        {
          "output_type": "stream",
          "name": "stdout",
          "text": [
            "32/32 - 0s - loss: 0.4258 - accuracy: 0.8640 - 94ms/epoch - 3ms/step\n",
            "0.8640000224113464\n"
          ]
        }
      ]
    },
    {
      "cell_type": "markdown",
      "metadata": {
        "id": "mYNgLmH1D05K"
      },
      "source": [
        "### <a name='a5'> </a> 6. Dodatkowe opcje"
      ]
    },
    {
      "cell_type": "code",
      "metadata": {
        "id": "YNxS9XAPHmfj"
      },
      "source": [
        "!rm -rf ./training"
      ],
      "execution_count": 21,
      "outputs": []
    },
    {
      "cell_type": "code",
      "metadata": {
        "id": "a6UE41gQCu6f",
        "colab": {
          "base_uri": "https://localhost:8080/"
        },
        "outputId": "7fc8687d-29b3-4927-f163-045dd6e6bca2"
      },
      "source": [
        "checkpoint_path = 'training/cp-{epoch:04d}.ckpt'\n",
        "checkpoint_dir = os.path.dirname(checkpoint_path)\n",
        "\n",
        "cp_callback = ModelCheckpoint(filepath=checkpoint_path,\n",
        "                              save_weights_only=True,\n",
        "                              period=5,\n",
        "                              verbose=1)\n",
        "\n",
        "model = create_model()\n",
        "model.save_weights(checkpoint_path.format(epoch=0))\n",
        "\n",
        "model.fit(train_images, train_labels, epochs=50, validation_data=(test_images, test_labels), callbacks=[cp_callback], verbose=0)"
      ],
      "execution_count": 22,
      "outputs": [
        {
          "output_type": "stream",
          "name": "stderr",
          "text": [
            "WARNING:tensorflow:`period` argument is deprecated. Please use `save_freq` to specify the frequency in number of batches seen.\n"
          ]
        },
        {
          "output_type": "stream",
          "name": "stdout",
          "text": [
            "\n",
            "Epoch 5: saving model to training/cp-0005.ckpt\n",
            "\n",
            "Epoch 10: saving model to training/cp-0010.ckpt\n",
            "\n",
            "Epoch 15: saving model to training/cp-0015.ckpt\n",
            "\n",
            "Epoch 20: saving model to training/cp-0020.ckpt\n",
            "\n",
            "Epoch 25: saving model to training/cp-0025.ckpt\n",
            "\n",
            "Epoch 30: saving model to training/cp-0030.ckpt\n",
            "\n",
            "Epoch 35: saving model to training/cp-0035.ckpt\n",
            "\n",
            "Epoch 40: saving model to training/cp-0040.ckpt\n",
            "\n",
            "Epoch 45: saving model to training/cp-0045.ckpt\n",
            "\n",
            "Epoch 50: saving model to training/cp-0050.ckpt\n"
          ]
        },
        {
          "output_type": "execute_result",
          "data": {
            "text/plain": [
              "<keras.src.callbacks.History at 0x7d1ac97f4550>"
            ]
          },
          "metadata": {},
          "execution_count": 22
        }
      ]
    },
    {
      "cell_type": "code",
      "metadata": {
        "id": "3-AHX5juEcY9",
        "colab": {
          "base_uri": "https://localhost:8080/"
        },
        "outputId": "48277765-1ab2-42fd-ba51-812e2772d64e"
      },
      "source": [
        "!ls -l ./training"
      ],
      "execution_count": 23,
      "outputs": [
        {
          "output_type": "stream",
          "name": "stdout",
          "text": [
            "total 49360\n",
            "-rw-r--r-- 1 root root      81 Jan  2 14:22 checkpoint\n",
            "-rw-r--r-- 1 root root 1629023 Jan  2 14:22 cp-0000.ckpt.data-00000-of-00001\n",
            "-rw-r--r-- 1 root root     526 Jan  2 14:22 cp-0000.ckpt.index\n",
            "-rw-r--r-- 1 root root 4886448 Jan  2 14:22 cp-0005.ckpt.data-00000-of-00001\n",
            "-rw-r--r-- 1 root root     978 Jan  2 14:22 cp-0005.ckpt.index\n",
            "-rw-r--r-- 1 root root 4886448 Jan  2 14:22 cp-0010.ckpt.data-00000-of-00001\n",
            "-rw-r--r-- 1 root root     978 Jan  2 14:22 cp-0010.ckpt.index\n",
            "-rw-r--r-- 1 root root 4886448 Jan  2 14:22 cp-0015.ckpt.data-00000-of-00001\n",
            "-rw-r--r-- 1 root root     978 Jan  2 14:22 cp-0015.ckpt.index\n",
            "-rw-r--r-- 1 root root 4886448 Jan  2 14:22 cp-0020.ckpt.data-00000-of-00001\n",
            "-rw-r--r-- 1 root root     978 Jan  2 14:22 cp-0020.ckpt.index\n",
            "-rw-r--r-- 1 root root 4886448 Jan  2 14:22 cp-0025.ckpt.data-00000-of-00001\n",
            "-rw-r--r-- 1 root root     978 Jan  2 14:22 cp-0025.ckpt.index\n",
            "-rw-r--r-- 1 root root 4886448 Jan  2 14:22 cp-0030.ckpt.data-00000-of-00001\n",
            "-rw-r--r-- 1 root root     978 Jan  2 14:22 cp-0030.ckpt.index\n",
            "-rw-r--r-- 1 root root 4886448 Jan  2 14:22 cp-0035.ckpt.data-00000-of-00001\n",
            "-rw-r--r-- 1 root root     978 Jan  2 14:22 cp-0035.ckpt.index\n",
            "-rw-r--r-- 1 root root 4886448 Jan  2 14:22 cp-0040.ckpt.data-00000-of-00001\n",
            "-rw-r--r-- 1 root root     978 Jan  2 14:22 cp-0040.ckpt.index\n",
            "-rw-r--r-- 1 root root 4886448 Jan  2 14:22 cp-0045.ckpt.data-00000-of-00001\n",
            "-rw-r--r-- 1 root root     978 Jan  2 14:22 cp-0045.ckpt.index\n",
            "-rw-r--r-- 1 root root 4886448 Jan  2 14:22 cp-0050.ckpt.data-00000-of-00001\n",
            "-rw-r--r-- 1 root root     978 Jan  2 14:22 cp-0050.ckpt.index\n"
          ]
        }
      ]
    },
    {
      "cell_type": "code",
      "metadata": {
        "id": "509374ChEqfh",
        "colab": {
          "base_uri": "https://localhost:8080/",
          "height": 36
        },
        "outputId": "21a4787b-b755-4d32-8013-4132626b8d98"
      },
      "source": [
        "import tensorflow as tf\n",
        "\n",
        "latest = tf.train.latest_checkpoint(checkpoint_dir)\n",
        "latest"
      ],
      "execution_count": 24,
      "outputs": [
        {
          "output_type": "execute_result",
          "data": {
            "text/plain": [
              "'training/cp-0050.ckpt'"
            ],
            "application/vnd.google.colaboratory.intrinsic+json": {
              "type": "string"
            }
          },
          "metadata": {},
          "execution_count": 24
        }
      ]
    },
    {
      "cell_type": "code",
      "metadata": {
        "id": "97MrbQqJFp2s",
        "colab": {
          "base_uri": "https://localhost:8080/"
        },
        "outputId": "41349208-0961-4e77-c37d-697d96deb6ec"
      },
      "source": [
        "model = create_model()\n",
        "model.load_weights(latest)\n",
        "\n",
        "loss, acc = model.evaluate(test_images, test_labels, verbose=2)\n",
        "print(acc)"
      ],
      "execution_count": 25,
      "outputs": [
        {
          "output_type": "stream",
          "name": "stdout",
          "text": [
            "32/32 - 0s - loss: 0.4869 - accuracy: 0.8760 - 391ms/epoch - 12ms/step\n",
            "0.8759999871253967\n"
          ]
        }
      ]
    },
    {
      "cell_type": "markdown",
      "metadata": {
        "id": "mz-fWfcgGKGo"
      },
      "source": [
        "### <a name='a6'> </a> 7. Ręczne zapisywanie wag"
      ]
    },
    {
      "cell_type": "code",
      "metadata": {
        "id": "MKC-tEIHF40H",
        "colab": {
          "base_uri": "https://localhost:8080/"
        },
        "outputId": "8b371d1b-4560-4a27-e718-4cba50c1f258"
      },
      "source": [
        "model.save_weights('./checkpoints/my_checkpoint')\n",
        "\n",
        "model = create_model()\n",
        "\n",
        "model.load_weights('./checkpoints/my_checkpoint')\n",
        "\n",
        "loss, acc = model.evaluate(test_images, test_labels, verbose=2)\n",
        "print(acc)"
      ],
      "execution_count": 26,
      "outputs": [
        {
          "output_type": "stream",
          "name": "stdout",
          "text": [
            "32/32 - 0s - loss: 0.4869 - accuracy: 0.8760 - 266ms/epoch - 8ms/step\n",
            "0.8759999871253967\n"
          ]
        }
      ]
    },
    {
      "cell_type": "code",
      "metadata": {
        "id": "IAD7o2W3GjHm",
        "colab": {
          "base_uri": "https://localhost:8080/"
        },
        "outputId": "96f76d2f-af20-4b6f-b763-50521b355580"
      },
      "source": [
        "!ls -l checkpoints/"
      ],
      "execution_count": 27,
      "outputs": [
        {
          "output_type": "stream",
          "name": "stdout",
          "text": [
            "total 1600\n",
            "-rw-r--r-- 1 root root      83 Jan  2 14:23 checkpoint\n",
            "-rw-r--r-- 1 root root 1629051 Jan  2 14:23 my_checkpoint.data-00000-of-00001\n",
            "-rw-r--r-- 1 root root     526 Jan  2 14:23 my_checkpoint.index\n"
          ]
        }
      ]
    },
    {
      "cell_type": "markdown",
      "metadata": {
        "id": "ZXqSRptdG2ba"
      },
      "source": [
        "### <a name='a7'> </a> 8. Zapisanie całego modelu"
      ]
    },
    {
      "cell_type": "code",
      "metadata": {
        "id": "uUAb5awSGrlF",
        "colab": {
          "base_uri": "https://localhost:8080/"
        },
        "outputId": "c558da1e-b27a-4558-a9db-14c01a0abc01"
      },
      "source": [
        "model = create_model()\n",
        "model.fit(train_images, train_labels, epochs=5)\n",
        "model.save('my_model.h5')\n",
        "model.save('my_model.keras')"
      ],
      "execution_count": 29,
      "outputs": [
        {
          "output_type": "stream",
          "name": "stdout",
          "text": [
            "Epoch 1/5\n",
            "32/32 [==============================] - 1s 6ms/step - loss: 1.1748 - accuracy: 0.6740\n",
            "Epoch 2/5\n",
            "32/32 [==============================] - 0s 6ms/step - loss: 0.4277 - accuracy: 0.8700\n",
            "Epoch 3/5\n",
            "32/32 [==============================] - 0s 6ms/step - loss: 0.2973 - accuracy: 0.9210\n",
            "Epoch 4/5\n",
            "32/32 [==============================] - 0s 6ms/step - loss: 0.2191 - accuracy: 0.9400\n",
            "Epoch 5/5\n",
            "32/32 [==============================] - 0s 6ms/step - loss: 0.1559 - accuracy: 0.9640\n"
          ]
        }
      ]
    },
    {
      "cell_type": "code",
      "metadata": {
        "id": "WCUeP6g0HAL4",
        "colab": {
          "base_uri": "https://localhost:8080/"
        },
        "outputId": "61a46954-2221-4c89-ce8d-9c842537184d"
      },
      "source": [
        "from tensorflow.keras.models import load_model\n",
        "\n",
        "new_model = load_model('my_model.keras')\n",
        "new_model.summary()"
      ],
      "execution_count": 30,
      "outputs": [
        {
          "output_type": "stream",
          "name": "stdout",
          "text": [
            "Model: \"sequential_8\"\n",
            "_________________________________________________________________\n",
            " Layer (type)                Output Shape              Param #   \n",
            "=================================================================\n",
            " dense_16 (Dense)            (None, 512)               401920    \n",
            "                                                                 \n",
            " dropout_8 (Dropout)         (None, 512)               0         \n",
            "                                                                 \n",
            " dense_17 (Dense)            (None, 10)                5130      \n",
            "                                                                 \n",
            "=================================================================\n",
            "Total params: 407050 (1.55 MB)\n",
            "Trainable params: 407050 (1.55 MB)\n",
            "Non-trainable params: 0 (0.00 Byte)\n",
            "_________________________________________________________________\n"
          ]
        }
      ]
    },
    {
      "cell_type": "code",
      "metadata": {
        "id": "jYpSl2VBHhvw",
        "colab": {
          "base_uri": "https://localhost:8080/"
        },
        "outputId": "8ebc0a62-d78b-4645-b59b-267fc13fcf3b"
      },
      "source": [
        "loss, acc = new_model.evaluate(test_images, test_labels, verbose=2)\n",
        "print(acc)"
      ],
      "execution_count": 31,
      "outputs": [
        {
          "output_type": "stream",
          "name": "stdout",
          "text": [
            "32/32 - 0s - loss: 0.4198 - accuracy: 0.8560 - 418ms/epoch - 13ms/step\n",
            "0.8560000061988831\n"
          ]
        }
      ]
    },
    {
      "cell_type": "code",
      "source": [],
      "metadata": {
        "id": "qf9srJwLkSH0"
      },
      "execution_count": null,
      "outputs": []
    }
  ]
}